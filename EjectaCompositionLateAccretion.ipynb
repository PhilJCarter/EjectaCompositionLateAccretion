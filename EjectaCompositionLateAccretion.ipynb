{
 "cells": [
  {
   "cell_type": "markdown",
   "metadata": {
    "tags": []
   },
   "source": [
    "# Did Earth eat its leftovers? Impact ejecta as a component of the late veneer"
   ]
  },
  {
   "cell_type": "markdown",
   "metadata": {
    "tags": []
   },
   "source": [
    "Philip J. Carter$^{1,2}$ and Sarah T. Stewart$^2$\n",
    "\n",
    "<div style=\"font-size: 80%;\">\n",
    "$^1$ School of Physics, University of Bristol</br>\n",
    "$^2$ Department of Earth and Planetary Sciences, University of California, Davis\n",
    "</div>\n",
    "\n",
    "</br>\n",
    "\n",
    "*Modified from a manuscript submitted for publication in PSJ*"
   ]
  },
  {
   "cell_type": "markdown",
   "metadata": {},
   "source": [
    "---\n",
    "> The presence of highly siderophile elements in Earth's mantle indicates that a small percentage of Earth's mass was delivered after the last giant impact in a stage of 'late accretion.' \n",
    "There is ongoing debate about the nature of late-accreted material and the sizes of late-accreted bodies. Earth appears isotopically most similar to enstatite chondrites and achondrites. It has been suggested that late accretion must have been dominated by enstatite-like bodies that originated in the inner disk, rather than ordinary or carbonaceous chondrites. \n",
    "Here, we examine the provenances of 'leftover' planetesimals present in the inner disk in the late stages of accretion simulations. Dynamically excited planet formation produces planets and embryos with similar provenances, suggesting that the Moon-forming impactor may have had a stable isotope composition very similar to the proto-Earth. Commonly, some planetesimal-sized bodies with similar provenances to the Earth-like planets are left at the end of the main stage of growth. The most chemically-similar planetesimals are typically fragments of proto-planets ejected millions of years earlier. If these similar-provenance bodies are later accreted by the planet, they would represent late-accreted mass that naturally matches Earth's composition. \n",
    "The planetesimal-sized bodies that exist during the giant impact phase can have large core mass fractions, with core provenances similar to the proto-Earth. These bodies are an important potential source for highly siderophile elements. The range of core fractions in leftover planetesimals complicates simple inferences as to the mass and origin of late accretion based on the highly siderophile elements in the mantle.\n",
    "\n",
    "*planetesimals – planet formation – cosmochemistry – impact phenomena – Earth – planetary science – meteorites – solar system formation*\n",
    "\n",
    "---"
   ]
  },
  {
   "cell_type": "markdown",
   "metadata": {},
   "source": [
    "**Imports and settings**"
   ]
  },
  {
   "cell_type": "code",
   "execution_count": 1,
   "metadata": {
    "tags": [
     "pkdgrav"
    ]
   },
   "outputs": [
    {
     "name": "stderr",
     "output_type": "stream",
     "text": [
      "/var/folders/h6/hmmnv04938n9h_3t1mpr6zp40000gq/T/ipykernel_17787/530572669.py:3: MatplotlibDeprecationWarning: \n",
      "The mathtext.fallback_to_cm rcparam was deprecated in Matplotlib 3.3 and will be removed two minor releases later.\n",
      "  import matplotlib.pyplot as plt\n",
      "/var/folders/h6/hmmnv04938n9h_3t1mpr6zp40000gq/T/ipykernel_17787/530572669.py:3: MatplotlibDeprecationWarning: Support for setting the 'mathtext.fallback_to_cm' rcParam is deprecated since 3.3 and will be removed two minor releases later; use 'mathtext.fallback : 'cm' instead.\n",
      "  import matplotlib.pyplot as plt\n",
      "/var/folders/h6/hmmnv04938n9h_3t1mpr6zp40000gq/T/ipykernel_17787/530572669.py:3: MatplotlibDeprecationWarning: \n",
      "The validate_bool_maybe_none function was deprecated in Matplotlib 3.3 and will be removed two minor releases later.\n",
      "  import matplotlib.pyplot as plt\n"
     ]
    }
   ],
   "source": [
    "### EjectaCompositionLateAccretion.ipynb\n",
    "\n",
    "import matplotlib.pyplot as plt\n",
    "import matplotlib as mpl\n",
    "import numpy as npy\n",
    "from matplotlib import rc\n",
    "import matplotlib.colors\n",
    "from matplotlib.colors import ListedColormap\n",
    "from matplotlib.colors import LogNorm\n",
    "import matplotlib.ticker as ticker\n",
    "import pkdgrav_ss as pkd\n",
    "import copy\n",
    "import math\n",
    "import ipywidgets as widgets\n",
    "from IPython.display import display\n",
    "\n",
    "%config InlineBackend.figure_format = 'retina'\n",
    "%matplotlib inline\n",
    "\n",
    "txsz = 12\n",
    "rc('font',size=txsz)\n",
    "rc('axes',titlesize=14)\n",
    "rc('axes',labelsize=13)\n",
    "rc('xtick',labelsize=11)\n",
    "rc('ytick',labelsize=11)\n",
    "rc('legend',fontsize=11)\n",
    "\n",
    "mearth = 1./330060.  #mass of Earth in solar masses\n",
    "\n",
    "# set limits for full color scale\n",
    "colbins = 25\n",
    "mincol = 0.5\n",
    "maxcol = 3.0\n",
    "\n",
    "# location of data\n",
    "path = 'data/'\n",
    "loc = path + '022GTJf6hgas/' #'/cfGTruns/022GTJf6hydrogas/' '/cfGTlow/035GTJf6hydrogas/'\n",
    "loc_c = path + '022f6sgas_4/' #'/cfGTruns/022f6simpgas_3/'\n",
    "\n",
    "collmod = True  # LS12 collision model?\n",
    "rho = 2.  # planetesimal density (for size scale)\n",
    "expfac = 6.  # expansion factor"
   ]
  },
  {
   "cell_type": "markdown",
   "metadata": {
    "tags": []
   },
   "source": [
    "## 1. Introduction <a class=\"anchor\" id=\"introduction\"></a>"
   ]
  },
  {
   "cell_type": "markdown",
   "metadata": {},
   "source": [
    "The formation of the terrestrial planets in our solar system is usually considered to occur in a number of distinct (though likely overlapping) phases: planetesimal formation, runaway growth, oligarchic growth, and the culminating chaotic giant impact phase (e.g. [Liu & Ji 2020](#Liu20)). It is generally accepted that the last major accretion event on the Earth – the last giant impact – was the event that led to the formation of the Moon (e.g. [Hartmann & Davis 1975](#Hartmann+Davis); [Cameron & Ward 1976](#Cameron+Ward); [&#262;uk & Stewart 2012](#Cuk12); [Canup 2012](#Canup12); [Reufer et al. 2012](#Reufer12); [Rufu et al. 2017](#Rufu17); [Lock et al. 2018](#Lock18)). The Moon-forming impact is, however, not the absolute end to accretion; indeed, some accretion continues to this day. \n",
    "\n",
    "The extant bodies of the solar system exhibit a wide range of isotopic compositions (e.g. [Dauphas et al. 2004](#Dauphas04); [Fischer-G&ouml;dde & Kleine 2017](#Fischer-Godde17)). In particular, there is extensive evidence across a range of elements for at least two substantially different isotopic reservoirs in the early solar system (e.g. [Burkhardt et al. 2011](#Burkhardt11); [Chen et al. 2011](#Chen11); [Warren 2011](#Warren11); [Budde et al. 2016](#Budde16); [Scott et al. 2018](#Scott18)): the 'non-carbonaceous' reservoir associated with the inner solar system, and the 'carbonaceous' reservoir associated with the outer solar system. None of the chondritic meteorites, often used as proxies for the building blocks of planets, are exact chemical and isotopic matches to Earth, although the enstatite chondrites have very similar isotopes. In some isotope systems the Earth is an end-member, and no mixture of other bodies can match the Earth's chemical and isotopic composition. The planets themselves show significant isotopic differences too, but, puzzlingly, the Moon is almost indistinguishable from the Earth in its isotopic composition (e.g. [Wiechert et al. 2001](#Wiechert01); [Touboul et al. 2007](#Touboul07); [Dauphas et al. 2014](#Dauphas14)).\n",
    "\n",
    "Siderophile ('iron-loving') elements provide key insights into the properties of the growing Earth and the compositional characteristics of accreted bodies. Siderophile elements were variably removed from the mantle of the growing Earth by metal-silicate equilibration during episodes of core formation (e.g. [Wood et al. 2006](#Wood06)), and possibly via sulphide segregation (e.g. [O'Neill 1991](#ONeill91); [Rubie et al. 2016](#Rubie16)). The higher-than-expected abundances and chondritic proportions of highly siderophile elements (HSEs) in the Earth's mantle suggests that a small percentage of the Earth's mass was delivered after the last giant impact in a stage of late accretion, also referred to as the 'late veneer' (e.g. [Walker 2009](#Walker09); [Mann et al. 2012](#Mann12)).\n",
    "\n",
    "There is substantial debate about the origin and bulk and isotopic composition of this late-accreted material (e.g. [Bermingham et al. 2018](#Bermingham18); [Hopp et al. 2020](#Hopp20)), and the sizes of the bodies that delivered it (e.g. [Bottke et al. 2010](#Bottke10); [Schlichting et al. 2012](#Schlichting12); [Brasser et al. 2020](#Brasser20)). The late veneer has commonly been conflated with delivery of volatile elements and compounds to the Earth, usually via 'wet', carbonaceous-chondrite-like or cometary bodies. It has, however, been argued that most of Earth's water arrived before the Moon-forming impact ([Halliday 2013](#Halliday13); [Dauphas & Morbidelli 2013](#Dauphas13); [Greenwood et al. 2018](#Greenwood18)). Earth appears isotopically most similar to the enstatite chondrite family, and it has been suggested that late accretion must also have been dominated by enstatite-like material ([Dauphas 2017](#Dauphas17); [Bermingham et al. 2018](#Bermingham18)), rather than carbonaceous chondrites. The origin of late accreted bodies is unknown. The lack of a substantial outer solar system chemical signature in the silicate Earth suggests that most late-accreted mass originated in the inner disk (e.g. [Marty et al. 2017](#Marty17)). Recent work by [Fischer-G&ouml;dde et al. (2020)](#Fischer-Godde20) and [Hopp et al. (2020)](#Hopp20) suggests that late accretion consisted of a mixture of bodies including carbonaceous-chondrite-like material and mass from an inner solar system reservoir not recorded in the meteorite record.\n",
    "\n",
    "Since the HSEs measured in the Earth are in chondritic proportions, it has generally been assumed that HSEs were delivered by bodies of primordial (undifferentiated) composition. However, there is no requirement that these bodies were undifferentiated, chondrite-like objects. Chondrite parent bodies (or, at least, the unmelted outer layers of bodies from which chondrites may have originated) formed after the first generation of planetesimals, once planet growth had already begun (e.g. [Dauphas & Pourmand 2011](#Dauphas11); [Kruijer et al. 2014](#Kruijer14)). If the late veneer consisted of differentiated planetesimals, or even small embryos (e.g. [Raymond et al. 2013](#Raymond13); [Genda et al. 2017](#Genda17)), it is likely that at least some portion of the impactor's metallic cores would be delivered to the Earth's mantle, rather than sinking to the core (e.g. [Dahl & Stevenson 2010](#Dahl10); [Kendall & Melosh 2016](#Kendall16); [Citron & Stewart 2022](#Citron22)). Thus, the late veneer need not consist of undifferentiated bodies, as long as their HSEs remain in approximately chondritic proportions overall.\n",
    "\n",
    "One expected source of late veneer impactors is the population of planetesimals (or planetesimal-sized bodies) left in the inner solar system at the end of the main stages of accretion (e.g. [Schlichting et al. 2012](#Schlichting12)). In planet formation simulations, a number of planetesimal impacts occur at late times, after the final embryo-embryo giant impacts. In *N*-body simulations these planetesimals are typically assumed to be primordial, and their properties have not been examined closely. These small bodies may, however, have undergone significant collisional processing during the main stages of accretion, or represent fragments ejected from other collisionally evolved bodies (e.g. [Genda et al. 2017](#Genda17_GIFs)).\n",
    "\n",
    "Here, we examine the provenances of these 'leftover' planetesimals, present in the inner disk in the late stages of accretion simulations. Simulations of the intermediate stages of planet growth from previous works are analysed and detailed provenances of each body extracted. We find dynamically excited planet formation can result in terrestrial planets, embryos and planetesimals with similar provenances. We examine and quantify this similarity, and investigate the origins and evolution of these compositionally similar planetary bodies."
   ]
  },
  {
   "cell_type": "markdown",
   "metadata": {
    "tags": []
   },
   "source": [
    "## 2.  Numerical methods"
   ]
  },
  {
   "cell_type": "markdown",
   "metadata": {},
   "source": [
    "The planetary accretion simulations discussed in this work were carried out using a modified version of the PKDGRAV *N*-body code ([Richardson et al. 2000](#Richardson00); [Stadel 2001](#Stadel01)). This code includes gravitational interactions between planetesimals (using a gravity tree), aerodynamic drag from the nebular gas, and planetesimal–planetesimal collisions. This version of PKDGRAV also includes the detailed empirically derived analytical collision model (EDACM) from [Leinhardt & Stewart (2012)](#Leinhardt12) and [Leinhardt et al. (2015)](#Leinhardt15). EDACM provides realistic outcomes for collisions between planetesimals in the gravity-dominated regime. \n",
    "\n",
    "Most of the simulations discussed in this work were previously described in [Carter et al. (2015)](#Carter15); one (022GTJf6hgas) is a new simulation that was conducted with the same version of the PKDGRAV code and the same standard parameters as used in [Carter et al.](#Carter15). We examine two dynamically contrasting scenarios: 'calm accretion' – with no giant planet perturbations, and the 'Grand Tack' model – in which Jupiter migrates inward through the protoplanetary disk and then back out towards its modern orbit. The migration began 2 Myr after the start of the simulations. In both cases, simulations began with either 10$\\,$000 or 100$\\,$000 self-gravitating planetesimals distributed to produce a solid surface density comparable to the minimum mass solar nebula (MMSN) on 'cold', near-circular orbits around a one solar mass star. These planetesimals have radii greater than 100 km (masses greater than $1 \\times 10^{-5}$ M$_\\oplus$) and are therefore assumed to be differentiated into an iron core and silicate mantle from the start of the simulations.\n",
    "\n",
    "Our simulations used radius enhancement to increase the collisional cross-section and speed up the evolution (see [Kokubo & Ida 2002](#Kokubo+Ida02); [Carter et al. 2015](#Carter15); [S&uuml;li 2021](#Suli21) for further discussion). \n",
    "Radius enhancement reduces the time between collisions, and thus changes the effective timescale of the simulations. While there are many bodies and frequent interactions radius enhancement does not affect the accuracy of the simulations ([Kokubo & Ida 1996](#Kokubo+Ida96)). Collisions close to escape velocity will have reduced impact velocities due to the enhanced radii ([Carter et al. 2015](#Carter15); [S&uuml;li 2021](#Suli21)), which may lead to a small underestimate of the degree of collisional erosion. \n",
    "With particle radii enhanced by a factor of 6, the 600$\\,$000 year integration time represents an effective duration of ~21 Myr. Thus, the simulations evolve the protoplanetary disk through the runaway and oligarchic growth phases, but end before the conclusion of the giant impact stage of terrestrial planet formation. \n",
    "\n",
    "PKDGRAV uses a second-order integrator; this integrator is fast, but lacks the accuracy of the higher-order methods typically used for simulations of the giant impact stage (e.g. [Duncan et al. 1998](#Duncan98); [Chambers 2001](#Chambers01)). While the second-order integrator is advantageous during the early and intermediate stages of growth when there are many bodies and many interactions, it is unclear whether the accuracy would be sufficient to model the long-term orbital evolution of the smaller numbers of bodies present during the bulk of the giant impact phase.\n",
    "\n",
    "The properties of planetesimals and other planetary bodies at the end of these simulations could be considered representative of the initial compositions of bodies in 'classical' simulations of the giant impact phase of planet formation (e.g. [Chambers 2001](#Chambers01); [Walsh et al. 2011](#Walsh11)), though care must be taken due to differing evolutionary timescales across the disk ([Carter et al. 2015](#Carter15); [Walsh & Levison 2019](#Walsh19)). The effective times should not be considered to be precise; however, this imprecision is not important for the outcomes of collisions or the compositional evolution that occurs during accretion.\n",
    "\n",
    "The collision model, EDACM, calculates the size and velocity distribution of post-collision remnants and fragments (third largest and smaller post-collision bodies) from the standard collision parameters: impact angle, mass ratio, and impact velocity (see [Leinhardt & Stewart 2012](#Leinhardt12); [Stewart & Leinhardt 2012](#Stewart12); [Leinhardt et al. 2015](#Leinhardt15)). When using a collision model that can produce fragments in an *N*-body code it is necessary to prevent production of increasing numbers of small fragment particles, usually by imposing a mass limit on fragments. Several authors have placed any remaining fragment mass back onto the largest post-collision remnant, or distributed this mass between a small number of fragments (e.g. [Chambers 2013](#Chambers13)). In PKDGRAV, mass assigned to fragments that would fall below this mass (or resolution) limit, $M_\\mathrm{min}$, is instead placed in a debris annulus corresponding to the location in the disk at which the collision occurred. This 'unresolved debris' is distributed in 0.1 au wide annular bins throughout the modeled region of the disk. The unresolved debris consists of both 'core' and 'mantle' components. As well as being generated in collisions, the debris is re-accreted by resolved planetesimals on non-circular orbits passing through each annulus ([Leinhardt & Richardson 2005](#Leinhardt05); [Carter et al. 2015](#Carter15); [Leinhardt et al. 2015](#Leinhardt15)). The small scale debris is thus recycled and the instantaneous mass in debris never grows to a large fraction of the total mass, even though a large fraction of the total mass is processed through this debris ([Bonsor et al. 2015](#Bonsor15); [Carter et al. 2015](#Carter15); [Davies et al. 2020](#Davies20)).\n",
    "\n",
    "After each collision, the core and mantle components of the impactors are distributed to post-collision remnants and fragments according to a mantle stripping law based on [Marcus et al. (2010)](#Marcus10). The simulations discussed in this work used mantle stripping 'model 3' as defined in [Carter et al. (2015)](#Carter15) as the average of the two models given by [Marcus et al.](#Marcus10). We note that the way core material was distributed to smaller post-collision bodies in these simulations – assigning core mass first to 'fill' remnants/fragments in descending mass order – may overproduce high core mass fraction bodies (see [Carter et al. 2018](#Carter18)). Core and mantle masses remain distinct throughout the simulations; we neglect chemical exchange and re-equilibration.\n",
    "\n",
    "The migration of Jupiter in the Grand Tack model is achieved by imposing an acceleration on the particle representing the giant planet. The planetesimals experience aerodynamic drag from the nebular gas based on the prescription of [Adachi et al. (1976)](#Adachi76); calculated using natural, not enhanced, radii. \n",
    "The nebular gas surface density profile is based either on the MMSN, or a denser gas disk with gaps produced by the giant planets based on [Morbidelli & Crida (2007)](#Morbi07) as used in several previous works (e.g. [Walsh et al. 2011](#Walsh11); [Raymond & Izidoro 2017](#Raymond17); [Carter et al. 2015](#Carter15); [Carter & Stewart 2020](#CarterStewart20)) – which we refer to in the rest of this work as the MC gas profile. \n",
    "After ~2 Myr (the time corresponding to giant planet migration), the nebula dispersed with an e-folding timescale, $\\tau_\\mathrm{gas}$, of 0.1 Myr in most simulations. In two of the calm accretion simulations the nebular gas surface density remained unchanged throughout the simulation run.\n",
    "\n",
    "A summary of the simulations discussed in this work is given in Table [1](#t:sims). Further details on all aspects of the simulations can be found in [Carter et al. (2015)](#Carter15)."
   ]
  },
  {
   "cell_type": "markdown",
   "metadata": {},
   "source": [
    "<a class=\"anchor\" id=\"t:sims\"></a>\n",
    "**Table 1:** *Summary of PKDGRAV planet formation simulations examined in this work.*"
   ]
  },
  {
   "cell_type": "markdown",
   "metadata": {},
   "source": [
    "| Simulation                | Type | *N*        | Outer edge (au) | Disk mass (M$_\\oplus$) | Core fraction | Gas disk | $\\tau_\\mathrm{gas}$ (kyr) | $$M_\\mathrm{min}$$&nbsp;(M$_\\oplus$) |\n",
    "| :------------------- | :--: | ---------: | :-------------: | :--------------------: | :-----------: | :------: | :---------------------------------: | :----------------------------: |\n",
    "| 022GTJf6hgas              | GT   | 100&#8239;000 | 3.0             | 4.85                   | 0.22          | MC       | 100                      | $2\\times10^{-5}$ |\n",
    "| 022GTJf6hgas\\_2&nbsp;(27) | GT   | 10&#8239;000  | 3.0             | 4.85                   | 0.22          | MC       | 100                      | $2\\times10^{-4}$ |\n",
    "| 035GTJf6hgas&nbsp;(28)    | GT   | 10&#8239;000  | 3.0             | 4.85                   | 0.35          | MC       | 100                      | $2\\times10^{-4}$ |\n",
    "| 022f6sgas\\_3&nbsp;(14)    | calm | 100&#8239;000 | 1.5             | 2.5                    | 0.22          | MMSN     | --                      | $1\\times10^{-5}$ |\n",
    "| 022f6sgas\\_4&nbsp;(18)    | calm | 100&#8239;000 | 1.5             | 2.5                    | 0.22          | MMSN     | 100                      | $1\\times10^{-5}$ |\n",
    "| 035f6sgas&nbsp;(15)       | calm | 100&#8239;000 | 1.5             | 2.5                    | 0.35          | MMSN     | --                      | $1\\times10^{-5}$ |\n",
    "| 035f6sgas\\_2&nbsp;(19)    | calm | 100&#8239;000 | 1.5             | 2.5                    | 0.35          | MMSN     | 100                      | $1\\times10^{-5}$ |"
   ]
  },
  {
   "cell_type": "markdown",
   "metadata": {},
   "source": [
    "*Note: The numbers in parentheses after the simulation name are the simulation IDs given in table 4 of [Carter et al. (2015)](#Carter15); *N* is the initial number of planetesimals; the inner edge of the planetesimal disk was 0.5 au in all cases; $\\tau_\\mathrm{gas}$ is the gas dissipation timescale and giant planet migration timescale, '--' indicates the gas density remained constant throughout; $M_\\mathrm{min}$ is the mass resolution limit; and M$_\\oplus$ is the mass of the Earth.*\n"
   ]
  },
  {
   "cell_type": "markdown",
   "metadata": {},
   "source": [
    "### 2.1. Tracking provenance\n",
    "\n",
    "\n",
    "The provenance of a body indicates the radial location in the disk from which its mass originated. Provenance histograms correspond to the same 0.1 au wide annuli as the unresolved debris bins. \n",
    "All bodies begin with their provenance (numerical composition) defined according to their initial radial location. \n",
    "This tracking scheme is motivated by the idea of radial gradients or zoning in the initial bulk and isotopic composition of solids in the disk (e.g. [Dauphas et al. 2004](#Dauphas04); [Fischer-G&ouml;dde & Kleine 2017](#Fischer-Godde17)). \n",
    "The provenance of a body evolves any time the body experiences a collision or accretes debris. Unlike in most other *N*-body simulations, in this work, planetesimals can accrete both via collisions with other resolved bodies and via unresolved debris. Remnants and fragments of collisions are updated to have the mass-weighted average provenance of the impactors (examples of these provenances are shown in Figure [1](#f:ccexample)). Each unresolved debris bin also has its provenance histogram averaged with newly produced debris (weighted by mass) after each collision that occurs in that annulus. \n",
    "This model does not include the formation of new planetesimals directly from dust or pebbles. \n",
    "\n",
    "We extracted the provenance histograms – arrays of mass fraction derived from each radial bin – for all bodies at regular intervals throughout the simulations. The provenances of the metallic cores of these differentiated bodies were also extracted. These provenances can be compared by calculating the Pearson correlation coefficient of the provenance histograms of any pair of bodies. Examples of provenances and correlations are given in Figure [1](#f:ccexample). A correlation coefficient of $+$1 indicates a perfect match in provenance, the first row of Figure [1](#f:ccexample) shows a very close match with a coefficient of $+$0.97. Large negative values occur when most of the radial bins have substantially differing contributions between the two bodies. For example, the final row in Figure [1](#f:ccexample) shows one embryo with substantial material from all but the first bin, and a second embryo that acquired the majority of it's mass from the first bin, thus leading to a correlation coefficient of $-$0.32. Perfect anti-correlation ($-$1) is very unlikely to occur. As well as the full mass-origin distribution or 'provenance histogram' for a body, we can also calculate a mass-weighted mean origin distance for each body, which we represent by the color corresponding to that original location in the disk. The top left embryo in Figure [1](#f:ccexample) acquired most of its mass from yellow-colored bins interior to 0.8 au, but its average color is orange – corresponding to ~1.1 au – due to the contribution of material from greater heliocentric distances.\n",
    "\n",
    "Since we track each body's mass and provenance throughout the simulation, we can thus determine how similar any planetesimal is to each embryo as a function of time. In this work we define embryos as bodies with masses of at least 1% the mass of the Earth, and planetesimals as smaller bodies. There is no computational distinction between these size classes."
   ]
  },
  {
   "cell_type": "markdown",
   "metadata": {},
   "source": [
    "**Configuration**"
   ]
  },
  {
   "cell_type": "code",
   "execution_count": 2,
   "metadata": {},
   "outputs": [],
   "source": [
    "# embryo mass cutoff\n",
    "minembmass = 0.01*mearth  #.0246*mearth"
   ]
  },
  {
   "cell_type": "markdown",
   "metadata": {},
   "source": [
    "**Load data**"
   ]
  },
  {
   "cell_type": "code",
   "execution_count": 3,
   "metadata": {},
   "outputs": [],
   "source": [
    "# load final sim output for example sims\n",
    "\n",
    "ssG = pkd.ss()\n",
    "paramG = pkd.readparam(loc+'ss.par')\n",
    "ssG.read(loc+'ss.{:0>10d}'.format(int(paramG['nSteps'])),extras=True)\n",
    "ssG.calcOE()\n",
    "sorderG = npy.argsort(ssG.m)[::-1]\n",
    "indG = sorderG[(ssG.a[sorderG]<3.5)*(ssG.e[sorderG]<1.)]\n",
    "indlenG = len(indG)\n",
    "\n",
    "ssc = pkd.ss()\n",
    "paramc = pkd.readparam(loc_c+'ss.par')\n",
    "ssc.read(loc_c+'ss.{:0>10d}'.format(int(paramc['nSteps'])),extras=True)\n",
    "ssc.calcOE()\n",
    "sorderc = npy.argsort(ssc.m)[::-1]\n",
    "indc = sorderc[(ssc.a[sorderc]<3.5)*(ssc.e[sorderc]<1.)]\n",
    "indlenc = len(indc)\n"
   ]
  },
  {
   "cell_type": "markdown",
   "metadata": {},
   "source": [
    "**Plot settings**"
   ]
  },
  {
   "cell_type": "code",
   "execution_count": 4,
   "metadata": {},
   "outputs": [],
   "source": [
    "# read histogram limits\n",
    "if collmod:\n",
    "    amin = paramG['dDustBinsInner'] #0.1\n",
    "    amax = paramG['dDustBinsOuter'] #1.3\n",
    "    nbins = int(paramG['nDustBins']) #24\n",
    "else:\n",
    "    amin = 0.5\n",
    "    amax = 3.0\n",
    "    nbins = 25\n",
    "    \n",
    "bw = (amax - amin) / float(nbins)  # bin width\n",
    "\n",
    "# plot axis limits\n",
    "axmin = amin - bw/2.\n",
    "axmax = amax + bw/2.\n",
    "\n",
    "# set up color scale\n",
    "cval = npy.linspace(mincol,maxcol,colbins+1)[0:nbins]\n",
    "\n",
    "cmap = cm = copy.copy(plt.get_cmap('plasma_r'))\n",
    "cm.set_over('slategrey') #'darkblue'\n",
    "cm.set_under('k') #'k'\n",
    "bina = npy.linspace(amin + bw/2.,amax - bw/2.,nbins)\n",
    "binedge = npy.linspace(amin,amax,nbins+1)\n",
    "cnorm = matplotlib.colors.Normalize(vmin=mincol,vmax=maxcol,clip=False)\n",
    "\n",
    "cmalt = copy.copy(plt.get_cmap('viridis_r'))\n",
    "\n",
    "simsG = ['022GTJf6hgas/','022GTJf6hgas_2/','035GTJf6hgas/']\n",
    "##,'/cfGTruns/022GTJf6nogas/'\n",
    "##'/cfGTlow/022GTJf6nogas/'\n",
    "\n",
    "simsc = ['022f6sgas_4/','022f6sgas_3/','035f6sgas/','035f6sgas_2/']\n",
    "##,'/cfGTruns/022f6nogas/']\n",
    "##'/cfGTlow/035f6nogas/'\n",
    "\n",
    "plttimes = [0.05, 0.1, 0.5, 1.0, 2.0, 3.0, 4.0, 5.0, 6.0, 8.0, 10.0, 12.0, 14.0, 16.0, 18.0, 21.6] #Myr\n",
    "widgettimes = [(str(x)+' Myr','ss.{:>010d}'.format(int(round(x*1e6/2./(0.03141592654/npy.pi/2.*36),-4)*2))) for x in plttimes]"
   ]
  },
  {
   "cell_type": "code",
   "execution_count": 5,
   "metadata": {},
   "outputs": [],
   "source": [
    "# scatter plot point size function\n",
    "\n",
    "maxmass = 6e-6  # upper limit for mass size scale (solar masses)\n",
    "\n",
    "smin = math.sqrt(5.)      #8., 1.1  #3.\n",
    "smax = math.sqrt(300.)        #400.\n",
    "if collmod:\n",
    "    minrad = (3.*(paramc['dCollMinMass']*1.99e33)/(4.*math.pi*rho))**(1./3.)/1.5e13*expfac\n",
    "else:\n",
    "    minrad = (3.*(1e-12*1.99e33)/(4.*math.pi*rho))**(1./3.)/1.5e13*expfac\n",
    "maxrad = (3.*(maxmass*1.99e33)/(4.*math.pi*rho))**(1./3.)/1.5e13*expfac\n",
    "\n",
    "def marksize(m,mov=False):\n",
    "\n",
    "    sizes = (smax-smin)*((3.*m*1.99e33/(4.*math.pi*rho))**(1./3.)/1.5e13*expfac-minrad)/(maxrad-minrad) + smin\n",
    "    sizes = npy.where(sizes<smin,smin,sizes)\n",
    "    if mov:\n",
    "        sizes = npy.where(sizes>1.2*smax,1.25*smax,sizes)\n",
    "        sizes = npy.where(m>100*maxmass,1.8*smax,sizes)\n",
    "        sizes /= 2.\n",
    "    else:\n",
    "        sizes = npy.where(sizes>1.1*smax,1.2*smax,sizes)\n",
    "        sizes = npy.where(m>100*maxmass,1.4*smax,sizes)\n",
    "        sizes /= 1.5\n",
    "    return sizes**2\n"
   ]
  },
  {
   "cell_type": "markdown",
   "metadata": {
    "tags": []
   },
   "source": [
    "#### Figure 1: Correlation examples <a class=\"anchor\" id=\"f:ccexample\"></a>"
   ]
  },
  {
   "cell_type": "code",
   "execution_count": 6,
   "metadata": {
    "tags": []
   },
   "outputs": [
    {
     "data": {
      "application/vnd.jupyter.widget-view+json": {
       "model_id": "4447f39342e04628b01b72868c225231",
       "version_major": 2,
       "version_minor": 0
      },
      "text/plain": [
       "IntProgress(value=0, description='Plotting...  ', layout=Layout(height='20px'), max=14)"
      ]
     },
     "metadata": {},
     "output_type": "display_data"
    },
    {
     "data": {
      "application/vnd.jupyter.widget-view+json": {
       "model_id": "0b0b933e646e483bb16863cbfd49f6df",
       "version_major": 2,
       "version_minor": 0
      },
      "text/plain": [
       "interactive(children=(IntSlider(value=4129, continuous_update=False, description='Body B (1):', max=9954, min=…"
      ]
     },
     "metadata": {},
     "output_type": "display_data"
    }
   ],
   "source": [
    "pbar = widgets.IntProgress(min=0, max=14, description='Plotting...  ',bar_style='',layout=widgets.Layout(height='20px'))\n",
    "display(pbar) # display the bar\n",
    "\n",
    "def compcorrplot(e1=2,e2=0,e3=3,e4=1,p1=4129,p2=6,p3=62,p4=5):\n",
    "    nrows=4  # number plot rows\n",
    "    ncols=5  # number columns\n",
    "\n",
    "    ssj = ssG\n",
    "    indj = indG\n",
    "    sorderj = npy.argsort(ssj.m)[::-1]\n",
    "\n",
    "    pp = 0\n",
    "    pbar.value = 0\n",
    "    fig1 = plt.figure(figsize=(10,5.8))\n",
    "    #fig1.clf()\n",
    "\n",
    "    for k,i in ( (e1,p1), (e2,p2), (e3,p3), (e4,p4) ):\n",
    "        plt.subplot(nrows,ncols,1+pp)\n",
    "        plt.minorticks_on()\n",
    "        plt.pie(ssj.origin[indj[k]], colors=cmap(cnorm(cval)), radius=1, wedgeprops={ 'linewidth' : 0.08 ,'edgecolor':'k'}, normalize=True)\n",
    "        fig1.gca().set_anchor((0.3,0.5))\n",
    "        if pp<ncols:\n",
    "            plt.title('Body A')\n",
    "        #fig1.canvas.blit(plt.gca())\n",
    "\n",
    "        plt.subplot(nrows,ncols,2+pp)\n",
    "        plt.minorticks_on()\n",
    "        plt.bar(npy.arange(amin,amin+0.1*len(ssj.origin[indj[0]]),0.1),ssj.origin[indj[k]],width=0.1,color=cmap(cnorm(cval)),align='edge',edgecolor='k',lw=0.2)\n",
    "        plt.scatter(2.8,plt.gca().get_ylim()[1]*0.85,c=npy.dot(ssj.origin[indj[k]],bina),s=1.4*marksize(ssj.m[indj[k]]),cmap=cm,norm=cnorm)\n",
    "        fig1.gca().yaxis.set_major_formatter(matplotlib.ticker.StrMethodFormatter(\"{x:.2f}\"))\n",
    "        plt.ylabel('Mass fraction')\n",
    "        plt.xlim(0.4,3.1)\n",
    "        if pp==(nrows-1)*ncols:\n",
    "            plt.xlabel('Semi-major axis (au)')\n",
    "        if pp<ncols:\n",
    "            ax1 = fig1.gca()\n",
    "            plt.title('Body A')#,fontsize=12)\n",
    "        #fig1.canvas.draw_idle()\n",
    "        #fig1.canvas.blit(plt.gca())\n",
    "\n",
    "        pbar.value += 1\n",
    "\n",
    "        plt.subplot(nrows,ncols,3+pp)\n",
    "        plt.minorticks_on()\n",
    "        plt.bar(npy.arange(amin,amin+0.1*len(ssj.origin[indj[0]]),0.1),ssj.origin[sorderj[i]],width=0.1,color=cmap(cnorm(cval)),align='edge',edgecolor='k',lw=0.2)\n",
    "        plt.scatter(2.8,plt.gca().get_ylim()[1]*0.85,c=npy.dot(ssj.origin[sorderj[i]],bina),s=1.4*marksize(ssj.m[sorderj[i]]),cmap=cm,norm=cnorm)\n",
    "        plt.xlim(0.4,3.1)\n",
    "        fig1.gca().yaxis.set_major_formatter(matplotlib.ticker.StrMethodFormatter(\"{x:.2f}\"))\n",
    "        if pp==(nrows-1)*ncols:\n",
    "            plt.xlabel('Semi-major axis (au)')\n",
    "        if pp<ncols:\n",
    "            plt.title('Body B')\n",
    "\n",
    "        plt.subplot(nrows,ncols,4+pp)\n",
    "        plt.minorticks_on()\n",
    "        plt.pie(ssj.origin[sorderj[i]], colors=cmap(cnorm(cval)), autopct=None, radius=1, wedgeprops={ 'linewidth' : 0.08 ,'edgecolor':'k'}, normalize=True)\n",
    "        fig1.gca().set_anchor((0.05,0.5))\n",
    "        if pp<ncols:\n",
    "            plt.title('Body B')\n",
    "\n",
    "        plt.subplot(nrows,ncols,5+pp)\n",
    "        plt.minorticks_on()\n",
    "        plt.scatter(ssj.origin[indj[k]],ssj.origin[sorderj[i]],color=cmap(cnorm(cval)),s=7,zorder=1)\n",
    "        plt.text(0.07,0.76,'{:.3f}'.format(npy.corrcoef(ssj.origin[indj[k]],ssj.origin[sorderj[i]])[0,1]),transform=plt.gca().transAxes,weight='bold')\n",
    "        xxlim=fig1.gca().get_xlim()\n",
    "        yylim=fig1.gca().get_ylim()\n",
    "        fig1.gca().yaxis.set_major_formatter(matplotlib.ticker.StrMethodFormatter(\"{x:.2f}\"))\n",
    "        plt.plot((-1,2),(-1,2),c='0.8',zorder=0,scalex=False,scaley=False)\n",
    "        plt.xlim(xxlim)\n",
    "        plt.ylim(yylim)\n",
    "        plt.ylabel('M fraction B')\n",
    "        if pp==(nrows-1)*ncols:\n",
    "            plt.xlabel('Mass fraction A')\n",
    "        if pp<ncols:\n",
    "            plt.title('Correlation')\n",
    "\n",
    "        pp+=ncols\n",
    "\n",
    "        pbar.value += 1\n",
    "\n",
    "    fig1.tight_layout(pad=0.48,w_pad=0.62,h_pad=0.2)\n",
    "\n",
    "    Bbox = matplotlib.transforms.Bbox.from_bounds(-0.2, 1.35, 3.0, 0.2) #x0, y0, width, height)\n",
    "    trans = ax1.transAxes + fig1.transFigure.inverted()\n",
    "    l, b, w, h = matplotlib.transforms.TransformedBbox(Bbox, trans).bounds\n",
    "\n",
    "    cax = fig1.add_axes([l,b,w,h])\n",
    "    cax.scatter(0.1,0.5,s=1.4*marksize(1.0*3e-6),c='k')\n",
    "    cax.text(0.126,0.5,r'1\\,M$_\\oplus$',va='center_baseline',ha='left',fontsize=txsz+1)\n",
    "    cax.scatter(0.2,0.5,s=1.4*marksize(1e-1*3e-6),c='k')\n",
    "    cax.text(0.22,0.5,r'10$^{-1}$',va='center_baseline',ha='left',fontsize=txsz+1)\n",
    "    cax.scatter(0.3,0.5,s=1.4*marksize(1e-2*3e-6),c='k')\n",
    "    cax.text(0.316,0.5,r'10$^{-2}$',va='center_baseline',ha='left',fontsize=txsz+1)\n",
    "    cax.scatter(0.4,0.5,s=1.4*marksize(1e-3*3e-6),c='k')\n",
    "    cax.text(0.416,0.5,r'10$^{-3}$',va='center_baseline',ha='left',fontsize=txsz+1)\n",
    "    cax.scatter(0.5,0.5,s=1.4*marksize(1e-4*3e-6),c='k')\n",
    "    cax.text(0.516,0.5,r'10$^{-4}$',va='center_baseline',ha='left',fontsize=txsz+1)\n",
    "    cax.scatter(0.6,0.5,s=1.4*marksize(1e-5*3e-6),c='k')\n",
    "    cax.text(0.616,0.5,r'10$^{-5}$',va='center_baseline',ha='left',fontsize=txsz+1)\n",
    "    cax.set_xticklabels([])\n",
    "    cax.set_yticklabels([])\n",
    "    cax.set_xlim(0.08,0.66)\n",
    "    cax.spines.clear()\n",
    "    cax.xaxis.set_visible(False)\n",
    "    cax.yaxis.set_visible(False)\n",
    "    \n",
    "    pbar.value += 2\n",
    "    fig1.canvas.draw()\n",
    "    pbar.value += 4\n",
    "\n",
    "w1 = widgets.interact(compcorrplot,e1=widgets.fixed(2),e2=widgets.fixed(0),e3=widgets.fixed(3),e4=widgets.fixed(1),p1=widgets.IntSlider(value=4129,min=1,max=len(ssG.m)-1,step=1,description='Body B (1):',continuous_update=False),p2=widgets.IntSlider(value=6,min=1,max=len(ssG.m)-1,step=1,description='Body B (2):',continuous_update=False),p3=widgets.IntSlider(value=62,min=1,max=len(ssG.m)-1,step=1,description='Body B (3):',continuous_update=False),p4=widgets.IntSlider(value=5,min=1,max=len(ssG.m)-1,step=1,description='Body B (4):',continuous_update=False));\n"
   ]
  },
  {
   "cell_type": "markdown",
   "metadata": {},
   "source": [
    "<b>Figure 1:</b> *Examples of correlations between pairs of planetary bodies formed in a Grand Tack simulation (022GTJf6hgas). The leftmost column shows the provenance of an embryo (body A) as a pie chart, the second column shows the corresponding histogram as a function of heliocentric distance. The third and fourth columns show the histogram and pie chart provenance for the comparison body (B). The final, rightmost column indicates the correlation of the bodies provenances with the mass fraction of the two bodies originating in each radial bin plotted against each other. The grey line is the 1:1, A=B line, and is shown for reference. The number in the top left corner of the rightmost panels is the calculated Pearson correlation coefficient for the pair of bodies. The colored circles in the upper right corner of the histogram panels indicate the relative sizes of the bodies (according to the scale at the top of the figure), and are colored according to the average color of the body's provenance histogram.*"
   ]
  },
  {
   "cell_type": "markdown",
   "metadata": {
    "tags": []
   },
   "source": [
    "## 3.  Results"
   ]
  },
  {
   "cell_type": "markdown",
   "metadata": {},
   "source": [
    "We begin with a brief overview of the general properties of the proto-planetary systems formed in these simulations before we delve deeper into their provenances. For a more detailed discussion of the outcomes of the simulations see [Carter et al. (2015)](#Carter15)."
   ]
  },
  {
   "cell_type": "markdown",
   "metadata": {},
   "source": [
    "### 3.1. Proto-planetary disk evolution\n",
    "\n",
    "A disk of planetesimals is expected to undergo a phase of runaway growth in which the most massive planetesimals grow in mass quicker than smaller planetesimals. The few largest planetesimals thus detach from the continuous power law size distribution of the smaller bodies (e.g. [Kokubo & Ida 1996](#Kokubo+Ida96)). As the larger planetesimals continue to grow into planetary embryos they begin to significantly excite the orbits of the surrounding population of small planetesimals, halting runaway growth. The continued growth of embryos remains faster than the growth of small planetesimals, but the largest embryo grows more slowly than smaller embryos. The masses of the planetary embryos thus become closer as growth proceeds – this is known as oligarchic growth ([Kokubo & Ida 1998](#Kokubo+Ida98)). In our simulations, runaway planetesimal growth gives way to oligarchic growth of planet embryos in an 'inside-out' progression (Figure [2](#f:massdist)). The disk surface density is higher and orbital timescales are shorter closer to the star, and thus evolution is faster closer to the star. At 20 Myr, in the calm accretion scenario the majority of planetesimals have been accreted at 0.6 au, and Mars-sized embryos dominate; while there are still large numbers of planetesimals at 1.5 au, and Mars-sized embryos have only begun to form (see also [Walsh & Levison 2019](#Walsh19)).\n",
    "\n",
    "The Grand Tack leads to some substantial changes in this evolution. As expected, Jupiter's migration truncates the inner disk, emplacing a substantial mass of material that was in its path into the terrestrial planet region. The early increase in surface density accelerates the evolution. While inside-out growth is still evident, embryos grow more massive and more rapidly than in the calm scenarios (see Figure [2](#f:massdist)). Planetesimal and embryo eccentricities and impact velocities are higher across the inner solar system in the dynamically hot Grand Tack scenarios. The higher eccentricities and impact velocities cause greater mantle stripping, and lead to greater diversity in core-mantle ratio of planetary embryos in the Grand Tack scenarios ([Carter et al. 2015](#Carter15)). No mass is lost completely in these simulations, and both resolved and unresolved material can be accreted, thus mantle stripping leads to diversity in core fraction rather than global increase.\n",
    "\n",
    "\n",
    "In the Grand Tack, Jupiter shepherds a large fraction of planetesimals from the 2–3 au region into the region of the disk where the Earth is growing. This shepherding substantially increases the mixing of material that originated at different distances from the Sun, and leads to substantially different embryo provenances than the calm accretion model (see also [Carter et al. 2015](#Carter15) fig. 14)."
   ]
  },
  {
   "cell_type": "code",
   "execution_count": 7,
   "metadata": {},
   "outputs": [
    {
     "name": "stdout",
     "output_type": "stream",
     "text": [
      "Total final number particles: 9955\n",
      "Number bound in inner disk: 1548\n",
      "Number particles >=80% from single bin: 345\n",
      "Primitive: 0.22286821705426357 of bound\n"
     ]
    }
   ],
   "source": [
    "print('Total final number particles:',len(ssG.origin))\n",
    "\n",
    "countvalid = indlenG\n",
    "\n",
    "print('Number bound in inner disk:',countvalid)\n",
    "\n",
    "\n",
    "countprimitive=0\n",
    "\n",
    "for h in ssG.origin[indG]:\n",
    "    for elem in h:\n",
    "        if elem>0.8:\n",
    "            countprimitive += 1\n",
    "            break\n",
    "\n",
    "print('Number particles >=80% from single bin:',countprimitive)\n",
    "print('Primitive:',float(countprimitive)/float(countvalid), 'of bound')"
   ]
  },
  {
   "cell_type": "code",
   "execution_count": 8,
   "metadata": {},
   "outputs": [
    {
     "name": "stdout",
     "output_type": "stream",
     "text": [
      "Number collisions: 95757\n",
      "Number with no collisions: 400\n",
      "no collisions: 0.25839793281653745 of bound\n"
     ]
    }
   ],
   "source": [
    "# load collisions\n",
    "col = pkd.collisions(path=loc)\n",
    "\n",
    "countnocoll=0\n",
    "collids=npy.unique(npy.append(col.idp,col.idt))\n",
    "print('Number collisions:',len(collids))\n",
    "for i in ssG.id[indG]:\n",
    "    #if (i not in col.idp) and (i not in col.idt) and i<100000:\n",
    "    if i not in collids and i<100000:\n",
    "        countnocoll += 1\n",
    "print('Number with no collisions:',countnocoll)\n",
    "print('no collisions:', float(countnocoll)/float(countvalid), 'of bound')\n"
   ]
  },
  {
   "cell_type": "markdown",
   "metadata": {},
   "source": [
    "#### Figure 2: Mass distribution <a class=\"anchor\" id=\"f:massdist\"></a>"
   ]
  },
  {
   "cell_type": "code",
   "execution_count": 9,
   "metadata": {
    "tags": []
   },
   "outputs": [
    {
     "data": {
      "application/vnd.jupyter.widget-view+json": {
       "model_id": "a28ea9599137480eaa0b7ccca2115a69",
       "version_major": 2,
       "version_minor": 0
      },
      "text/plain": [
       "interactive(children=(Dropdown(description='GT sim:', options=('022GTJf6hgas', '022GTJf6hgas_2', '035GTJf6hgas…"
      ]
     },
     "metadata": {},
     "output_type": "display_data"
    }
   ],
   "source": [
    "# mass vs semi-major axis with color and size\n",
    "\n",
    "def massdistplot(GTsim='022GTJf6hgas',calmsim='022f6sgas_4'):\n",
    "    pltfiles = ['ss.0000280000','ss.0005560000','ss.0027780000','ss.{:0>10d}'.format(int(paramG['nSteps']))]\n",
    "    mnrow = len(pltfiles)\n",
    "    mncol = 19\n",
    "\n",
    "    pr = 0\n",
    "\n",
    "    fig2 = plt.figure(figsize=(10,8))\n",
    "    fig2.clf()\n",
    "    \n",
    "    for fl in pltfiles:\n",
    "        ssj = pkd.ss()\n",
    "        ssj.read(path+GTsim+'/'+fl,extras=True)\n",
    "        ssj.calcOE()\n",
    "        sorderj = npy.argsort(ssj.m)[::-1]\n",
    "        indj = sorderj[(ssj.a[sorderj]<3.5)*(ssj.e[sorderj]<1.)]\n",
    "\n",
    "        ssk = pkd.ss()\n",
    "        ssk.read(path+calmsim+'/'+fl,extras=True)\n",
    "        ssk.calcOE()\n",
    "\n",
    "        sorderk = npy.argsort(ssk.m)[::-1]\n",
    "        indk = sorderk[(ssk.a[sorderk]<3.5)*(ssk.e[sorderk]<1.)]\n",
    "\n",
    "        plt.subplot2grid((mnrow, mncol), (pr, 0),colspan=13)\n",
    "        plt.minorticks_on()\n",
    "        plt.scatter(ssj.a[indj],ssj.m[indj]/mearth,s=marksize(ssj.m[indj]),c=npy.dot(ssj.origin[indj],bina),cmap=cm,norm=cnorm,rasterized=True)\n",
    "        if pr == 0:\n",
    "            ax2 = fig2.gca()\n",
    "        plt.ylabel('Mass (M$_\\oplus$)')\n",
    "        if pr == mnrow-1:\n",
    "            plt.xlabel('Semi-major axis (au)')\n",
    "        plt.xlim(0.4,3.0)\n",
    "        plt.ylim(6e-6,4e0)\n",
    "        plt.semilogy()\n",
    "        if pr < mnrow-1:\n",
    "            fig2.gca().set_xticklabels([])\n",
    "        plt.text(0.96,0.8,'{:.2f}'.format(ssj.header.t*expfac**2/2./npy.pi/1e6,)+' Myr',ha='right',zorder=3,color='k',bbox=dict(facecolor='w',edgecolor='none',pad=0.4,alpha=0.6),transform=plt.gca().transAxes)\n",
    "        if pr==0:\n",
    "            plt.text(0.04,0.8,'Grand Tack',ha='left',zorder=3,color='k',bbox=dict(facecolor='w',edgecolor='none',pad=0.4,alpha=0.6),transform=plt.gca().transAxes)\n",
    "\n",
    "\n",
    "        plt.subplot2grid((mnrow, mncol), (pr, 13),colspan=6)\n",
    "        plt.minorticks_on()\n",
    "        plt.scatter(ssk.a[indk],ssk.m[indk]/mearth,s=marksize(ssk.m[indk]),c=npy.dot(ssk.origin[indk],bina[0:10]),cmap=cm,norm=cnorm,rasterized=True)\n",
    "        #plt.ylabel('Mass')\n",
    "        if pr == mnrow-1:\n",
    "            plt.xlabel('Semi-major axis (au)')\n",
    "        plt.xlim(0.4,1.6)\n",
    "        plt.ylim(6e-6,4e0)\n",
    "        plt.semilogy()\n",
    "        if pr < mnrow-1:\n",
    "            fig2.gca().set_xticklabels([])\n",
    "        fig2.gca().set_yticklabels([])\n",
    "        if pr==0:\n",
    "            plt.text(0.08,0.8,'calm accretion',ha='left',zorder=3,color='k',bbox=dict(facecolor='w',edgecolor='none',pad=0.4,alpha=0.6),transform=plt.gca().transAxes)\n",
    "\n",
    "        pr += 1\n",
    "\n",
    "\n",
    "    fig2.tight_layout(pad=0.2,w_pad=0.0,h_pad=0.0,rect=(0.006,0.001,0.999,0.988))\n",
    "\n",
    "    Bbox = matplotlib.transforms.Bbox.from_bounds(0.1/2.6, 1.0, 2.5/2.6, 0.06) #x0, y0, width, height)\n",
    "    trans = ax2.transAxes + fig2.transFigure.inverted()\n",
    "    l, b, w, h = matplotlib.transforms.TransformedBbox(Bbox, trans).bounds\n",
    "\n",
    "    cax = fig2.add_axes([l,b,w,h])\n",
    "    cb1 = matplotlib.colorbar.ColorbarBase(cax, cmap=cm, norm=cnorm, orientation='horizontal',drawedges=False,ticks=[],boundaries=binedge)#, values=cnorm(bina[0:16]), boundaries=bina[0:16]\n",
    "\n",
    "    fig2.canvas.draw()\n",
    "\n",
    "GTwidget2=widgets.Dropdown(\n",
    "    options=['022GTJf6hgas', '022GTJf6hgas_2', '035GTJf6hgas'],\n",
    "    value='022GTJf6hgas',\n",
    "    description='GT sim:',\n",
    ")\n",
    "calmwidget2=widgets.Dropdown(\n",
    "    options=['022f6sgas_4', '022f6sgas_3', '035f6sgas_2','035f6sgas'],\n",
    "    value='022f6sgas_4',\n",
    "    description='calm sim:',\n",
    ")\n",
    "w2 = widgets.interact(massdistplot,GTsim=GTwidget2,calmsim=calmwidget2);\n"
   ]
  },
  {
   "cell_type": "markdown",
   "metadata": {},
   "source": [
    "<b>Figure 2:</b> *Mass distribution as a function of semi-major axis and time for bodies in a Grand Tack simulation (left) and a calm accretion simulation (right). The sizes of the points are scaled to the mass of each body. Colors indicate the mean origin distance of mass making up the body, with the corresponding initial colors shown in the bar above the top left panel. The time shown in each row is indicated in the upper right of the left hand panel. The evolution of the inner disk is very similar for the first two time rows, but after the tack (at 2 Myr), the mass and provenance (color) distribution in the Grand Tack scenario has substantially diverged from that in the calm accretion model.*"
   ]
  },
  {
   "cell_type": "markdown",
   "metadata": {},
   "source": [
    "### 3.2.  Provenance\n",
    "\n",
    "In this work, provenance refers to the distribution in original radial location of the materials accreted by a body. The simulations discussed here allow a more detailed comparison than the classical embryo 'feeding zone' analysis (e.g. [Raymond et al. 2009](#Raymond09); [Kaib & Cowan 2015](#Kaib15)). There is abundant evidence for at least two distinct isotopic reservoirs in the early solar system (e.g. [Burkhardt et al. 2011](#Burkhardt11); [Chen et al. 2011](#Chen11); [Scott et al. 2018](#Scott18)), and the protoplanetary disk may have possessed a continuously varying distribution of elements or isotopes with radial distance (e.g. [Lewis 1974](#Lewis74); [Dauphas et al. 2004](#Dauphas04); [Trinquier et al. 2009](#Trinquier09); [Qin et al. 2010](#Qin09); [Fischer-G&ouml;dde & Kleine 2017](#Fischer-Godde17)). We do not assign specific chemical or isotopic signatures to the radial bins in our simulations, nor a chemical gradient across the disk. Naturally, chemical differences between regions of the disk is what we allude to, but without detailed knowledge of the original distribution we cannot meaningfully assign specific, detailed properties to radial bins. In the most general terms, bluer (purple and blue) material originates farther from the star and is likely, therefore, to be more volatile-rich than material from yellow and orange bins; but we impose no fixed model on this radial composition.\n",
    "\n",
    "The average colors (mean origin distance) seen in Figures [2](#f:massdist), [3](#f:embcompareGT), and [4](#f:embcomparecalm) show a clear difference in provenances and compositional similarities between the two example simulations. At the end of calm accretion simulations embryos generally have average colors (provenances) that correspond closely to their locations. In Grand Tack simulations most of the embryos (and planetesimals) are substantially 'bluer' due to the contribution of material shepherded inwards by Jupiter's migration.\n",
    "\n",
    "The dynamically excited Grand Tack simulations produce Earth-like proto-planets with a mixture of material from across the inner solar system (see Figure [1](#f:ccexample)). This mixing is a result of Jupiter's inward migration 'pushing' planetesimals from more distant parts of the inner disk into the Earth-forming region. As can be seen in Figures [2](#f:massdist) and [3](#f:embcompareGT), there are multiple smaller embryos remaining at the end of these simulations, several of which have fairly similar provenances to the larger bodies. The calm accretion model produces embryos that are dominated by material originating close to their locations, resulting in a lower degree of similarity between the final embryos (Figure [4](#f:embcomparecalm)).\n",
    "\n",
    "Figures [3](#f:embcompareGT) and [4](#f:embcomparecalm) reveal a wide range of planetesimal provenances at the end of these simulations. Embryos in the innermost regions of the disk have fewer planetesimals with similar provenances compared to embryos that formed closer to 1 au due to the faster evolutionary timescales closer to the star."
   ]
  },
  {
   "cell_type": "markdown",
   "metadata": {},
   "source": [
    "#### Figure 3: Planetesimal similarity comparison <a class=\"anchor\" id=\"f:embcompareGT\"></a>"
   ]
  },
  {
   "cell_type": "code",
   "execution_count": 10,
   "metadata": {
    "tags": []
   },
   "outputs": [
    {
     "data": {
      "application/vnd.jupyter.widget-view+json": {
       "model_id": "782aca72551045ecabcf6da937649cb9",
       "version_major": 2,
       "version_minor": 0
      },
      "text/plain": [
       "interactive(children=(IntSlider(value=0, continuous_update=False, description='Embryo (1):', max=14), IntSlide…"
      ]
     },
     "metadata": {},
     "output_type": "display_data"
    }
   ],
   "source": [
    "def plntsmlsimilarity(e1=0,e2=1,e3=2):\n",
    "    nr = 3\n",
    "    nc = 2\n",
    "    fig3 = plt.figure(figsize=(9,6.8))\n",
    "    p = 1\n",
    "    for k in [e1,e2,e3]:\n",
    "        resarr = npy.zeros(indlenG)\n",
    "        obbig = ssG.origin[indG[k]]\n",
    "\n",
    "        for i in range(0,indlenG,1):\n",
    "            res = npy.corrcoef(obbig,ssG.origin[indG[i]])\n",
    "            resarr[i]=res[0,1]\n",
    "\n",
    "        # correlation vs semi-major axis with color and size\n",
    "        plt.subplot(nr,nc,p)\n",
    "        plt.minorticks_on()\n",
    "        plt.scatter(ssG.a[indG],resarr,s=marksize(ssG.m[indG]),c=npy.dot(ssG.origin[indG],bina),cmap=cm,norm=cnorm)\n",
    "        plt.scatter(ssG.a[indG[k]],resarr[k],edgecolor='k',s=2.1*4*marksize(ssG.m[indG[k]])**0.7,facecolor='none',lw=1.0)\n",
    "        plt.ylabel('Correlation\\n Coefficient')\n",
    "        plt.xlim(0.3,2.99)\n",
    "        plt.ylim(ymax=1.2)\n",
    "        if fig3.gca().get_ylim()[0]>-0.5:\n",
    "            plt.ylim(ymin=-0.5)\n",
    "        if p < (nr-1)*nc:\n",
    "            fig3.gca().set_xticklabels([])\n",
    "        else:\n",
    "            plt.xlabel('Semi-major axis (au)')\n",
    "    \n",
    "        # correlation vs mass with color and size\n",
    "        plt.subplot(nr,nc,p+1)\n",
    "        plt.minorticks_on()\n",
    "        plt.scatter(ssG.m[indG]/mearth,resarr,s=marksize(ssG.m[indG]),c=npy.dot(ssG.origin[indG],bina),cmap=cm,norm=cnorm)\n",
    "        plt.scatter(ssG.m[indG[k]]/mearth,resarr[k],edgecolor='k',s=2.1*4*marksize(ssG.m[indG[k]])**0.7,facecolor='none',lw=1.0)\n",
    "        if abs(resarr[e2]-resarr[e3])<0.2:\n",
    "            plt.text(ssG.m[indG[0]]/mearth*0.4,resarr[e1],str(e1),va='center',ha='center')\n",
    "            plt.text(ssG.m[indG[0]]/mearth*0.4,resarr[e2],str(e2),va='center',ha='center')\n",
    "            plt.text(ssG.m[indG[0]]/mearth*0.4,resarr[e3],str(e3),va='center',ha='center')\n",
    "        else:\n",
    "            for l in [e1,e2,e3]:\n",
    "                plt.text(ssG.m[indG[0]]/mearth*0.38,resarr[l],str(l),va='center',ha='center')\n",
    "        plt.semilogx()\n",
    "        plt.xlim(8e-6,2e0)\n",
    "        plt.ylim(ymax=1.2)\n",
    "        if fig3.gca().get_ylim()[0]>-0.5:\n",
    "            plt.ylim(ymin=-0.5)\n",
    "        fig3.gca().set_yticklabels([])\n",
    "        if p < (nr-1)*nc:\n",
    "            fig3.gca().set_xticklabels([])\n",
    "        else:\n",
    "            plt.xlabel('Mass (M$_\\oplus$)')\n",
    "        \n",
    "        p += 2\n",
    "\n",
    "    fig3.tight_layout(pad=0.3,w_pad=0,h_pad=0)\n",
    "    fig3.canvas.draw()\n",
    "    \n",
    "w3 = widgets.interact(plntsmlsimilarity,e1=widgets.IntSlider(value=0,min=0,max=len(ssG.m[indG][ssG.m[indG]>=minembmass])-1,step=1,description='Embryo (1):',continuous_update=False),e2=widgets.IntSlider(value=1,min=0,max=len(ssG.m[indG][ssG.m[indG]>=minembmass])-1,step=1,description='Embryo (2):',continuous_update=False),e3=widgets.IntSlider(value=2,min=0,max=len(ssG.m[indG][ssG.m[indG]>=minembmass])-1,step=1,description='Embryo (3):',continuous_update=False));\n"
   ]
  },
  {
   "cell_type": "markdown",
   "metadata": {},
   "source": [
    "<b>Figure 3:</b> Correlation of bodies to the three selected embryos (highlighted with black outlines and labelled in each row) as a function of semi-major axis and body mass at the end of an example Grand Tack simulation (022GTJf6hgas). The sizes of the points are scaled to the mass of each body. Colors indicate the mean origin distance of mass making up the body as in Figure [2](#f:massdist). "
   ]
  },
  {
   "cell_type": "markdown",
   "metadata": {},
   "source": [
    "#### Figure 4: Similarity comparison calm <a class=\"anchor\" id=\"f:embcomparecalm\"></a>"
   ]
  },
  {
   "cell_type": "code",
   "execution_count": 11,
   "metadata": {
    "tags": []
   },
   "outputs": [
    {
     "data": {
      "application/vnd.jupyter.widget-view+json": {
       "model_id": "d8765cb5023d46a28ed3e2b8990d2e94",
       "version_major": 2,
       "version_minor": 0
      },
      "text/plain": [
       "interactive(children=(IntSlider(value=0, continuous_update=False, description='Embryo (1):', max=17), IntSlide…"
      ]
     },
     "metadata": {},
     "output_type": "display_data"
    }
   ],
   "source": [
    "def plntsmlsimilarityc(e1=0,e2=1,e3=2):\n",
    "    nr = 3\n",
    "    nc = 2\n",
    "    fig4 = plt.figure(figsize=(9,6.8))\n",
    "    p = 1\n",
    "    for k in [e1,e2,e3]:\n",
    "        resarr = npy.zeros(indlenc)\n",
    "        obbig = ssc.origin[indc[k]]\n",
    "\n",
    "        for i in range(0,indlenc,1):\n",
    "            res = npy.corrcoef(obbig,ssc.origin[indc[i]])\n",
    "            resarr[i]=res[0,1]\n",
    "\n",
    "        # correlation vs semi-major axis with color and size\n",
    "        plt.subplot(nr,nc,p)\n",
    "        plt.minorticks_on()\n",
    "        plt.scatter(ssc.a[indc],resarr,s=marksize(ssc.m[indc]),c=npy.dot(ssc.origin[indc],bina[0:10]),cmap=cm,norm=cnorm)\n",
    "        plt.scatter(ssc.a[indc[k]],resarr[k],edgecolor='k',s=2.1*4*marksize(ssc.m[indc[k]])**0.7,facecolor='none',lw=1.0)\n",
    "        plt.ylabel('Correlation\\n Coefficient')\n",
    "        plt.xlim(0.3,2.99)\n",
    "        plt.ylim(ymax=1.2)\n",
    "        if fig4.gca().get_ylim()[0]>-0.5:\n",
    "            plt.ylim(ymin=-0.5)\n",
    "        if p < (nr-1)*nc:\n",
    "            fig4.gca().set_xticklabels([])\n",
    "        else:\n",
    "            plt.xlabel('Semi-major axis (au)')\n",
    "    \n",
    "        # correlation vs mass with color and size\n",
    "        plt.subplot(nr,nc,p+1)\n",
    "        plt.minorticks_on()\n",
    "        plt.scatter(ssc.m[indc]/mearth,resarr,s=marksize(ssc.m[indc]),c=npy.dot(ssc.origin[indc],bina[0:10]),cmap=cm,norm=cnorm)\n",
    "        plt.scatter(ssc.m[indc[k]]/mearth,resarr[k],edgecolor='k',s=2.1*4*marksize(ssc.m[indc[k]])**0.7,facecolor='none',lw=1.0)\n",
    "        if abs(resarr[e2]-resarr[e3])<0.2:\n",
    "            plt.text(ssc.m[indc[0]]/mearth*2.3,resarr[e1],str(e1),va='center',ha='center')\n",
    "            plt.text(ssc.m[indc[0]]/mearth*2.7,resarr[e2],str(e2),va='center',ha='center')\n",
    "            plt.text(ssc.m[indc[0]]/mearth*1.9,resarr[e3],str(e3),va='center',ha='center')\n",
    "        else:\n",
    "            for l in [e1,e2,e3]:\n",
    "                plt.text(ssc.m[indc[0]]/mearth*2.3,resarr[l],str(l),va='center',ha='center')\n",
    "        plt.semilogx()\n",
    "        plt.xlim(8e-6,2e0)\n",
    "        plt.ylim(ymax=1.2)\n",
    "        if fig4.gca().get_ylim()[0]>-0.5:\n",
    "            plt.ylim(ymin=-0.5)\n",
    "        fig4.gca().set_yticklabels([])\n",
    "        if p < (nr-1)*nc:\n",
    "            fig4.gca().set_xticklabels([])\n",
    "        else:\n",
    "            plt.xlabel('Mass (M$_\\oplus$)')\n",
    "        \n",
    "        p += 2\n",
    "\n",
    "    fig4.tight_layout(pad=0.3,w_pad=0,h_pad=0)\n",
    "    fig4.canvas.draw()\n",
    "    \n",
    "w4 = widgets.interact(plntsmlsimilarityc,e1=widgets.IntSlider(value=0,min=0,max=len(ssc.m[indc][ssc.m[indc]>=minembmass])-1,step=1,description='Embryo (1):',continuous_update=False),e2=widgets.IntSlider(value=1,min=0,max=len(ssc.m[indc][ssc.m[indc]>=minembmass])-1,step=1,description='Embryo (2):',continuous_update=False),e3=widgets.IntSlider(value=2,min=0,max=len(ssc.m[indc][ssc.m[indc]>=minembmass])-1,step=1,description='Embryo (3):',continuous_update=False));\n"
   ]
  },
  {
   "cell_type": "markdown",
   "metadata": {},
   "source": [
    "<b>Figure 4:</b> *Correlation of bodies to the three selected embryos (highlighted with black outlines and labelled in each row) as a function of semi-major axis and body mass at the end of an example calm simulation (022f6sgas\\_4). The sizes of the points are scaled to the mass of each body. Colors indicate the mean origin distance of mass making up the body as in Figure [2](#f:massdist).*"
   ]
  },
  {
   "cell_type": "markdown",
   "metadata": {},
   "source": [
    "### 3.3. Provenance similarity\n",
    "\n",
    "The numbers of similar bodies to each final embryo from all the simulations are shown in Figure [5](#f:nsimilar). Each point in Figure [5](#f:nsimilar) represents an individual embryo, with the $y$-axis values showing the number of other embryos or planetesimals similar to it at the end of the simulation in which it formed. The top row shows the number of other embryos with a provenance correlation coefficient of at least 0.5 for each embryo. The middle row shows the numbers of planetesimals with a provenance correlation coefficient of at least 0.5 for each embryo in the high resolution simulations. The bottom row shows the fraction of planetesimals with final semi-major axes within 0.2 au of the embryo that have a provenance correlation coefficient of at least 0.5 for each embryo in the high resolution simulations. The choice of 0.5 is somewhat arbitrary; the distribution is similar with correlation cutoff between 0.2 and 0.7. The left-hand panels show embryos as a function of their final semi-major axis, the right-hand panels show the embryos as a function of their final mass. Purple points show embryos formed in the set of Grand Tack simulations and orange points show embryos from the calm accretion simulations. \n",
    "\n",
    "We see that there are typically greater numbers of similar embryos (5–8) for the larger embryos produced near 1 au in the Grand Tack simulations. The most massive embryos in calm accretion simulations have already accreted much of the material with similar provenances, and so there are typically fewer similar embryos remaining at, and interior to, 1 au. \n",
    "\n",
    "At the end of these Grand Tack simulations, there are several smaller embryos in the region close to 1 au that are very similar in provenance to the Earth-like proto-planets (Figures [3](#f:embcompareGT) and [5](#f:nsimilar)). It is expected that these embryos will be removed during the subsequent  ~100 Myr via collision or ejection. One of these smaller embryos may represent Theia – the body that collided with the proto-Earth leading to the formation of the Moon. The similar provenances of the proto-Earth and these smaller embryos suggest that Theia may have had a very similar stable isotope composition to the proto-Earth. Similar compositions for Theia and the proto-Earth would likely have resulted in an Earth and Moon with near-identical stable isotope compositions.\n",
    "\n",
    "The numbers and fractions of planetesimals similar to embryos shown in Figure [5](#f:nsimilar) have noticeably distinct distributions compared to the numbers of similar embryos (top row), with a very clear difference between the two evolution scenarios. For calm accretion the number of similar planetesimals to each embryo shows a clear and straightforward trend of increasing numbers of similar planetesimals with increasing semi-major axis. This pattern reflects the inside-out evolution of the planetesimal disk. Closer to the star, where orbital timescales are shorter, embryos grow faster and accrete the majority of planetesimals from their feeding zone. At greater distances from the star accretion is slower, there are more planetesimals remaining, and embryos have not grown as massive. Without substantial mixing of the disk nearby planetesimals are very likely to be similar to embryos growing in the same region.\n",
    "\n",
    "In the Grand Tack scenarios, inside of  ~0.8 au many planetesimals have already been accreted by  ~5 Myr, resulting in few planetesimals similar to embryos in the innermost regions of the disk (Figure [5](#f:nsimilar)). Jupiter's tack substantially mixes the disk, excites orbits, and concentrates planetesimal mass in an annulus between  ~0.8 and 1.3 au. These effects of the Grand Tack, combined with collisional evolution, result in many planetesimals with similar provenances to the embryos remaining in this annulus region at 20 Myr (130–270 planetesimals;  ~40% of those within 0.2 au). The more rapid growth of embryos in the inner-most region of the disk, and the lower degree of mixing from Jupiter's migration, leave the 'Mercury' region very different to the Earth region of the disk. This inner-most part of the disk has fewer similar bodies, and provenances closer to the initial provenances of the annuli, similar to the calm accretion scenario. At larger distances from the star there is less mass left in the disk (fewer planetesimals and fewer embryos), leading to the decrease in numbers of planetesimals similar to embryos beyond  ~1.3 au seen in Figure [5](#f:nsimilar).\n"
   ]
  },
  {
   "cell_type": "markdown",
   "metadata": {},
   "source": [
    "#### Figure 5: Numbers of similar bodies <a class=\"anchor\" id=\"f:nsimilar\"></a>"
   ]
  },
  {
   "cell_type": "code",
   "execution_count": 12,
   "metadata": {
    "tags": []
   },
   "outputs": [
    {
     "data": {
      "application/vnd.jupyter.widget-view+json": {
       "model_id": "138cb9cf50db407398f57cc04d68a1fc",
       "version_major": 2,
       "version_minor": 0
      },
      "text/plain": [
       "IntProgress(value=0, description='Plotting...  ', layout=Layout(height='20px'), max=8)"
      ]
     },
     "metadata": {},
     "output_type": "display_data"
    },
    {
     "data": {
      "application/vnd.jupyter.widget-view+json": {
       "model_id": "70d196e9042646618627fa246a3eaaeb",
       "version_major": 2,
       "version_minor": 0
      },
      "text/plain": [
       "interactive(children=(FloatSlider(value=0.5, continuous_update=False, description='Similar cut:', max=1.0, min…"
      ]
     },
     "metadata": {},
     "output_type": "display_data"
    }
   ],
   "source": [
    "pbar5 = widgets.IntProgress(min=0, max=8, description='Plotting...  ',bar_style='',layout=widgets.Layout(height='20px')) # instantiate the bar\n",
    "display(pbar5) # display the bar\n",
    "\n",
    "def nsimilars(simcut=0.5,smacut = 0.2,GTtime='ss.{:0>10d}'.format(int(paramG['nSteps'])),calmtime='ss.{:0>10d}'.format(int(paramc['nSteps']))):\n",
    "    pbar5.value = 0\n",
    "    narray = npy.array([])\n",
    "    narrayp = npy.array([])\n",
    "    narraypclose = npy.array([])\n",
    "    narraypall = npy.array([])\n",
    "    aarray = npy.array([])\n",
    "    marray = npy.array([])\n",
    "    carray = npy.array([])\n",
    "    narrayc = npy.array([])\n",
    "    narraypc = npy.array([])\n",
    "    narraypclosec = npy.array([])\n",
    "    narraypallc = npy.array([])\n",
    "    aarrayc = npy.array([])\n",
    "    marrayc = npy.array([])\n",
    "    carrayc = npy.array([])\n",
    "\n",
    "    j_low = 0\n",
    "    jarrG = []\n",
    "    jarrc = []        \n",
    "\n",
    "    for sim in simsG:\n",
    "        ssj = pkd.ss()\n",
    "        paramj = pkd.readparam(path+sim+'ss.par')\n",
    "        ssj.read(path+sim+GTtime,extras=True)\n",
    "        ssj.calcOE()\n",
    "        sorderj = npy.argsort(ssj.m)[::-1]\n",
    "        indj = sorderj[(ssj.a[sorderj]<3.5)*(ssj.e[sorderj]<1.)]\n",
    "        indlenj = len(indj)\n",
    "\n",
    "        narraytemp = npy.zeros(len(npy.where(ssj.m[indj]>=minembmass)[0]))\n",
    "        narraytempp = npy.zeros(len(npy.where(ssj.m[indj]>=minembmass)[0]))\n",
    "        narraytemppclose = npy.zeros(len(npy.where(ssj.m[indj]>=minembmass)[0]))\n",
    "        narraytemppall = npy.zeros(len(npy.where(ssj.m[indj]>=minembmass)[0]))\n",
    "        aarraytemp = npy.zeros(len(narraytemp))\n",
    "        marraytemp = npy.zeros(len(narraytemp))\n",
    "        carraytemp = npy.zeros(len(narraytemp))\n",
    "\n",
    "        for k in range(len(narraytemp)):\n",
    "            resarr = npy.zeros(indlenj)\n",
    "            obbig = ssj.origin[indj[k]]\n",
    "\n",
    "            for i in range(0,indlenj,1):\n",
    "                res = npy.corrcoef(obbig,ssj.origin[indj[i]])\n",
    "                resarr[i]=res[0,1]\n",
    "            narraytemp[k] = len(npy.where(resarr[ssj.m[indj]>=minembmass] >= simcut)[0])#/float(indlenj)\n",
    "            narraytempp[k] = len(npy.where(resarr[ssj.m[indj]<minembmass] >= simcut)[0])#/float(indlenj)\n",
    "            narraytemppclose[k] = len( npy.where( (npy.abs(ssj.a[indj][ssj.m[indj]<minembmass]-ssj.a[indj[k]])<=smacut)*(resarr[ssj.m[indj]<minembmass] >= simcut) )[0] )#/float(indlenj)\n",
    "            narraytemppall[k] = len( npy.where(npy.abs(ssj.a[indj][ssj.m[indj]<minembmass]-ssj.a[indj[k]])<=smacut)[0] )#/float(indlenj)\n",
    "            aarraytemp[k] = ssj.a[indj[k]]\n",
    "            marraytemp[k] = ssj.m[indj[k]]\n",
    "            carraytemp[k] = npy.dot(ssj.origin[indj[k]],bina)\n",
    "        if sim!='022GTJf6hgas' and j_low == 0:\n",
    "            j_low = len(narray)\n",
    "        narray = npy.append(narray,narraytemp)\n",
    "        narrayp = npy.append(narrayp,narraytempp)\n",
    "        narraypclose = npy.append(narraypclose,narraytemppclose)\n",
    "        narraypall = npy.append(narraypall,narraytemppall)\n",
    "        aarray = npy.append(aarray,aarraytemp)\n",
    "        marray = npy.append(marray,marraytemp)\n",
    "        carray = npy.append(carray,carraytemp)\n",
    "        jarrG.append(len(narray))\n",
    "        pbar5.value += 1\n",
    "        \n",
    "    if j_low==0:\n",
    "        j_low=len(narrayp)\n",
    "        \n",
    "    for sim in simsc:\n",
    "        ssj = pkd.ss()\n",
    "        paramj = pkd.readparam(path+sim+'ss.par')\n",
    "        ssj.read(path+sim+calmtime,extras=True)\n",
    "        ssj.calcOE()\n",
    "        sorderj = npy.argsort(ssj.m)[::-1]\n",
    "        indj = sorderj[(ssj.a[sorderj]<3.5)*(ssj.e[sorderj]<1.)]\n",
    "        indlenj = len(indj)\n",
    "\n",
    "        narraytemp = npy.zeros(len(npy.where(ssj.m[indj]>=minembmass)[0]))\n",
    "        narraytempp = npy.zeros(len(npy.where(ssj.m[indj]>=minembmass)[0]))\n",
    "        narraytemppclose = npy.zeros(len(npy.where(ssj.m[indj]>=minembmass)[0]))\n",
    "        narraytemppall = npy.zeros(len(npy.where(ssj.m[indj]>=minembmass)[0]))\n",
    "        aarraytemp = npy.zeros(len(narraytemp))\n",
    "        marraytemp = npy.zeros(len(narraytemp))\n",
    "        carraytemp = npy.zeros(len(narraytemp))\n",
    "\n",
    "        for k in range(len(narraytemp)):\n",
    "            resarr = npy.zeros(indlenj)\n",
    "            obbig = ssj.origin[indj[k]]\n",
    "\n",
    "            for i in range(0,indlenj,1):\n",
    "                res = npy.corrcoef(obbig,ssj.origin[indj[i]])\n",
    "                resarr[i]=res[0,1]\n",
    "            narraytemp[k] = len(npy.where(resarr[ssj.m[indj]>=minembmass] >= simcut)[0])#/float(indlenj)\n",
    "            narraytempp[k] = len(npy.where(resarr[ssj.m[indj]<minembmass] >= simcut)[0])#/float(indlenj)\n",
    "            narraytemppclose[k] = len( npy.where( (npy.abs(ssj.a[indj][ssj.m[indj]<minembmass]-ssj.a[indj[k]])<=smacut)*(resarr[ssj.m[indj]<minembmass] >= simcut) )[0] )#/float(indlenj)\n",
    "            narraytemppall[k] = len( npy.where(npy.abs(ssj.a[indj][ssj.m[indj]<minembmass]-ssj.a[indj[k]])<=smacut)[0] )#/float(indlenj)\n",
    "            aarraytemp[k] = ssj.a[indj[k]]\n",
    "            marraytemp[k] = ssj.m[indj[k]]\n",
    "            carraytemp[k] = npy.dot(ssj.origin[indj[k]],bina[0:10])\n",
    "        \n",
    "        narrayc = npy.append(narrayc,narraytemp)\n",
    "        narraypc = npy.append(narraypc,narraytempp)\n",
    "        narraypclosec = npy.append(narraypclosec,narraytemppclose)\n",
    "        narraypallc = npy.append(narraypallc,narraytemppall)\n",
    "        aarrayc = npy.append(aarrayc,aarraytemp)\n",
    "        marrayc = npy.append(marrayc,marraytemp)\n",
    "        carrayc = npy.append(carrayc,carraytemp)\n",
    "        jarrc.append(len(narrayc))\n",
    "        pbar5.value += 1\n",
    "    \n",
    "    ### plot figure\n",
    "\n",
    "    fig5 = plt.figure(figsize=(9,8.2))\n",
    "\n",
    "    plt.subplot(321)\n",
    "    plt.minorticks_on()\n",
    "    plt.scatter(aarray,narray-1,s=marksize(marray),c='xkcd:purple',cmap=cm,norm=cnorm)\n",
    "    plt.scatter(aarrayc,narrayc-1,s=marksize(marrayc),c='xkcd:tangerine',cmap=cm,norm=cnorm,zorder=0)\n",
    "    plt.ylabel('Number similar embryos')\n",
    "    plt.xlim(0.4,1.65)\n",
    "    fig5.gca().set_xticklabels([])\n",
    "\n",
    "    plt.subplot(322)\n",
    "    plt.minorticks_on()\n",
    "    plt.scatter(marray/mearth,narray-1,s=marksize(marray),c='xkcd:purple',cmap=cm,norm=cnorm)\n",
    "    plt.scatter(marrayc/mearth,narrayc-1,s=marksize(marrayc),c='xkcd:tangerine',cmap=cm,norm=cnorm,zorder=0)\n",
    "    plt.semilogx()\n",
    "    fig5.gca().set_xticklabels([])\n",
    "    fig5.gca().set_yticklabels([])\n",
    "    plt.xlim(8e-3,2)\n",
    "\n",
    "    plt.subplot(323)\n",
    "    plt.minorticks_on()\n",
    "    plt.scatter(aarray[:j_low],narrayp[:j_low],s=marksize(marray[:j_low]),c='xkcd:purple',cmap=cm,norm=cnorm)\n",
    "    plt.scatter(aarrayc,narraypc,s=marksize(marrayc),c='xkcd:tangerine',cmap=cm,norm=cnorm,zorder=0)\n",
    "    plt.ylabel('Number similar planetesimals')\n",
    "    fig5.gca().set_xticklabels([])\n",
    "    plt.xlim(0.4,1.65)\n",
    "    plt.text(0.06,0.9,'Grand Tack',ha='left',zorder=3,color='xkcd:purple',transform=plt.gca().transAxes)\n",
    "    plt.text(0.06,0.83,'calm accretion',ha='left',zorder=3,color='xkcd:tangerine',transform=plt.gca().transAxes)\n",
    "\n",
    "    plt.subplot(324)\n",
    "    plt.minorticks_on()\n",
    "    plt.scatter(marray[:j_low]/mearth,narrayp[:j_low],s=marksize(marray[:j_low]),c='xkcd:purple',cmap=cm,norm=cnorm)\n",
    "    plt.scatter(marrayc/mearth,narraypc,s=marksize(marrayc),c='xkcd:tangerine',cmap=cm,norm=cnorm,zorder=0)\n",
    "    plt.semilogx()\n",
    "    fig5.gca().set_yticklabels([])\n",
    "    fig5.gca().set_xticklabels([])\n",
    "    plt.xlim(8e-3,2)\n",
    "\n",
    "    plt.subplot(325)\n",
    "    plt.minorticks_on()\n",
    "    plt.scatter(aarray[:j_low],narraypclose[:j_low]/narraypall[:j_low],s=marksize(marray[:j_low]),c='xkcd:purple',cmap=cm,norm=cnorm)\n",
    "    plt.scatter(aarrayc,narraypclosec/narraypallc,s=marksize(marrayc),c='xkcd:tangerine',cmap=cm,norm=cnorm,zorder=0)\n",
    "    plt.ylabel('Fraction similar planetesimals')\n",
    "    plt.xlim(0.4,1.65)\n",
    "    plt.ylim(ymin=-0.02)\n",
    "    plt.errorbar(0.5+smacut,0.88*plt.gca().get_ylim()[1],xerr=smacut,fmt=\"None\",c='k',capsize=2)\n",
    "    plt.xlabel('Semi-major axis (au)')\n",
    "\n",
    "    plt.subplot(326)\n",
    "    plt.minorticks_on()\n",
    "    plt.scatter(marray[:j_low]/mearth,narraypclose[:j_low]/narraypall[:j_low],s=marksize(marray[:j_low]),c='xkcd:purple',cmap=cm,norm=cnorm)\n",
    "    plt.scatter(marrayc/mearth,narraypclosec/narraypallc,s=marksize(marrayc),c='xkcd:tangerine',cmap=cm,norm=cnorm,zorder=0)\n",
    "    plt.semilogx()\n",
    "    fig5.gca().set_yticklabels([])\n",
    "    plt.xlim(8e-3,2)\n",
    "    plt.ylim(ymin=-0.02)\n",
    "    plt.xlabel('Mass (M$_\\oplus$)')\n",
    "\n",
    "    fig5.tight_layout(pad=0.3,w_pad=0,h_pad=0)\n",
    "\n",
    "    fig5.canvas.draw()\n",
    "    pbar5.value += 1\n",
    "\n",
    "    \n",
    "GTwidget5=widgets.SelectionSlider(\n",
    "    options=widgettimes,\n",
    "    value='ss.{:0>10d}'.format(int(paramG['nSteps'])),\n",
    "    description='GT time:',\n",
    "    disabled=False,\n",
    "    continuous_update=False,\n",
    "    orientation='horizontal',\n",
    "    readout=True\n",
    ")\n",
    "calmwidget5=widgets.SelectionSlider(\n",
    "    options=widgettimes,\n",
    "    value='ss.{:0>10d}'.format(int(paramc['nSteps'])),\n",
    "    description='calm time:',\n",
    "    continuous_update=False,\n",
    "    orientation='horizontal',\n",
    "    readout=True\n",
    ")\n",
    "    \n",
    "w5 = widgets.interact(nsimilars,simcut=widgets.FloatSlider(value=0.5,min=-1,max=1.,step=0.05,description='Similar cut:',continuous_update=False),smacut=widgets.FloatSlider(value=0.2,min=0.1,max=0.5,step=0.1,description=r'$a$ cut (au):',continuous_update=False),GTtime=GTwidget5,calmtime=calmwidget5);\n"
   ]
  },
  {
   "cell_type": "markdown",
   "metadata": {},
   "source": [
    "<b>Figure 5:</b> *Number of embryos (M $\\geq$ 0.01 M$_\\oplus$, top), number of planetesimals (M $<$ 0.01 M$_\\oplus$, middle), and fraction of nearby planetesimals (bottom) with correlation coefficients of the* 'similarity cut' *or above for each embryo in several simulations. The numbers of similar bodies are shown as a function of semi-major axis (left) and mass of the relevant embryo (right). Purple points are for Grand Tack simulations, orange points are for calm accretion simulations. The fraction of planetesimals that are similar to each embryo is calculated only for planetesimals with semi-major axes within* '$a$ cut' au *of the embryo, as indicated by the black horizontal bar in the lower left panel. The sizes of the points are scaled to the mass of the embryos. Embryos from low resolution simulations are excluded from the planetesimal (lower) panels.*\n"
   ]
  },
  {
   "cell_type": "markdown",
   "metadata": {},
   "source": [
    "\n",
    "The bottom panel of Figure [5](#f:nsimilar) shows the fraction of similar planetesimals within 0.2 au of each embryo. We see distributions in semi-major axis similar to those for the number of similar planetesimals but with greater variation. Figure [6](#f:hists) shows the fraction of bodies as a function of correlation coefficient and separation for the three most massive embryos from two example simulations. The solid purple line corresponds to a region extending 0.2 au either side of the embryo as used in Figure [5](#f:nsimilar). The Grand Tack scenario shows little variation in similarity with distance from the embryo, while there is a much larger decrease in similarity in the calm accretion case. In the Grand Tack example (022GTJf6hgas)  ~20% of bodies within 1 au have a provenance correlation of 0.5 or greater for the two most massive embryos, however only 7% and 0.5% of bodies within 1 au are as similar for the two most massive embryos from the calm accretion example (022f6sgas\\_4)."
   ]
  },
  {
   "cell_type": "markdown",
   "metadata": {},
   "source": [
    "#### Figure 6: Correlation histograms <a class=\"anchor\" id=\"f:hists\"></a>"
   ]
  },
  {
   "cell_type": "code",
   "execution_count": 13,
   "metadata": {},
   "outputs": [
    {
     "data": {
      "application/vnd.jupyter.widget-view+json": {
       "model_id": "00d0dee8842d408899944f39f1b05063",
       "version_major": 2,
       "version_minor": 0
      },
      "text/plain": [
       "interactive(children=(SelectionSlider(continuous_update=False, description='GT time:', index=15, options=(('0.…"
      ]
     },
     "metadata": {},
     "output_type": "display_data"
    }
   ],
   "source": [
    "def correlationhists(GTtime='ss.{:0>10d}'.format(int(paramG['nSteps'])),calmtime='ss.{:0>10d}'.format(int(paramc['nSteps']))):\n",
    "    nr = 3  # number rows\n",
    "    nc = 2  # number columns\n",
    "\n",
    "    hbins = 400  # number bins\n",
    "    cumul = True  # cumulative histograms?\n",
    "\n",
    "    lwid = 1.3  # line width\n",
    "    \n",
    "    fig6 = plt.figure(figsize=(9,7))\n",
    "    lab = ['most massive embryo','2nd most massive embryo','3rd most massive embryo']\n",
    "\n",
    "    ssj = pkd.ss()\n",
    "    ssj.read(loc+GTtime,extras=True)\n",
    "    ssj.calcOE()\n",
    "    sorderj = npy.argsort(ssj.m)[::-1]\n",
    "    indj = sorderj[(ssj.a[sorderj]<3.5)*(ssj.e[sorderj]<1.)]\n",
    "    indlenj = len(indj)\n",
    "        \n",
    "    p = 1\n",
    "    for k in range(nr):\n",
    "        resarr = npy.zeros(indlenj)\n",
    "        obbig = ssj.origin[indj[k]]   # get provenance of k-th embryo\n",
    "\n",
    "        for i in range(0,indlenj,1):   # calculate correlations\n",
    "          res = npy.corrcoef(obbig,ssj.origin[indj[i]])\n",
    "          resarr[i]=res[0,1]\n",
    "\n",
    "        resarr[k] = -99   # ensure embryo itself is not counted (would be 1.0)\n",
    "\n",
    "        plt.subplot(nr,nc,p)\n",
    "        plt.minorticks_on()\n",
    "        plt.axvline(0.5,color='0.8',ls=(1,(6,4,6,4)),zorder=0,lw=0.9)\n",
    "        h1=plt.hist(resarr[npy.abs(ssj.a[indj]-ssj.a[indj[k]])<0.05],bins=hbins,range=(-1,1),cumulative=cumul,density=True,histtype='step',color=cmalt(1.0),zorder=5,label=r'0.05\\,au',ls='-.',lw=lwid)\n",
    "        h2=plt.hist(resarr[npy.abs(ssj.a[indj]-ssj.a[indj[k]])<0.1],bins=hbins,range=(-1,1),cumulative=cumul,density=True,histtype='step',color=cmalt(0.7),zorder=4,label=r'0.1\\,au',ls=':',lw=lwid)\n",
    "        h3=plt.hist(resarr[npy.abs(ssj.a[indj]-ssj.a[indj[k]])<0.2],bins=hbins,range=(-1,1),cumulative=cumul,density=True,histtype='step',color=cmalt(0.5),zorder=3,label=r'0.2\\,au',ls='-',lw=lwid)\n",
    "        h4=plt.hist(resarr[npy.abs(ssj.a[indj]-ssj.a[indj[k]])<0.5],bins=hbins,range=(-1,1),cumulative=cumul,density=True,histtype='step',color=cmalt(0.28),zorder=2,label=r'0.5\\,au',ls='--',lw=lwid)\n",
    "        h5=plt.hist(resarr[npy.abs(ssj.a[indj]-ssj.a[indj[k]])<1.0],bins=hbins,range=(-1,1),cumulative=cumul,density=True,histtype='step',color=cmalt(0.1),zorder=1,label=r'1.0\\,au',ls=(1,(5,2,1,2,1,2)),lw=lwid)\n",
    "        if p==3:\n",
    "            plt.ylabel('Cumulative fraction of bodies')\n",
    "        if p==3:\n",
    "            handles = [ matplotlib.lines.Line2D([], [], c=h[2][0].get_ec(), ls=h[2][0].get_ls(), lw=h[2][0].get_lw()) for h in [h1,h2,h3,h4,h5]]\n",
    "            hand,labels=fig6.gca().get_legend_handles_labels()\n",
    "            plt.legend(handles=handles,labels=labels,loc=2,handlelength=3)\n",
    "        if p==1:\n",
    "            plt.text(-0.85,0.98,'Grand Tack',va='top',ha='left')\n",
    "        plt.text(0.97,0.03,lab[k],va='bottom',ha='right',bbox=dict(facecolor='w',edgecolor='none',pad=0.4,alpha=0.6))\n",
    "\n",
    "        plt.xlim(-0.9,1.0)\n",
    "        plt.ylim(0,1.05)\n",
    "        if p < (nr-1)*nc:\n",
    "            plt.gca().set_xticklabels([])\n",
    "        else:\n",
    "            plt.xlabel('Correlation coefficient')\n",
    "\n",
    "        #print(len((ssG.m[indG]/mearth)[(ssG.m[indG]/mearth>=1e-2)*(resarr>=0.5)])-1,(ssG.m[indG]/mearth)[(ssG.m[indG]/mearth>=1e-2)*(resarr>=0.5)])\n",
    "        p += 2\n",
    "        #print('GT:',h5[0][h5[1][:-1]==0.5])\n",
    "\n",
    "    ssj = pkd.ss()\n",
    "    ssj.read(loc_c+calmtime,extras=True)\n",
    "    ssj.calcOE()\n",
    "    sorderj = npy.argsort(ssj.m)[::-1]\n",
    "    indj = sorderj[(ssj.a[sorderj]<3.5)*(ssj.e[sorderj]<1.)]\n",
    "    indlenj = len(indj)\n",
    "\n",
    "    p=2\n",
    "    for k in range(nr):\n",
    "        resarr = npy.zeros(indlenj)\n",
    "        obbig = ssj.origin[indj[k]]\n",
    "\n",
    "        for i in range(0,indlenj,1):\n",
    "          res = npy.corrcoef(obbig,ssj.origin[indj[i]])\n",
    "          resarr[i]=res[0,1]\n",
    "\n",
    "        resarr[k] = -99\n",
    "\n",
    "        plt.subplot(nr,nc,p)\n",
    "        plt.minorticks_on()\n",
    "        plt.axvline(0.5,color='0.8',ls=(1,(6,4,6,4)),zorder=0,lw=0.9)\n",
    "        plt.hist(resarr[npy.abs(ssj.a[indj]-ssj.a[indj[k]])<0.05],bins=hbins,range=(-1,1),cumulative=cumul,density=True,histtype='step',color=cmalt(1.0),zorder=5,label=r'0.05\\,au',ls='-.',lw=lwid)\n",
    "        plt.hist(resarr[npy.abs(ssj.a[indj]-ssj.a[indj[k]])<0.1],bins=hbins,range=(-1,1),cumulative=cumul,density=True,histtype='step',color=cmalt(0.7),zorder=4,label=r'0.1\\,au',ls=':',lw=lwid)\n",
    "        plt.hist(resarr[npy.abs(ssj.a[indj]-ssj.a[indj[k]])<0.2],bins=hbins,range=(-1,1),cumulative=cumul,density=True,histtype='step',color=cmalt(0.5),zorder=3,label=r'0.2\\,au',ls='-',lw=lwid)\n",
    "        plt.hist(resarr[npy.abs(ssj.a[indj]-ssj.a[indj[k]])<0.5],bins=hbins,range=(-1,1),cumulative=cumul,density=True,histtype='step',color=cmalt(0.28),zorder=2,label=r'0.5\\,au',ls='--',lw=lwid)\n",
    "        h6=plt.hist(resarr[npy.abs(ssj.a[indj]-ssj.a[indj[k]])<1.0],bins=hbins,range=(-1,1),cumulative=cumul,density=True,histtype='step',color=cmalt(0.1),zorder=1,label=r'1.0\\,au',ls=(1,(5,2,1,2,1,2)),lw=lwid)\n",
    "        plt.xlim(-0.9,1.0)\n",
    "        plt.ylim(0,1.05)\n",
    "        if p==2:\n",
    "            plt.text(-0.85,0.98,'calm accretion',va='top',ha='left')\n",
    "        fig6.gca().set_yticklabels([])\n",
    "        if p < (nr-1)*nc+1:\n",
    "            fig6.gca().set_xticklabels([])\n",
    "        else:\n",
    "            plt.xlabel('Correlation coefficient')\n",
    "        p+=2\n",
    "        #print('c:',h6[0][h6[1][:-1]==0.5])\n",
    "\n",
    "    fig6.tight_layout(pad=0.2,w_pad=0,h_pad=0)\n",
    "\n",
    "    fig6.canvas.draw()\n",
    "\n",
    "    #print(h6[0][h6[1][:-1]==0.8])\n",
    "\n",
    "    \n",
    "GTwidget6=widgets.SelectionSlider(\n",
    "    options=widgettimes,\n",
    "    value='ss.{:0>10d}'.format(int(paramG['nSteps'])),\n",
    "    description='GT time:',\n",
    "    disabled=False,\n",
    "    continuous_update=False,\n",
    "    orientation='horizontal',\n",
    "    readout=True\n",
    ")\n",
    "calmwidget6=widgets.SelectionSlider(\n",
    "    options=widgettimes,\n",
    "    value='ss.{:0>10d}'.format(int(paramc['nSteps'])),\n",
    "    description='calm time:',\n",
    "    continuous_update=False,\n",
    "    orientation='horizontal',\n",
    "    readout=True\n",
    ")\n",
    "    \n",
    "w6 = widgets.interact(correlationhists,GTtime=GTwidget6,calmtime=calmwidget6);\n"
   ]
  },
  {
   "cell_type": "markdown",
   "metadata": {},
   "source": [
    "**Figure 6:** *Provenance correlation distributions for nearby bodies with increasing distance from the embryo for the three most massive embryos in example Grand Tack (022GTJf6hgas) and calm accretion (022f6sgas\\_4) simulations. The colors and line styles (see legend) indicate the width of the bin around the embryo in which correlation is calculated. \n",
    "The grey dashed vertical line highlights the correlation coefficient of 0.5 used as the default comparison elsewhere in this work.*"
   ]
  },
  {
   "cell_type": "markdown",
   "metadata": {},
   "source": [
    "### 3.4. Origins of similar planetesimals\n",
    "\n",
    "We have seen that planetesimals with similar provenances to planetary embryos can be present in the disk early in the giant impact phase of evolution. We now examine the histories of these small bodies to learn how and why they became similar in provenance to the embryos.\n",
    "\n",
    "The time evolution of body provenances (Figures [7](#f:correlationevolutionGT) and [8](#f:correlationevolutioncalm)) allows us to examine when bodies become similar in provenance to each other. The 12 most-similar final bodies for the two largest embryos from the example Grand Tack simulation (shown in Figure [3](#f:embcompareGT)) are shown in Figure [7](#f:correlationevolutionGT). The thick dark purple line indicates the growing embryo itself. By definition, an embryo has its ending provenance at the end of the simulation run, therefore its final correlation coefficient is 1.0. In both examples in Figure [7](#f:correlationevolutionGT), the body that grew into the embryo (thick purple line) began with a correlation coefficient of 0.5 or less, indicating that the provenance of the embryo changed substantially as it grew. The most massive embryo (left hand panels) had several collisions with other embryos between 5 and 20 Myr that significantly affected its provenance. The second most massive embryo (right hand panels) gained much of its provenance characteristics at  ~2 Myr, during or shortly after Jupiter's migration event.\n",
    "\n",
    "The majority of the most-similar planetesimals for the largest embryos in the Grand Tack (Figure [7](#f:correlationevolutionGT)) acquire their very-similar provenances at the time they form (appearing as vertical lines beginning on the $x$-axis in the upper panels); these similar planetesimals are fragments ejected from the near-fully-grown planet. These fragments of proto-planets have typical masses ranging from  ~5% to a few times the mass of the modern asteroid belt ($5\\times10^{-4}$ M$_\\oplus$, [DeMeo & Carry 2013](#DeMeo13)). In the examples shown here, these surviving planetesimals can remain in the system for 10 Myr or more as the planets continue growing. The most-similar bodies to the second largest embryo, shown in the right hand panels of Figure [7](#f:correlationevolutionGT), are closer in provenance (higher correlation) at the end of the simulation run than those for the most massive embryo. This greater similarity arises because the second largest embryo gains its (near-)final provenance and near-final mass earlier than the most massive embryo (left hand panels), which undergoes greater change in provenance after the production of many of its most-similar planetesimals.\n",
    "\n",
    "Some planetesimals exhibit substantial changes in provenance with small changes in mass, for example the purple dashed line at  ~20 Myr in the left hand panels of Figure [8](#f:correlationevolutioncalm). These sudden changes in provenance for an existing planetesimal are caused by collision with a more massive body. The remnants of the collision gain the mass-weighted average provenance of the impactors, and so a large difference in mass can cause a large change in provenance of the smaller body.\n",
    "\n",
    "Embryos and planetesimals become similar early in the Grand Tack simulations (in the first few Myr), as a result of collisions caused by the inward migration of Jupiter. There are thus many intermediate bodies (planetesimals and embryos) with similar provenances close to the tack point early in the giant impact phase (see Figure [3](#f:embcompareGT)), and before the Moon-forming impact. One of these embryos could represent a Theia with isotopic composition similar to the proto-Earth. The final planets can have similar provenances to several intermediate embryos, and planetesimals could be ejected from any of these intermediate embryos."
   ]
  },
  {
   "cell_type": "markdown",
   "metadata": {},
   "source": [
    "#### Figure 7: Compositional evolution <a class=\"anchor\" id=\"f:correlationevolutionGT\"></a>"
   ]
  },
  {
   "cell_type": "code",
   "execution_count": 14,
   "metadata": {
    "tags": []
   },
   "outputs": [
    {
     "data": {
      "application/vnd.jupyter.widget-view+json": {
       "model_id": "87bad24fc47f433695975223c9890b2e",
       "version_major": 2,
       "version_minor": 0
      },
      "text/plain": [
       "interactive(children=(IntSlider(value=0, continuous_update=False, description='Embryo:', max=7), IntSlider(val…"
      ]
     },
     "metadata": {},
     "output_type": "display_data"
    }
   ],
   "source": [
    "def compevo(e=0,np=12):    \n",
    "    resarr = npy.zeros(indlenG)\n",
    "\n",
    "    fig7=plt.figure(figsize=(10,9))\n",
    "    gs = matplotlib.gridspec.GridSpec(12, 8,wspace=0.0,left=0.3,bottom=0.2)\n",
    "    fig7.add_subplot(gs[1:4,5:])\n",
    "    plt.minorticks_on()\n",
    "    plt.bar(npy.arange(amin,amin+0.1*len(ssG.origin[indG[e]]),0.1),ssG.origin[indG[e]],width=0.1,color=cmap(cnorm(cval)),align='edge',edgecolor='k',lw=0.2)\n",
    "    plt.xlabel('Semi-major axis (au)')\n",
    "    plt.ylabel('Mass Fraction')\n",
    "    if e==0:\n",
    "        plt.text(0.03,1.18,'Most massive embryo',transform=plt.gca().transAxes,fontsize=txsz+2)\n",
    "    elif e==1:\n",
    "        plt.text(0.03,1.18,'2nd most massive embryo',transform=plt.gca().transAxes,fontsize=txsz+2)\n",
    "    elif e==2:\n",
    "        plt.text(0.03,1.18,'3rd most massive embryo',transform=plt.gca().transAxes,fontsize=txsz+2)\n",
    "    elif e>2:\n",
    "        plt.text(0.03,1.18,'{:d}th most massive embryo'.format(e+1),transform=plt.gca().transAxes,fontsize=txsz+2)\n",
    "        \n",
    "    obbig = ssG.origin[indG[e]]\n",
    "\n",
    "    for i in range(0,indlenG,1):\n",
    "        res = npy.corrcoef(obbig,ssG.origin[indG[i]])\n",
    "        resarr[i]=res[0,1]\n",
    "\n",
    "    fig7.add_subplot(gs[5:8,5:])\n",
    "    plt.minorticks_on()\n",
    "    plt.scatter(ssG.m[indG]/mearth,resarr,s=0.45*marksize(ssG.m[indG]),c=npy.dot(ssG.origin[indG],bina[0:nbins]),cmap=cm,norm=cnorm)\n",
    "    plt.scatter(ssG.m[indG[e]]/mearth,resarr[e],edgecolor='k',s=2.1*1.8*marksize(ssG.m[indG[e]])**0.7,facecolor='none',lw=1.2)\n",
    "    plt.ylabel('Correlation')\n",
    "    plt.xlabel('Mass (M$_\\oplus$)')\n",
    "    plt.semilogx()\n",
    "    plt.ylim(ymax=1.1)\n",
    "\n",
    "    fdata = npy.loadtxt(loc+'comp_evolution-{:d}.dat'.format(e),unpack=True)\n",
    "    nbodies = int(( npy.shape(fdata)[0]-1)/2 ) \n",
    "    if nbodies>np+1:\n",
    "        nbodies = np+1\n",
    "\n",
    "    time = fdata[0]\n",
    "    mt = fdata[1]\n",
    "    at = fdata[2]\n",
    "    cct = fdata[3]\n",
    "\n",
    "    mlist = fdata[1::3]\n",
    "    alist = fdata[2::3]\n",
    "    cclist = fdata[3::3]\n",
    "\n",
    "    gs2 = matplotlib.gridspec.GridSpec(12, 8)\n",
    "    fig7.add_subplot(gs2[0:4,:5])\n",
    "    plt.minorticks_on()\n",
    "    plt.plot(36*time/2./math.pi/1e6,cct,lw=1.0,color=cmalt(1.))\n",
    "    for k in range(1,nbodies):\n",
    "        if k % 3 == 1:#k>0.5*nbodies:\n",
    "            ls='dashed'\n",
    "        elif k % 3 == 2:#k>0.5*nbodies:\n",
    "            ls='dashdot'\n",
    "        else:\n",
    "            ls='-'\n",
    "        plt.plot(36*time/2./math.pi/1e6,cclist[k],ls=ls,lw=0.6,color=cmalt(1.-(1./(nbodies-1.))*k),zorder=nbodies-k)\n",
    "    plt.ylabel('Correlation')\n",
    "    plt.ylim(-0.6,1.05)\n",
    "    plt.xlim(0,22)\n",
    "    fig7.gca().set_xticklabels([])\n",
    "    \n",
    "    gs3 = matplotlib.gridspec.GridSpec(12, 8)\n",
    "    fig7.add_subplot(gs3[4:8,:5])\n",
    "    plt.minorticks_on()\n",
    "    plt.plot(36*time/2./math.pi/1e6,mt*330060,lw=1.0,color=cmalt(1.))#*330060)\n",
    "    for k in range(1,nbodies):\n",
    "        if k % 3 == 1:#k>0.5*nbodies:\n",
    "            ls='dashed'\n",
    "        elif k % 3 == 2:#k>0.5*nbodies:\n",
    "            ls='dashdot'\n",
    "        else:\n",
    "            ls='-'\n",
    "        plt.plot(36*time/2./math.pi/1e6,mlist[k]*330060,ls=ls,lw=0.6,color=cmalt(1.-(1./(nbodies-1.))*k),zorder=nbodies-k)#*330060)\n",
    "    plt.semilogy()\n",
    "    fig7.gca().yaxis.set_major_locator(ticker.LogLocator(base=10.,subs=(1.0,),numticks=9))\n",
    "    fig7.gca().yaxis.set_minor_locator(ticker.LogLocator(base=10.,subs=(0.2,0.4,0.6,0.8),numticks=9))\n",
    "    plt.ylabel('Mass (M$_\\oplus$)')\n",
    "    plt.ylim(1e-5,2.)\n",
    "    plt.xlim(0,22)\n",
    "    fig7.gca().set_xticklabels([])\n",
    "    \n",
    "    gs4 = matplotlib.gridspec.GridSpec(12, 8)\n",
    "    fig7.add_subplot(gs4[8:,:5])\n",
    "    plt.minorticks_on()\n",
    "    plt.plot(36*time/2./math.pi/1e6,at,lw=1.0,color=cmalt(1.))#*330060)\n",
    "    for k in range(1,nbodies):\n",
    "        if k % 3 == 1:#k>0.5*nbodies:\n",
    "            ls='dashed'\n",
    "        elif k % 3 == 2:#k>0.5*nbodies:\n",
    "            ls='dashdot'\n",
    "        else:\n",
    "            ls='-'\n",
    "        plt.plot(36*time[alist[k]>0]/2./math.pi/1e6,alist[k][alist[k]>0],ls=ls,lw=0.6,color=cmalt(1.-(1./(nbodies-1.))*k),zorder=nbodies-k)#*330060)\n",
    "    plt.xlabel('Time (Myr)')\n",
    "    plt.ylabel('Semi-major axis (au)')\n",
    "    plt.ylim(0.4,2.9)\n",
    "    plt.xlim(0,22) #0,22\n",
    "\n",
    "    fig7.canvas.draw()\n",
    "\n",
    "w7 = widgets.interact(compevo,e=widgets.IntSlider(value=0,min=0,max=7,step=1,description='Embryo:',continuous_update=False),np=widgets.IntSlider(value=12,min=1,max=20,step=1,description='N similar:',continuous_update=False));\n"
   ]
  },
  {
   "cell_type": "markdown",
   "metadata": {},
   "source": [
    "<b>Figure 7:</b> *Evolution of provenance correlation coefficient, body mass, and semi-major axis for the selected growing embryo and the* N *bodies with the most similar provenances at the end of an example Grand Tack simulation (022GTJf6hgas). The thick dark purple line indicates the embryo and the thin solid, dashed, and dot-dash lines the most similar bodies, colored in order of correlation coefficient (purple – highest – to yellow – lowest). Note that the properties of bodies shown in these plots, including orbits, correspond to the fixed output times of the provenance data; collision ejecta may have undergone tens of orbits before appearing on the plots, hence the wide range of semi-major axes for new fragments.*"
   ]
  },
  {
   "cell_type": "markdown",
   "metadata": {},
   "source": [
    "There are several major differences in provenance evolution between the Grand Tack and calm accretion scenarios. Figure [8](#f:correlationevolutioncalm) shows the evolution of the two most massive embryos and the bodies most similar to them for an example calm accretion simulation. The embryos (thick dark purple lines) begin with provenances much more similar to their final provenances (correlation coefficients of  ~0.7 and 0.8) than seen for the Grand Tack example (Figure [7](#f:correlationevolutionGT)). With much less mixing than in the Grand Tack scenario, calm accretion results in embryos that are dominated by material that originated very close to their final locations."
   ]
  },
  {
   "cell_type": "markdown",
   "metadata": {},
   "source": [
    "#### Figure 8: Compositional evolution calm accretion <a class=\"anchor\" id=\"f:correlationevolutioncalm\"></a>"
   ]
  },
  {
   "cell_type": "code",
   "execution_count": 15,
   "metadata": {},
   "outputs": [
    {
     "data": {
      "application/vnd.jupyter.widget-view+json": {
       "model_id": "821bfad0f3cd4f0fbb063b6562cf6c10",
       "version_major": 2,
       "version_minor": 0
      },
      "text/plain": [
       "interactive(children=(IntSlider(value=0, continuous_update=False, description='Embryo:', max=6), IntSlider(val…"
      ]
     },
     "metadata": {},
     "output_type": "display_data"
    }
   ],
   "source": [
    "def compevoc(e=0,np=12):    \n",
    "    resarr = npy.zeros(indlenc) # what is indlen!?\n",
    "\n",
    "    fig8=plt.figure(figsize=(6,9.5))\n",
    "    gs = matplotlib.gridspec.GridSpec(16, 2,wspace=0.32,bottom=0.32)\n",
    "    fig8.add_subplot(gs[0:4,0])\n",
    "    plt.minorticks_on()\n",
    "    plt.bar(npy.arange(amin,amin+0.1*len(ssc.origin[indc[e]]),0.1),ssc.origin[indc[e]],width=0.1,color=cmap(cnorm(cval)),align='edge',edgecolor='k',lw=0.2)\n",
    "    plt.xlabel('Semi-major axis (au)')\n",
    "    plt.ylabel('Mass Fraction')\n",
    "    if e==0:\n",
    "        plt.text(0.03,1.18,'Most massive embryo',transform=plt.gca().transAxes)\n",
    "    elif e==1:\n",
    "        plt.text(0.03,1.18,'2nd most massive embryo',transform=plt.gca().transAxes)\n",
    "    elif e==2:\n",
    "        plt.text(0.03,1.18,'3rd most massive embryo',transform=plt.gca().transAxes)\n",
    "    elif e>2:\n",
    "        plt.text(0.03,1.18,'{:d}th most massive embryo'.format(e+1),transform=plt.gca().transAxes)\n",
    "        \n",
    "    \n",
    "    obbig = ssc.origin[indc[e]]\n",
    "\n",
    "    for i in range(0,indlenc,1):\n",
    "        res = npy.corrcoef(obbig,ssc.origin[indc[i]])\n",
    "        resarr[i]=res[0,1]\n",
    "\n",
    "    # correlation vs mass with color and size\n",
    "    fig8.add_subplot(gs[0:4,1])\n",
    "    plt.minorticks_on()\n",
    "    plt.scatter(ssc.m[indc]/mearth,resarr,s=0.45*marksize(ssc.m[indc]),c=npy.dot(ssc.origin[indc],bina[0:int(paramc['nDustBins'])]),cmap=cm,norm=cnorm)\n",
    "    plt.scatter(ssc.m[indc[e]]/mearth,resarr[e],edgecolor='k',s=2.1*1.8*marksize(ssc.m[indc[e]])**0.7,facecolor='none',lw=1.2)\n",
    "    plt.ylabel('Correlation')\n",
    "    plt.xlabel('Mass (M$_\\oplus$)')\n",
    "\n",
    "    #plt.tight_layout(pad=0.2,w_pad=0.7,h_pad=0.)\n",
    "    plt.semilogx()\n",
    "    plt.ylim(ymax=1.1)\n",
    "\n",
    "    \n",
    "    fdata = npy.loadtxt(loc_c+'comp_evolution-{:d}.dat'.format(e),unpack=True)\n",
    "    nbodies = int(( npy.shape(fdata)[0]-1)/2 ) \n",
    "    if nbodies>np+1:\n",
    "        nbodies = np+1\n",
    "    #print(nbodies)\n",
    "\n",
    "    time = fdata[0]\n",
    "    mt = fdata[1]\n",
    "    at = fdata[2]\n",
    "    cct = fdata[3]\n",
    "\n",
    "    mlist = fdata[1::3]\n",
    "    alist = fdata[2::3]\n",
    "    cclist = fdata[3::3]\n",
    "\n",
    "    gs2 = matplotlib.gridspec.GridSpec(16, 2)\n",
    "    fig8.add_subplot(gs2[4:8,:])\n",
    "    plt.minorticks_on()\n",
    "    plt.plot(36*time/2./math.pi/1e6,cct,lw=1.0,color=cmalt(1.))\n",
    "    for k in range(1,nbodies):\n",
    "        if k % 3 == 1:#k>0.5*nbodies:\n",
    "            ls='dashed'\n",
    "        elif k % 3 == 2:#k>0.5*nbodies:\n",
    "            ls='dashdot'\n",
    "        else:\n",
    "            ls='-'\n",
    "        plt.plot(36*time/2./math.pi/1e6,cclist[k],ls=ls,lw=0.6,color=cmalt(1.-(1./(nbodies-1.))*k),zorder=nbodies-k)\n",
    "    plt.ylabel('Correlation')\n",
    "    plt.ylim(-0.6,1.05)\n",
    "    plt.xlim(0,22)\n",
    "    plt.gca().set_xticklabels([])\n",
    "    \n",
    "    gs3 = matplotlib.gridspec.GridSpec(16, 2)\n",
    "    fig8.add_subplot(gs3[8:12,:])\n",
    "    plt.minorticks_on()\n",
    "    plt.plot(36*time/2./math.pi/1e6,mt*330060,lw=1.0,color=cmalt(1.))#*330060)\n",
    "    for k in range(1,nbodies):\n",
    "        if k % 3 == 1:#k>0.5*nbodies:\n",
    "            ls='dashed'\n",
    "        elif k % 3 == 2:#k>0.5*nbodies:\n",
    "            ls='dashdot'\n",
    "        else:\n",
    "            ls='-'\n",
    "        plt.plot(36*time/2./math.pi/1e6,mlist[k]*330060,ls=ls,lw=0.6,color=cmalt(1.-(1./(nbodies-1.))*k),zorder=nbodies-k)#*330060)\n",
    "    plt.semilogy()\n",
    "    fig8.gca().yaxis.set_major_locator(ticker.LogLocator(base=10.,subs=(1.0,),numticks=9))\n",
    "    fig8.gca().yaxis.set_minor_locator(ticker.LogLocator(base=10.,subs=(0.2,0.4,0.6,0.8),numticks=9))\n",
    "    plt.ylabel('Mass (M$_\\oplus$)')\n",
    "    plt.ylim(1e-5,2.)\n",
    "    plt.xlim(0,22)\n",
    "    plt.gca().set_xticklabels([])\n",
    "    \n",
    "    gs4 = matplotlib.gridspec.GridSpec(16, 2)\n",
    "    fig8.add_subplot(gs4[12:,:])\n",
    "    plt.minorticks_on()\n",
    "    plt.plot(36*time/2./math.pi/1e6,at,lw=1.0,color=cmalt(1.))#*330060)\n",
    "    for k in range(1,nbodies):\n",
    "        if k % 3 == 1:#k>0.5*nbodies:\n",
    "            ls='dashed'\n",
    "        elif k % 3 == 2:#k>0.5*nbodies:\n",
    "            ls='dashdot'\n",
    "        else:\n",
    "            ls='-'\n",
    "        plt.plot(36*time[alist[k]>0]/2./math.pi/1e6,alist[k][alist[k]>0],ls=ls,lw=0.6,color=cmalt(1.-(1./(nbodies-1.))*k),zorder=nbodies-k)#*330060)\n",
    "    plt.xlabel('Time (Myr)')\n",
    "    plt.ylabel('Semi-major axis (au)')\n",
    "    plt.ylim(0.4,2.9)\n",
    "    plt.xlim(0,22) #0,22\n",
    "    fig8.canvas.draw()\n",
    "    \n",
    "\n",
    "w8 = widgets.interact(compevoc,e=widgets.IntSlider(value=0,min=0,max=6,step=1,description='Embryo:',continuous_update=False),np=widgets.IntSlider(value=12,min=1,max=20,step=1,description='N similar:',continuous_update=False));\n"
   ]
  },
  {
   "cell_type": "markdown",
   "metadata": {},
   "source": [
    "<b>Figure 8:</b> *Evolution of provenance correlation coefficient, body mass, and semi-major axis for the selected growing embryo and the* N *bodies with the most similar provenances at the end of an example calm accretion simulation (022f6sgas\\_4). The thick dark purple line indicates the embryo and the thin solid, dashed, and dot-dash lines the most similar bodies, colored in order of correlation coefficient (purple – highest – to yellow – lowest).* "
   ]
  },
  {
   "cell_type": "markdown",
   "metadata": {},
   "source": [
    "The second clear difference in evolution of similar bodies in the calm accretion scenario is the origin of the most-similar smaller bodies. From Figure [8](#f:correlationevolutioncalm), it is evident that most of these smaller bodies exist from the start of the simulation. Many of the similar planetesimals evolve in provenance very similarly to their similar embryo. Note, however, that many of the 'most-similar' bodies for the second largest embryo have low correlations to the embryo's final provenance. Of the 24 planetesimals most-similar to the two largest embryos in the example shown in Figure [8](#f:correlationevolutioncalm), only one is a clear collision fragment – the dot-dashed purple line appearing just before 8 Myr in the upper left panels. Unlike the similar-provenance fragments in the Grand Tack case, this fragment was not ejected from the embryo, it appeared with a correlation coefficient of  ~0.5, and only gained its greater similarity later. The calm accretion scenario results in fewer fragments than the Grand Tack simulations, and a smaller fraction of surviving bodies are fragments across the disk at the end of these simulations (Figure [9](#f:fragfrac))."
   ]
  },
  {
   "cell_type": "markdown",
   "metadata": {},
   "source": [
    "#### Figure 9: Fragment population <a class=\"anchor\" id=\"f:fragfrac\"></a>"
   ]
  },
  {
   "cell_type": "code",
   "execution_count": 16,
   "metadata": {},
   "outputs": [
    {
     "data": {
      "application/vnd.jupyter.widget-view+json": {
       "model_id": "5e23ebfc6d154fbf9079fa5925b92b06",
       "version_major": 2,
       "version_minor": 0
      },
      "text/plain": [
       "interactive(children=(SelectionSlider(continuous_update=False, description='GT time:', index=15, options=(('0.…"
      ]
     },
     "metadata": {},
     "output_type": "display_data"
    }
   ],
   "source": [
    "def fraghist(GTtime=0,calmtime=0):\n",
    "    hbins = npy.arange(0.0,3.6,0.2)  # histogram bins\n",
    "    \n",
    "    ssj = pkd.ss()\n",
    "    ssj.read(loc+GTtime,extras=True)\n",
    "    ssj.calcOE()\n",
    "    sorderj = npy.argsort(ssj.m)[::-1]\n",
    "    indj = sorderj[(ssj.a[sorderj]<3.5)*(ssj.e[sorderj]<1.)]\n",
    "\n",
    "    hall = npy.histogram(ssj.a[indj],bins=hbins)  # all bodies\n",
    "    hfrag = npy.histogram(ssj.a[indj][ssj.id[indj]>100000],bins=hbins)  # framgents\n",
    "\n",
    "    ssj = pkd.ss()\n",
    "    ssj.read(loc_c+calmtime,extras=True)\n",
    "    ssj.calcOE()\n",
    "    sorderj = npy.argsort(ssj.m)[::-1]\n",
    "    indj = sorderj[(ssj.a[sorderj]<3.5)*(ssj.e[sorderj]<1.)]\n",
    "\n",
    "    hallc = npy.histogram(ssj.a[indj],bins=hbins)\n",
    "    hfragc = npy.histogram(ssj.a[indj][ssj.id[indj]>100000],bins=hbins)\n",
    "\n",
    "    hall0 = npy.where(hall[0]==0,1,hall[0])\n",
    "    hallc0 = npy.where(hallc[0]==0,1,hallc[0])\n",
    "\n",
    "    fig9 = plt.figure(figsize=(5,3.5))\n",
    "    plt.minorticks_on()\n",
    "    plt.bar(hall[1][:-1],hfrag[0]/hall0,width=hbins[1]-hbins[0],align='edge',color='xkcd:purple',alpha=0.1)\n",
    "    plt.stairs(hfrag[0]/hall0,hall[1],color='xkcd:purple',ls='--',lw=1.,label='Grand Tack',zorder=1)\n",
    "    plt.bar(hallc[1][:-1],hfragc[0]/hallc0,width=hbins[1]-hbins[0],align='edge',color='xkcd:tangerine',alpha=0.1)\n",
    "    plt.stairs(hfragc[0]/hallc0,hallc[1],color='xkcd:tangerine',lw=1.,label='calm accretion',zorder=2)\n",
    "    plt.xlim(0,3.5)\n",
    "    #plt.ylim(ymin=0,ymax=int((hfrag[0]/hall0).max()*10+1)/10.)\n",
    "    plt.ylim(0,0.6)\n",
    "    plt.legend()\n",
    "    plt.xlabel('Semi-major axis (au)')\n",
    "    plt.ylabel('Fragment fraction')\n",
    "    fig9.tight_layout(pad=0.2,w_pad=0,h_pad=0)\n",
    "    plt.show()\n",
    "    fig9.canvas.draw()\n",
    "    \n",
    "GTwidget9=widgets.SelectionSlider(\n",
    "    options=widgettimes,\n",
    "    value='ss.{:0>10d}'.format(int(paramG['nSteps'])),\n",
    "    description='GT time:',\n",
    "    disabled=False,\n",
    "    continuous_update=False,\n",
    "    orientation='horizontal',\n",
    "    readout=True\n",
    ")\n",
    "calmwidget9=widgets.SelectionSlider(\n",
    "    options=widgettimes,\n",
    "    value='ss.{:0>10d}'.format(int(paramc['nSteps'])),\n",
    "    description='calm time:',\n",
    "    continuous_update=False,\n",
    "    orientation='horizontal',\n",
    "    readout=True\n",
    ")\n",
    "\n",
    "    \n",
    "w9 = widgets.interact(fraghist,GTtime=GTwidget9,calmtime=calmwidget9);\n"
   ]
  },
  {
   "cell_type": "markdown",
   "metadata": {},
   "source": [
    "**Figure 9:** *Fraction of surviving bodies that are collision fragments at the end of example Grand Tack (022GTJf6hgas, purple – dashed line) and calm accretion (022f6sgas\\_4, orange – solid line) simulations. The large fragment fractions at beyond 1.6 au for the calm accretion case are due to the very small numbers of bodies in these bins.*"
   ]
  },
  {
   "cell_type": "markdown",
   "metadata": {},
   "source": [
    "### 3.5. Core provenance\n",
    "\n",
    "We assume that all bodies in these simulations are differentiated and remain differentiated throughout. Since these bodies can undergo imperfect collisions, the provenances of core and mantle can diverge. While this decoupling has a negligible effect on massive embryos, the planetesimals can develop substantial differences, particularly in the dynamically excited Grand Tack scenario  (see Figure [10](#f:corecomp)).\n",
    "\n",
    "Approximately 9% of bodies at the end of the Grand Tack simulations have correlation coefficients between their core and mantle provenances below 0.5. \n",
    "The calm accretion simulations also result in planetesimals with dissimilar core and mantle, but these planetesimals represent a smaller fraction of the total number of bodies,  ~3%.\n",
    "\n",
    "For the planetesimals that have bulk provenances very similar to an embryo but have low core mass fractions the metallic core can have a substantially different provenance (see the upper rows in Figure [10](#f:corecomp)). In some cases the leftover planetesimals can have metallic cores similar to an embryo's provenance, while the silicate mantle (or bulk provenance) does not match.\n",
    "\n",
    "This variation in core mass fraction and core and mantle provenances means that small bodies can have non-chondritic metal-silicate ratios, and siderophile elements from different isotopic reservoirs than the lithophiles.\n"
   ]
  },
  {
   "cell_type": "markdown",
   "metadata": {},
   "source": [
    "#### Figure 10: Core provenance <a class=\"anchor\" id=\"f:corecomp\"></a>"
   ]
  },
  {
   "cell_type": "code",
   "execution_count": 17,
   "metadata": {},
   "outputs": [
    {
     "data": {
      "application/vnd.jupyter.widget-view+json": {
       "model_id": "52bb038c35274e1cad1e0ff831b6a7ce",
       "version_major": 2,
       "version_minor": 0
      },
      "text/plain": [
       "interactive(children=(IntSlider(value=0, continuous_update=False, description='Embryo:', max=14), Output()), _…"
      ]
     },
     "metadata": {},
     "output_type": "display_data"
    }
   ],
   "source": [
    "def coreprovhists(j=0):\n",
    "    resarr = npy.zeros(indlenG)\n",
    "    resarrcore = npy.zeros(indlenG)\n",
    "\n",
    "    obbig = ssG.origin[indG[j]]\n",
    "\n",
    "    for i in range(0,indlenG,1):\n",
    "        res = npy.corrcoef(obbig,ssG.origin[indG[i]])\n",
    "        resarr[i]=res[0,1]\n",
    "        res = npy.corrcoef(obbig,ssG.corigin[indG[i]])\n",
    "        resarrcore[i]=res[0,1]\n",
    "\n",
    "    corder=npy.argsort(resarr)[::-1]\n",
    "\n",
    "    fig10 = plt.figure(figsize=(8,5.4))\n",
    "\n",
    "    for i in range(0,9,1):\n",
    "      plt.subplot(3,3,i+1)\n",
    "      plt.minorticks_on()\n",
    "      plt.step(npy.arange(amin,amin+0.1*len(ssG.origin[indG[i]]),0.1),ssG.origin[indG[corder[i]]],where='post',color='k',lw=0.6)\n",
    "      plt.bar(npy.arange(amin,amin+0.1*len(ssG.corigin[indG[i]]),0.1),ssG.corigin[indG[corder[i]]],width=0.1,color=cmap(cnorm(cval)),align='edge',edgecolor='k',lw=0.2)\n",
    "      #print(i, indG[corder[i]], ssG.a[indG[corder[i]]],ssG.e[indG[corder[i]]],ssG.m[indG[corder[i]]]*330060.,resarrcore[corder[i]])\n",
    "      if i == 0:\n",
    "        fig10.gca().set_facecolor('0.85')\n",
    "      if i>5:\n",
    "            plt.xlabel('Semi-major axis (au)')\n",
    "      if i in (0,3,6):\n",
    "          plt.ylabel('Mass Fraction')\n",
    "      if i==0:\n",
    "        plt.title('{:.1f} M$_\\oplus$'.format(ssG.m[indG[corder[i]]]*330060)+'  –  CF = {:.2g}'.format(ssG.cf[indG[corder[i]]]),size=12)\n",
    "      #ax.title.set_fontsize(30)\n",
    "      else:\n",
    "        string = '{:.1e}'.format(ssG.m[indG[corder[i]]]*330060)\n",
    "        massstr = string.split('e')[0] + r'$\\times10^{' + str(int(string.split('e')[1])) + r'}$ M$_\\oplus$'\n",
    "        plt.title(massstr+'  –  CF = {:.2g}'.format(ssG.cf[indG[corder[i]]]),size=12)\n",
    "    \n",
    "    fig10.tight_layout(pad=0.4,w_pad=0.5,h_pad=1.0)\n",
    "\n",
    "    fig10.canvas.draw()\n",
    "\n",
    "\n",
    "w10 = widgets.interact(coreprovhists,j=widgets.IntSlider(value=0,min=0,max=len(ssG.m[indG][ssG.m[indG]>=minembmass])-1,step=1,description='Embryo:',continuous_update=False));\n"
   ]
  },
  {
   "cell_type": "markdown",
   "metadata": {},
   "source": [
    "<b>Figure 10:</b> *Provenance histograms for the selected embryo (grey background) and the nine bodies with the most similar bulk provenances (with similarity decreasing left-to-right and top-to-bottom) at the end of a Grand Tack simulation (022GTJf6hgas). The black outline histogram shows the bulk provenance for each body and the colored bars show the corresponding core provenance. The numbers above each panel give the mass and core mass fraction (CF) of each body.*"
   ]
  },
  {
   "cell_type": "markdown",
   "metadata": {
    "tags": []
   },
   "source": [
    "## 4. Discussion"
   ]
  },
  {
   "cell_type": "markdown",
   "metadata": {
    "jp-MarkdownHeadingCollapsed": true,
    "tags": []
   },
   "source": [
    "### 4.1. Disk evolution\n",
    "\n",
    "Jupiter's Grand Tack emplaces a large mass of planetary bodies from beyond  ~1.5 au into the inner regions of the disk between  ~0.8 and  ~1.3 au. The dynamical excitation and the increase in mass in the Earth-forming region lead to much faster evolution in the Grand Tack scenarios compared with the calm accretion scenarios. We can see from Figure [2](#f:massdist) that embryos have grown more massive more rapidly in the Grand Tack simulation. This difference in evolutionary timescales complicates the comparison between the two types of simulation.\n",
    "\n",
    "The patterns of similar embryos and planetesimals seen in Figure [5](#f:nsimilar) are established early (in the first few Myr) and, in general, remain comparable throughout the rest of the simulation runs. The point in the disk at which the planetesimal distribution in the calm scenarios begins to rise towards the large numbers of similar planetesimals in the outer disk moves outwards with time as the inside-out evolution proceeds. The similarity of planetesimals and embryos close to 1 au shows significant variability with time in the Grand Tack scenario, likely due to the late production of collision fragments. If the calm accretion simulations were continued into the early stages of the giant impact phase we may see more similar-provenance fragments produced, though we expect the contrasting features of provenance similarity for the Grand Tack scenario to remain as these arise due to the dynamical excitation. \n",
    "\n",
    "Our simulations ignored planetesimals from the outer solar system (and the outer part of the inner solar system in the calm accretion case). While little outer solar system material is expected to be delivered to the inner disk in the calm accretion scenario, the migration of the giant planets in the Grand Tack model would have injected some outer solar system bodies into the Earth-formation region (e.g. [Walsh et al. 2011](#Walsh11); [Raymond & Izidoro 2017](#Raymond17); [Carter & Stewart 2020](#CarterStewart20)). We expect this outer solar system material would have been mixed into the inner disk and the growing embryos similarly to the purple and blue material from the outer parts of the inner disk. The leftover collisionally processed planetesimals then likely incorporated some of this outer solar system material similarly to the proto-Earth. The fates of outer solar system planetesimals, and the delivery of these, likely more volatile-rich, bodies to the Earth-forming region of the disk should be explored in future work.\n",
    "\n",
    "The simulations analyzed in this work (see Table [1](#t:sims)) cover different numerical resolutions (numbers of initial bodies) and nebular gas disk properties and evolution. We do not see substantial differences between the results for embryos in simulations with different resolutions, but there are much lower numbers of remaining planetesimal-sized bodies in the low resolution simulations (thus the low resolution simulations were not included in the lower panels of Figure [5](#f:nsimilar)) We also find that there are lower fractions of similar planetesimals for the low resolution simulations. The low resolution simulations have a higher mass limit, and thus, lack the smaller (less massive) resolved planetesimals. The planetesimal distributions in the low resolution simulations are thus more dominated by the larger planetesimals which are less likely to be fragments and more likely to survive provenance-altering collisions. We thus might expect to see greater numbers and fractions of similar planetesimals if the numerical resolution were further increased. \n",
    "\n",
    "One set of the calm accretion simulations used the same gas disk dissipation timescale as the Grand Tack simulations, the other set kept the MMSN gas constant throughout the simulation run. The simulations with nebular gas throughout have more similar embryos in the innermost regions of the disk principally because they produce greater numbers of small embryos on very cold orbits. There are fewer similar planetesimals at the end of these constant nebular gas simulations because they result in more efficient accretion of planetesimals, and some of those planetesimals that do survive in the inner regions of the disk have been transported from greater heliocentric distances due to the ongoing aerodynamic drag force. Overall, however, the differences between the two types of calm accretion simulations are small compared to the differences between calm and dynamically excited (Grand Tack) scenarios.\n",
    "\n",
    "\n",
    "\n",
    "### 4.2. Numerical limitations\n",
    "\n",
    "As the simulations discussed in this work do not cover the entire giant impact phase, nor the final accretion of the leftover bodies, we cannot say which bodies survive until after the final giant impact on the Earth, or which are subsequently accreted. A large body of prior work on the giant impact stage and late accretion suggests that some significant portion of planetesimals survive, and that leftover small bodies are an important source of late accreted mass (e.g. [Bottke et al. 2010](#Bottke10); [Schlichting et al. 2012](#Schlichting12); [Fischer & Nimmo 2018](#Fischer18); [Brasser et al. 2020](#Brasser20)). However, these models did not include the diversity of planetesimal provenances we see. Full numerical simulations of planet growth, including both runaway growth and giant impacts, are still prohibitively computationally expensive, but will be required to fully develop our understanding of terrestrial planet accretion.\n",
    "\n",
    "The simulations presented in this work ignored the generation of new planetesimals during the growth of planets. This simplification is applied near-universally in planet formation simulations. Improvements in our understanding of planetesimal formation, including recycling of collisionally-generated fragments, is needed in order to understand the effects on compositional evolution of terrestrial planets.\n",
    "\n",
    "To ensure the simulations were computationally feasible we treated metallic cores and silicate mantles as separate, non-interacting components: there was no chemical equilibration between cores and mantles during accretion. Neglecting core-mantle equilibration is a substantial simplification, particularly for smaller bodies that are less likely to have remained molten for long periods of time and thus less likely to have experienced rapid, direct merging of accreted metals with their cores. We expect differentiation and (re-)equilibration in a real system would increase the compositional similarity between mantle and core for moderately siderophile/lithophile elements. This simplification is, however, of little concern when considering HSEs, which partition strongly into the metal phase. Even with substantial metal-silicate equilibration, HSEs are expected to reside in the cores of accreted bodies and act as if they were a non-interacting component. \n",
    "\n",
    "\n",
    "### 4.3. Moon formation\n",
    "\n",
    "Planetary bodies in our solar system have a wide range of measured isotopic compositions (e.g. [Dauphas et al. 2004](#Dauphas04); [Scott et al. 2018](#Scott18)), yet the Moon has an isotopic composition that is almost indistinguishable from that of the Earth (e.g. [Wiechert et al. 2001](#Wiechert01); [Dauphas et al. 2014](#Dauphas14)). In the canonical model for Moon formation with a Mars-mass impactor, most of the Moon is derived from the impactor, named Theia. Since such similarity would not be expected for two embryos that formed in different locations, it has been suggested that the Earth and Theia must have undergone extensive mixing during (or immediately after) the impact that led to the formation of the Moon (e.g. [Pahlevan & Stevenson 2007](#Pahlevan07); [Canup 2012](#Canup12); [Lock et al. 2018](#Lock18)). \n",
    "\n",
    "We have seen that in dynamically excited planet formation scenarios, there can be several smaller planetary embryos near the proto-Earth with provenances similar to the proto-Earth during the early part of the giant impact phase (Figures [3](#f:embcompareGT) and [5](#f:nsimilar)). These similar-provenance embryos are potential Theias that would naturally have a similar stable isotopic composition to the proto-Earth before the Moon-forming impact. Even with significant variation in chemical and isotopic properties across the inner solar system, such a Theia would likely be sufficiently similar to alleviate some of the problems with the isotopic similarity of the Earth and Moon (e.g. [Dauphas et al. 2014](#Dauphas14)).\n",
    "\n",
    "In our current simulations, the potential Earth-like Theias are typically low-mass embryos (M $<$ 0.1 M$_\\oplus$) and, unless they grew substantially before impact with the proto-Earth, would likely require a high velocity, high angular momentum impact in order to produce our Moon (e.g [&#262;uk & Stewart 2012](#Cuk12); [Lock et al. 2018](#Lock18)). The more massive embryos (M $\\gtrsim$ 0.1 M$_\\oplus$) expected for the canonical Moon-forming impact do not show a high similarity in provenance to our proto-Earths and would require extensive post-impact mixing. The small, similar-provenance embryos near the proto-Earth may, however, be advantageous for alternative giant impacts, including multiple events (e.g. [Rufu et al. 2017](#Rufu17)) and hit-and-run events (e.g. [Asphaug et al. 2021](#Asphaug21)). Similarity of source material in multiple planetary embryos would reduce the difficulties associated with explaining the Earth-Moon isotopic similarity.\n",
    "\n",
    "[Kaib & Cowan (2015)](#Kaib15) studied oxygen isotope differences between Earth and Theia obtained from their *N*-body simulations with many possible isotopic gradients and distributions. Based on the measured difference between Earth and Mars, they found that it was very unlikely for Earth and Theia to have a sufficiently similar oxygen isotope composition to explain the observed similarity of the Earth and Moon. We did not find suitable Mars analogs in our smaller set of simulations, and thus cannot make a direct comparison to Mars. Further work is needed to determine whether dynamically excited planet formation can produce the final observed isotopic variations in the inner solar system.\n",
    "\n",
    "The similarity in stable isotopes (e.g. for oxygen) between the Earth and Moon would be expected if Theia had a similar provenance to the proto-Earth. However, the stable isotope similarity with Earth is just one of several outstanding issues in lunar origin, including the large mass of the Moon, the similarity in Tungsten isotopes, the pattern of moderately volatile element depletion, and the inclination of the lunar orbit ([Lock et al. 2020](#Lock20); [Canup et al. 2021](#Canup22)). Thus, factors other than material provenance must also be considered when discriminating between giant impact scenarios."
   ]
  },
  {
   "cell_type": "markdown",
   "metadata": {},
   "source": [
    "### 4.4. Late accretion\n",
    "\n",
    "The HSE abundances in Earth's mantle suggest that a small percentage of the Earth's mass (~0.5%) was delivered after the final giant impact (e.g. [Walker 2009](#Walker09)). However, there is ongoing debate about the origin and composition of this late-accreted material (e.g. [Dauphas 2017](#Dauphas17); [Bermingham et al. 2018](#Bermingham18); [Hopp et al. 2020](#Hopp20)).\n",
    "\n",
    "We have seen that collisional evolution during the intermediate stages of terrestrial planet formation results in a range of planetesimal-sized bodies and small embryos with similar provenances to the largest embryos. \n",
    "Some of these planetesimals will be accreted or ejected from the terrestrial planet region before the final giant impact, but it is expected that some will survive and remain in the inner disk (e.g. [O'Brien et al. 2006](#OBrien06); [Schlichting et al. 2012](#Schlichting12)).\n",
    "\n",
    "Most of these 'leftover' planetesimals are then expected to eventually be accreted by the terrestrial planets over the following billion years of evolution, or ejected from the solar system via dynamical interactions. A small fraction are likely scattered into the asteroid belt (Figure [3](#f:embcompareGT)), as has been suggested for iron-rich bodies ([Bottke et al. 2006](#Bottke06)), possibly becoming enstatite-like achondrites. However, we expect these 'planet fragments' to represent a small fraction of the total mass in the asteroid belt (see Figure [9](#f:fragfrac)). Future work could use statistical evolution simulations to explore the delivery of these bodies to the asteroid belt.\n",
    "\n",
    "Our results suggest that a portion of late accreted mass came from fragments of intermediate planetary embryos ejected earlier in the history of the solar system, rather than primitive chondritic planetesimals. These leftover bodies naturally have similar provenances to the planets. This leads us to a possible solution to the confounding origin of late accreted mass: it is leftover material that already matches the Earth in composition.\n",
    "\n",
    "As well as planetesimal-sized bodies with similar provenances, and a small number that are almost compositionally identical to the proto-Earth, there are also many dissimilar planetesimals left at the end of the simulations (Figure [3](#f:embcompareGT)). We expect some mixture of these planetesimal-sized bodies to be accreted by the proto-Earth. Typically the more-similar bodies are close in the disk to the proto-Earth, and the less-similar bodies are more distant (see Figure [6](#f:hists)), and collision fragments are concentrated in the terrestrial planet formation region (see Figure [9](#f:fragfrac)). The dissimilar planetesimals are also, typically, in the outer, less evolved regions of the inner solar system and thus, likely to decrease in number as evolution of the disk continues. We therefore consider the more-similar planetesimals more likely to end up accreted by the proto-Earth than the less-similar bodies.\n",
    "\n",
    "In this work, two bodies have similar provenances if they acquired the majority of their mass from the same regions of the disk. We assume that two bodies with identical provenance would have the same chemical and isotopic composition, at least for stable isotopes and strongly lithophile or siderophile elements. If the early protoplanetary disk was characterized by compositional gradients, two bodies that have different mixtures of material from different regions could end up with similar average isotopic compositions. For example, a mixture of yellow (0.6 au) and blue (2.9 au) material from our simulations would have an average color of magenta, corresponding to 1.75 au, but such a mixed body would have a low provenance correlation with a body purely comprised of material originating at 1.75 au. Bodies with low correlation may therefore still represent bodies with isotopically similar compositions, and there may be greater numbers of bodies that are a close compositional match to the proto-Earth than our results suggest. We note that current work on Earth's isotopic composition suggests that Earth is a mixture from different regions of the disk, rather than sourcing material from a single location (e.g. [Fischer-G&ouml;dde et al. 2020](#Fischer-Godde20); [Burkhardt et al. 2021](#Burkhardt21))."
   ]
  },
  {
   "cell_type": "markdown",
   "metadata": {},
   "source": [
    "The HSE Ruthenium has been the subject of several recent studies (e.g. [Dauphas 2017](#Dauphas17); [Bermingham et al. 2018](#Bermingham18); [Fischer-G&ouml;dde et al. 2020](#Fischer-Godde20)). As Ru is highly siderophile it is expected that the majority of Ru in the accessible Earth was delivered via the late veneer. The Earth and the major chondrite groups appear to show a trend of increasingly s-process-depleted Ru (more negative $\\varepsilon\\,^{100}$Ru) with increasing heliocentric distance inferred for their formation (e.g. [Fischer-G&ouml;dde & Kleine 2017](#Fischer-Godde17)). The closest match to the Earth's Ru amongst known meteorites are the enstatite chondrites and IAB iron meteorites ([Bermingham et al. 2018](#Bermingham18)). These Ru isotope compositions suggest that the late veneer was largely derived from inner solar system material with similar isotopic composition to enstatite chondrites and the proto-Earth (e.g. [Dauphas 2017](#Dauphas17); [Fischer-G&ouml;dde & Kleine 2017](#Fischer-Godde17)). \n",
    "\n",
    "Molybdenum on the other hand is moderately siderophile; while the early delivered Mo is expected to have partitioned into the growing core, Mo delivered during the later stages of accretion would leave a signature in the mantle. Mo isotopes, therefore, trace the accretion of the final  ~10% of Earth's mass ([Dauphas 2017](#Dauphas17); [Burkhardt et al. 2021](#Burkhardt21)). Meteorites reveal that the isotopic compositions of Mo and Ru are correlated (e.g. [Bermingham et al. 2018](#Bermingham18)). Since the silicate Earth also lies on this 'cosmic correlation' both the final  ~10% of Earth's mass and the late veneer must have originated from the same isotopic reservoir (e.g. [Dauphas et al. 2004](#Dauphas04); [Bermingham et al. 2018](#Bermingham18)), with no substantial change in the composition of impactors after core formation ceased. \n",
    "\n",
    "Planetesimals or fragments from our simulations with provenances similar to the proto-Earth could naturally explain a late veneer with a matching inner solar system isotopic signature. The compositional similarity between such late veneer impactors and the IAB and enstatite meteorites (chondrites and achondrites) is sensitive to the relative timing, and order, of the formation of the parent bodies of these meteorites and the migration of the giant planets."
   ]
  },
  {
   "cell_type": "markdown",
   "metadata": {},
   "source": [
    "#### Figure 11: Planetesimals with similar cores <a class=\"anchor\" id=\"f:nsimilarcore\"></a>"
   ]
  },
  {
   "cell_type": "code",
   "execution_count": 18,
   "metadata": {},
   "outputs": [
    {
     "data": {
      "application/vnd.jupyter.widget-view+json": {
       "model_id": "479a75156b9f4c84a821fe004a3dfb8d",
       "version_major": 2,
       "version_minor": 0
      },
      "text/plain": [
       "IntProgress(value=0, description='Plotting...  ', layout=Layout(height='20px'), max=8)"
      ]
     },
     "metadata": {},
     "output_type": "display_data"
    },
    {
     "data": {
      "application/vnd.jupyter.widget-view+json": {
       "model_id": "47f0f4522479464caa344cf269ef1970",
       "version_major": 2,
       "version_minor": 0
      },
      "text/plain": [
       "interactive(children=(FloatSlider(value=0.5, continuous_update=False, description='Similar cut:', max=1.0, min…"
      ]
     },
     "metadata": {},
     "output_type": "display_data"
    }
   ],
   "source": [
    "pbar11 = widgets.IntProgress(min=0, max=8, description='Plotting...  ',bar_style='',layout=widgets.Layout(height='20px')) # instantiate the bar\n",
    "display(pbar11) # display the bar\n",
    "\n",
    "def nsimilarcore(simcut=0.5,smacut = 0.2,GTtime='ss.{:0>10d}'.format(int(paramG['nSteps'])),calmtime='ss.{:0>10d}'.format(int(paramc['nSteps']))):\n",
    "    pbar11.value = 0\n",
    "    narray = npy.array([])\n",
    "    narrayp = npy.array([])\n",
    "    narraypclose = npy.array([])\n",
    "    narraypall = npy.array([])\n",
    "    aarray = npy.array([])\n",
    "    marray = npy.array([])\n",
    "    carray = npy.array([])\n",
    "    narrayc = npy.array([])\n",
    "    narraypc = npy.array([])\n",
    "    narraypclosec = npy.array([])\n",
    "    narraypallc = npy.array([])\n",
    "    aarrayc = npy.array([])\n",
    "    marrayc = npy.array([])\n",
    "    carrayc = npy.array([])\n",
    "\n",
    "    j_low = 0\n",
    "    #jarrG = []\n",
    "    #jarrc = []        \n",
    "\n",
    "    for sim in simsG:\n",
    "        ssj = pkd.ss()\n",
    "        paramj = pkd.readparam(path+sim+'ss.par')\n",
    "        ssj.read(path+sim+GTtime,extras=True)\n",
    "        ssj.calcOE()\n",
    "        sorderj = npy.argsort(ssj.m)[::-1]\n",
    "        indj = sorderj[(ssj.a[sorderj]<3.5)*(ssj.e[sorderj]<1.)]\n",
    "        indlenj = len(indj)\n",
    "\n",
    "        narraytemp = npy.zeros(len(npy.where(ssj.m[indj]>=minembmass)[0]))\n",
    "        narraytempp = npy.zeros(len(npy.where(ssj.m[indj]>=minembmass)[0]))\n",
    "        narraytemppclose = npy.zeros(len(npy.where(ssj.m[indj]>=minembmass)[0]))\n",
    "        narraytemppall = npy.zeros(len(npy.where(ssj.m[indj]>=minembmass)[0]))\n",
    "        aarraytemp = npy.zeros(len(narraytemp))\n",
    "        marraytemp = npy.zeros(len(narraytemp))\n",
    "        carraytemp = npy.zeros(len(narraytemp))\n",
    "\n",
    "        for k in range(len(narraytemp)):\n",
    "            resarr = npy.zeros(indlenj)\n",
    "            obbig = ( ssj.origin[indj[k]] - ssj.cf[indj[k]] * ssj.corigin[indj[k]] ) / (1.- ssj.cf[indj[k]])\n",
    "\n",
    "            for i in range(0,indlenj,1):\n",
    "                res = npy.corrcoef(obbig,ssj.corigin[indj[i]])\n",
    "                resarr[i]=res[0,1]\n",
    "            narraytemp[k] = len(npy.where(resarr[ssj.m[indj]>=minembmass] >= simcut)[0])#/float(indlenj)\n",
    "            narraytempp[k] = len(npy.where(resarr[ssj.m[indj]<minembmass] >= simcut)[0])#/float(indlenj)\n",
    "            narraytemppclose[k] = len( npy.where( (npy.abs(ssj.a[indj][ssj.m[indj]<minembmass]-ssj.a[indj[k]])<=smacut)*(resarr[ssj.m[indj]<minembmass] >= simcut) )[0] )#/float(indlenj)\n",
    "            narraytemppall[k] = len( npy.where(npy.abs(ssj.a[indj][ssj.m[indj]<minembmass]-ssj.a[indj[k]])<=smacut)[0] )#/float(indlenj)\n",
    "            aarraytemp[k] = ssj.a[indj[k]]\n",
    "            marraytemp[k] = ssj.m[indj[k]]\n",
    "            carraytemp[k] = npy.dot(ssj.origin[indj[k]],bina)\n",
    "        if sim!='022GTJf6hgas' and j_low == 0:\n",
    "            j_low = len(narray)\n",
    "        narray = npy.append(narray,narraytemp)\n",
    "        narrayp = npy.append(narrayp,narraytempp)\n",
    "        narraypclose = npy.append(narraypclose,narraytemppclose)\n",
    "        narraypall = npy.append(narraypall,narraytemppall)\n",
    "        aarray = npy.append(aarray,aarraytemp)\n",
    "        marray = npy.append(marray,marraytemp)\n",
    "        carray = npy.append(carray,carraytemp)\n",
    "        #jarrG.append(len(narray))\n",
    "        pbar11.value += 1\n",
    "        \n",
    "    if j_low==0:\n",
    "        j_low=len(narrayp)\n",
    "    \n",
    "    for sim in simsc:\n",
    "        ssj = pkd.ss()\n",
    "        paramj = pkd.readparam(path+sim+'ss.par')\n",
    "        ssj.read(path+sim+calmtime,extras=True)\n",
    "        ssj.calcOE()\n",
    "        sorderj = npy.argsort(ssj.m)[::-1]\n",
    "        indj = sorderj[(ssj.a[sorderj]<3.5)*(ssj.e[sorderj]<1.)]\n",
    "        indlenj = len(indj)\n",
    "\n",
    "        narraytemp = npy.zeros(len(npy.where(ssj.m[indj]>=minembmass)[0]))\n",
    "        narraytempp = npy.zeros(len(npy.where(ssj.m[indj]>=minembmass)[0]))\n",
    "        narraytemppclose = npy.zeros(len(npy.where(ssj.m[indj]>=minembmass)[0]))\n",
    "        narraytemppall = npy.zeros(len(npy.where(ssj.m[indj]>=minembmass)[0]))\n",
    "        aarraytemp = npy.zeros(len(narraytemp))\n",
    "        marraytemp = npy.zeros(len(narraytemp))\n",
    "        carraytemp = npy.zeros(len(narraytemp))\n",
    "\n",
    "        for k in range(len(narraytemp)):\n",
    "            resarr = npy.zeros(indlenj)\n",
    "            obbig = ( ssj.origin[indj[k]] - ssj.cf[indj[k]] * ssj.corigin[indj[k]] ) / (1.- ssj.cf[indj[k]])\n",
    "\n",
    "            for i in range(0,indlenj,1):\n",
    "                res = npy.corrcoef(obbig,ssj.corigin[indj[i]])\n",
    "                resarr[i]=res[0,1]\n",
    "            narraytemp[k] = len(npy.where(resarr[ssj.m[indj]>=minembmass] >= simcut)[0])#/float(indlenj)\n",
    "            narraytempp[k] = len(npy.where(resarr[ssj.m[indj]<minembmass] >= simcut)[0])#/float(indlenj)\n",
    "            narraytemppclose[k] = len( npy.where( (npy.abs(ssj.a[indj][ssj.m[indj]<minembmass]-ssj.a[indj[k]])<=smacut)*(resarr[ssj.m[indj]<minembmass] >= simcut) )[0] )#/float(indlenj)\n",
    "            narraytemppall[k] = len( npy.where(npy.abs(ssj.a[indj][ssj.m[indj]<minembmass]-ssj.a[indj[k]])<=smacut)[0] )#/float(indlenj)\n",
    "            aarraytemp[k] = ssj.a[indj[k]]\n",
    "            marraytemp[k] = ssj.m[indj[k]]\n",
    "            carraytemp[k] = npy.dot(ssj.origin[indj[k]],bina[0:10])\n",
    "        \n",
    "        narrayc = npy.append(narrayc,narraytemp)\n",
    "        narraypc = npy.append(narraypc,narraytempp)\n",
    "        narraypclosec = npy.append(narraypclosec,narraytemppclose)\n",
    "        narraypallc = npy.append(narraypallc,narraytemppall)\n",
    "        aarrayc = npy.append(aarrayc,aarraytemp)\n",
    "        marrayc = npy.append(marrayc,marraytemp)\n",
    "        carrayc = npy.append(carrayc,carraytemp)\n",
    "        #jarrc.append(len(narrayc))\n",
    "        pbar11.value += 1\n",
    "    \n",
    "    ### plot figure\n",
    "\n",
    "    fig11 = plt.figure(figsize=(9,6.2))\n",
    "\n",
    "    plt.subplot(221)\n",
    "    plt.minorticks_on()\n",
    "    plt.scatter(aarray[:j_low],narrayp[:j_low],s=marksize(marray[:j_low]),color=cm(0.95))\n",
    "    plt.scatter(aarrayc,narraypc,s=marksize(marrayc),color=cm(0.42),zorder=0)\n",
    "    plt.ylabel('Number similar planetesimals')\n",
    "    fig11.gca().set_xticklabels([])\n",
    "    plt.xlim(0.4,1.65)\n",
    "    plt.text(0.06,0.9,'Grand Tack',ha='left',zorder=3,color=cm(0.95),transform=plt.gca().transAxes)\n",
    "    plt.text(0.06,0.83,'calm accretion',ha='left',zorder=3,color=cm(0.42),transform=plt.gca().transAxes)\n",
    "\n",
    "    plt.subplot(222)\n",
    "    plt.minorticks_on()\n",
    "    plt.scatter(marray[:j_low]/mearth,narrayp[:j_low],s=marksize(marray[:j_low]),color=cm(0.95))\n",
    "    plt.scatter(marrayc/mearth,narraypc,s=marksize(marrayc),color=cm(0.42),zorder=0)\n",
    "    plt.semilogx()\n",
    "    fig11.gca().set_yticklabels([])\n",
    "    fig11.gca().set_xticklabels([])\n",
    "    plt.xlim(8e-3,2)\n",
    "\n",
    "    plt.subplot(223)\n",
    "    plt.minorticks_on()\n",
    "    plt.scatter(aarray[:j_low],narraypclose[:j_low]/narraypall[:j_low],s=marksize(marray[:j_low]),color=cm(0.95))\n",
    "    plt.scatter(aarrayc,narraypclosec/narraypallc,s=marksize(marrayc),color=cm(0.42),zorder=0)\n",
    "    plt.ylabel('Fraction similar planetesimals')\n",
    "    plt.xlim(0.4,1.65)\n",
    "    plt.ylim(ymin=-0.02)\n",
    "    plt.errorbar(0.5+smacut,0.88*plt.gca().get_ylim()[1],xerr=smacut,fmt=\"None\",c='k',capsize=2)\n",
    "    plt.xlabel('Semi-major axis (au)')\n",
    "\n",
    "    plt.subplot(224)\n",
    "    plt.minorticks_on()\n",
    "    plt.scatter(marray[:j_low]/mearth,narraypclose[:j_low]/narraypall[:j_low],s=marksize(marray[:j_low]),color=cm(0.95))\n",
    "    plt.scatter(marrayc/mearth,narraypclosec/narraypallc,s=marksize(marrayc),color=cm(0.42),zorder=0)\n",
    "    plt.semilogx()\n",
    "    fig11.gca().set_yticklabels([])\n",
    "    plt.xlim(8e-3,2)\n",
    "    plt.ylim(ymin=-0.02)\n",
    "    plt.xlabel('Mass (M$_\\oplus$)')\n",
    "\n",
    "    fig11.tight_layout(pad=0.3,w_pad=0,h_pad=0)\n",
    "\n",
    "    fig11.canvas.draw()\n",
    "    pbar11.value += 1\n",
    "\n",
    "    \n",
    "GTwidget11=widgets.SelectionSlider(\n",
    "    options=widgettimes,\n",
    "    value='ss.{:0>10d}'.format(int(paramG['nSteps'])),\n",
    "    description='GT time:',\n",
    "    disabled=False,\n",
    "    continuous_update=False,\n",
    "    orientation='horizontal',\n",
    "    readout=True\n",
    ")\n",
    "calmwidget11=widgets.SelectionSlider(\n",
    "    options=widgettimes,\n",
    "    value='ss.{:0>10d}'.format(int(paramc['nSteps'])),\n",
    "    description='calm time:',\n",
    "    continuous_update=False,\n",
    "    orientation='horizontal',\n",
    "    readout=True\n",
    ")\n",
    "    \n",
    "w11 = widgets.interact(nsimilarcore,simcut=widgets.FloatSlider(value=0.5,min=-1,max=1.,step=0.05,description='Similar cut:',continuous_update=False),smacut=widgets.FloatSlider(value=0.2,min=0.1,max=0.5,step=0.1,description=r'$a$ cut (au):',continuous_update=False),GTtime=GTwidget11,calmtime=calmwidget11);\n"
   ]
  },
  {
   "cell_type": "markdown",
   "metadata": {},
   "source": [
    "**Figure 11:** *Number and fraction of planetesimals (M $<$ 0.01 M$_\\oplus$) with correlation coefficients between planetesimal core and embryo mantle of* 'similarity cut' *or above for each embryo in several simulations. The numbers of planetesimals with similar cores are shown as a function of semi-major axis (left) and mass (right). Blue points are for Grand Tack simulations, magenta points are for calm accretion simulations. The sizes of the points are scaled to the mass of the embryos. Embryos from low resolution simulations are excluded. The fraction of planetesimals that are similar is calculated only for planetesimals with semi-major axes within* '$a$ cut' au *of the embryo, as indicated by the black horizontal bar in the lower left panel.*"
   ]
  },
  {
   "cell_type": "markdown",
   "metadata": {},
   "source": [
    "Figure [5](#f:nsimilar) shows that there are many planetesimals at the end of our simulations whose bulk provenances are similar to the final embryos in the Earth-forming region. When considering HSEs it is, however, the cores of potential late accreted planetesimals that are most important. Figure [11](#f:nsimilarcore) shows the equivalent numbers and fractions of similar-provenance planetesimals using the correlation between embryo mantle and planetesimal core provenances. We see consistent patterns, more similar planetesimals in the Earth-forming annulus in the Grand Tack scenarios and an increasing number of similar planetesimals with increasing semi-major axis for the calm scenarios, and comparable, though in general slightly lower, numbers of similar planetesimals. Figure [11](#f:nsimilarcore) reveals a population of leftover planetesimals whose cores could supply Ru, and other HSEs, with inner solar system isotopic compositions matching the Earth's mantle.\n",
    "\n",
    "[Fischer et al. (2018)](#Fischer18Ru) explored Ruthenium and Molybdenum anomalies acquired by the terrestrial planets in *N*-body simulations using the perfect merging assumption. Differences in the duration of the simulations and the extent of the disk modeled preclude a direct comparison, but we can make some useful observations. In general terms we see similar trends, greater mixing and wider feeding zones in Grand Tack scenarios, and the requirement that the transition to 'outer solar system composition Ru' occurred at large distances from the Sun, such that the Earth acquires the correct Ru composition. It is possible that the similar-provenance collision fragments that we have found in our 'imperfect accretion' simulations help to reduce this requirement for distant Ru-composition-transition-location by providing a further source for late accretion with Earth-like Ru composition ($\\varepsilon\\,^{100}$Ru $\\simeq$ 0). \n",
    "\n",
    "Recently, [Fischer-G&ouml;dde et al. (2020)](#Fischer-Godde20) reported s-process-enriched Ru (with a positive $\\varepsilon\\,^{100}$Ru) present in rocks derived from early Archaean mantle (~3.8 Gyr ago). This Ru isotopic signature reflects either preserved pre-late-veneer mantle or the composition of the early portion of late accretion. Mixing with an outer solar system, carbonaceous-chondrite-like component of the late veneer is favored in order to produce the Ru composition of the modern mantle ([Fischer-G&ouml;dde et al. 2020](#Fischer-Godde20)). The provenances resulting from our simulations could be compatible with this new Ru data if the leftover planetesimals represent the early component of late accretion, a carbonaceous-chondrite-like component were delivered later, and the parent bodies of enstatite chondrites formed from material with a sufficiently larger mean heliocentric distance than the Earth ('bluer' material in Figures [2](#f:massdist) and [7](#f:correlationevolutionGT)) thus giving them an intermediate isotopic composition.\n",
    "\n",
    "The simulations we examined in this work show that planetesimal-sized bodies that may survive to the end of the giant impact phase have a range of core mass fractions, and that cores and mantles of these bodies can have different provenances (radial origin distributions). This range of properties loosens the constraint on late veneer mass given by mantle HSEs. \n",
    "The standard mass given for the late veneer (0.5% of Earth's mass) is obtained via mass balance by matching the abundances of HSEs inferred for the Earth's mantle to a chondritic composition (e.g. [Walker 2009](#Walker09)). \n",
    "Bodies with metal-to-silicate ratios higher than chondritic would deliver more HSEs per unit mass than expected from bodies with chondritic compositions. Cores and mantles potentially having different provenances complicates the interpretation of the isotopic signatures of late accreted mass. Siderophile and lithophile elements delivered by any single body could possess isotopic signatures from different solar system reservoirs. Future simulations that consider only the giant impact phase of planet growth must consider the prior evolution of the small, planetesimal-sized bodies if the goal is to understand the compositions of the final planets."
   ]
  },
  {
   "cell_type": "markdown",
   "metadata": {
    "tags": []
   },
   "source": [
    "## 5. Summary"
   ]
  },
  {
   "cell_type": "markdown",
   "metadata": {},
   "source": [
    "Planet formation simulations result in a population of planetesimals leftover from the early stages of accretion that have similar provenances to the proto-Earth. In dynamically excited scenarios, these bodies commonly originated as fragments of proto-planets ejected millions of years earlier. We find that dynamically excited planet formation models can result in a system of proto-planets and smaller embryos with very similar provenances. These similarities in provenance suggest that Theia may have been isotopically similar to the proto-Earth if the protoplanetary disk was truncated and mixed via giant planet migration (or some other process).\n",
    "\n",
    "Some of the planetesimal-sized bodies that exist during the early stages of the giant impact phase have large core mass fractions, with core provenances very similar to the proto-Earth. If these planetesimals are later accreted by the planet, they would represent late accreted mass with compositions that naturally match the composition of the Earth that can deliver HSEs to the mantle. The variation in core mass fraction and provenance amongst these leftover bodies complicates the constraints on late accretion provided by HSEs. Models of the giant impact phase of planet growth must consider the earlier evolution of the small bodies in order to understand the compositional evolution of the Earth.\n",
    "\n",
    "\n",
    "---"
   ]
  },
  {
   "cell_type": "markdown",
   "metadata": {
    "tags": []
   },
   "source": [
    "## Acknowledgements\n",
    "\n",
    "The authors thank two anonymous reviewers for their careful reading and extremely helpful comments. PJC and STS acknowledge financial support from the Simons Foundation. \n",
    "This research has made use of NASA's Astrophysics Data System.\n",
    "\n",
    "Data from simulations presented in this work are available from [Carter & Stewart (2022)](#Carter22Data).\n",
    "\n",
    "\n",
    "\n",
    "**Software** </br>\n",
    "PKDGRAV ([Richardson et al. 2000](#Richardson00); [Stadel 2001](#Stadel01)), </br>\n",
    "NumPy ([Van Der Walt et al. 2011](#numpy)), </br>\n",
    "matplotlib ([Hunter 2007](#matplotlib)), </br>\n",
    "Jupyter ([Kluyver et al. 2016](#jupyter)).\n",
    "\n",
    "---"
   ]
  },
  {
   "cell_type": "markdown",
   "metadata": {
    "tags": []
   },
   "source": [
    "## References"
   ]
  },
  {
   "cell_type": "markdown",
   "metadata": {
    "jp-MarkdownHeadingCollapsed": true,
    "tags": []
   },
   "source": [
    "<a class=\"anchor\" id=\"Adachi76\"></a>Adachi, I., Hayashi, C., & Nakazawa, K. 1976, Progress of Theoretical\n",
    "  Physics, 56, 1756, doi: <a href=\"https://doi.org/10.1143/PTP.56.1756\">10.1143/PTP.56.1756</a>\n",
    "\n",
    "<a class=\"anchor\" id=\"Asphaug21\"></a>Asphaug, E., Emsenhuber, A., Cambioni, S., Gabriel, T. S. J., &\n",
    "  Schwartz, S. R. 2021,  PSJ, 2, 200, doi: <a href=\"https://doi.org/10.3847/PSJ/ac19b2\">10.3847/PSJ/ac19b2</a>\n",
    "\n",
    "<a class=\"anchor\" id=\"Bermingham18\"></a>Bermingham, K., Worsham, E., & Walker, R. 2018, Earth and Planetary Science\n",
    "  Letters, 487, 221, doi: <a href=\"https://doi.org/10.1016/j.epsl.2018.01.017\">10.1016/j.epsl.2018.01.017</a>\n",
    "\n",
    "<a class=\"anchor\" id=\"Bonsor15\"></a>Bonsor, A., Leinhardt, Z. M., Carter, P. J., et al. 2015, Icarus, 247,\n",
    "  291, doi: <a href=\"https://doi.org/10.1016/j.icarus.2014.10.019\">10.1016/j.icarus.2014.10.019</a>\n",
    "\n",
    "<a class=\"anchor\" id=\"Bottke06\"></a>Bottke, W. F., Nesvorn&yacute;, D., Grimm, R. E., Morbidelli, A., &\n",
    "  O'Brien, D. P. 2006, Nature, 439, 821, doi: <a href=\"https://doi.org/10.1038/nature04536\">10.1038/nature04536</a>\n",
    "\n",
    "<a class=\"anchor\" id=\"Bottke10\"></a>Bottke, W. F., Walker, R. J., Day, J. M. D., Nesvorny, D., & Elkins-Tanton, L.\n",
    "  2010, Science, 330, 1527, doi: <a href=\"https://doi.org/10.1126/science.1196874\">10.1126/science.1196874</a>\n",
    "\n",
    "<a class=\"anchor\" id=\"Brasser20\"></a>Brasser, R., Werner, S., & Mojzsis, S. 2020, Icarus, 338,\n",
    "  doi: <a href=\"https://doi.org/10.1016/j.icarus.2019.113514\">10.1016/j.icarus.2019.113514</a>\n",
    "\n",
    "<a class=\"anchor\" id=\"Budde16\"></a>Budde, G., Burkhardt, C., Brennecka, G. A., et al. 2016, Earth and\n",
    "  Planetary Science Letters, 454, 293, doi: <a href=\"https://doi.org/10.1016/j.epsl.2016.09.020\">10.1016/j.epsl.2016.09.020</a>\n",
    "\n",
    "<a class=\"anchor\" id=\"Burkhardt11\"></a>Burkhardt, C., Kleine, T., Oberli, F., et al. 2011, Earth and Planetary\n",
    "  Science Letters, 312, 390, doi: <a href=\"https://doi.org/10.1016/j.epsl.2011.10.010\">10.1016/j.epsl.2011.10.010</a>\n",
    "\n",
    "<a class=\"anchor\" id=\"Burkhardt21\"></a>Burkhardt, C., Spitzer, F., Morbidelli, A., et al. 2021, Science\n",
    "  Advances, 7, eabj7601, doi: <a href=\"https://doi.org/10.1126/sciadv.abj7601\">10.1126/sciadv.abj7601</a>\n",
    "\n",
    "<a class=\"anchor\" id=\"Cameron+Ward\"></a>Cameron, A. G. W., & Ward, W. R. 1976, in Lunar and Planetary Science\n",
    "  Conference, Vol. 7, 120\n",
    "\n",
    "<a class=\"anchor\" id=\"Canup12\"></a>Canup, R. M. 2012, Science, 338, 1052, doi: <a href=\"https://doi.org/10.1126/science.1226073\">10.1126/science.1226073</a>\n",
    "\n",
    "<a class=\"anchor\" id=\"Canup22\"></a>Canup, R. M., Righter, K., Dauphas, N., et al. 2021, New views on the\n",
    "  Moon II, <a href=\"https://arxiv.org/abs/2103.02045\">arXiv:2103.02045</a>.\n",
    "\n",
    "<a class=\"anchor\" id=\"Carter18\"></a>Carter, P. J., Leinhardt, Z. M., Elliott, T., Stewart, S. T., &\n",
    "  Walter, M. J. 2018, Earth and Planetary Science Letters, 484, 276,\n",
    "  doi: <a href=\"https://doi.org/10.1016/j.epsl.2017.12.012\">10.1016/j.epsl.2017.12.012</a>\n",
    "\n",
    "<a class=\"anchor\" id=\"Carter15\"></a>Carter, P. J., Leinhardt, Z. M., Elliott, T., Walter, M. J., &\n",
    "  Stewart, S. T. 2015, ApJ, 813, 72, doi: <a href=\"https://doi.org/10.1088/0004-637X/813/1/72\">10.1088/0004-637X/813/1/72</a>\n",
    "\n",
    "<a class=\"anchor\" id=\"CarterStewart20\"></a>Carter, P. J., & Stewart, S. T. 2020, PSJ, 1, 45,\n",
    "  doi: <a href=\"https://doi.org/10.3847/psj/abaecc\">10.3847/psj/abaecc</a>\n",
    "\n",
    "<a class=\"anchor\" id=\"Carter22Data\"></a>Carter, P. J., & Stewart, S. T. 2022, Replication data for \"Did Earth eat its leftovers? Impact ejecta as a component of the late veneer\", Harvard Dataverse,\n",
    "  doi: <a href=\"https://doi.org/10.7910/DVN/4NOILF\">10.7910/DVN/4NOILF</a>\n",
    "\n",
    "<a class=\"anchor\" id=\"Chambers01\"></a>Chambers, J. E. 2001, Icarus, 152, 205, doi: <a href=\"https://doi.org/10.1006/icar.2001.6639\">10.1006/icar.2001.6639</a>\n",
    "\n",
    "<a class=\"anchor\" id=\"Chambers13\"></a>Chambers, J. E. 2013, Icarus, 224, 43, doi: <a href=\"https://doi.org/10.1016/j.icarus.2013.02.015\">10.1016/j.icarus.2013.02.015</a>\n",
    "\n",
    "<a class=\"anchor\" id=\"Chen11\"></a>Chen, H.-W., Lee, T., Lee, D.-C., Jiun-San Shen, J., & Chen, J.-C.\n",
    "  2011, ApJL, 743, L23, doi: <a href=\"https://doi.org/10.1088/2041-8205/743/1/L23\">10.1088/2041-8205/743/1/L23</a>\n",
    "\n",
    "<a class=\"anchor\" id=\"Citron22\"></a>Citron, R. I., & Stewart, S. T. 2022, PSJ, 3, in\n",
    "  press\n",
    "\n",
    "<a class=\"anchor\" id=\"Cuk12\"></a>&#262;uk, M., & Stewart, S. T. 2012, Science, 338, 1047,\n",
    "  doi: <a href=\"https://doi.org/10.1126/science.1225542\">10.1126/science.1225542</a>\n",
    "\n",
    "<a class=\"anchor\" id=\"Dahl10\"></a>Dahl, T. W., & Stevenson, D. J. 2010, Earth and Planetary Science Letters,\n",
    "  295, 177, doi: <a href=\"https://doi.org/10.1016/j.epsl.2010.03.038\">10.1016/j.epsl.2010.03.038</a>\n",
    "\n",
    "<a class=\"anchor\" id=\"Dauphas17\"></a>Dauphas, N. 2017, Nature, 541, 521, doi: <a href=\"https://doi.org/10.1038/nature20830\">10.1038/nature20830</a>\n",
    "\n",
    "<a class=\"anchor\" id=\"Dauphas14\"></a>Dauphas, N., Burkhardt, C., Warren, P., & Teng, F.-Z. 2014,\n",
    "  Philosophical Transactions of the Royal Society of London Series A, 372,\n",
    "  2013.0244, doi: <a href=\"https://doi.org/10.1098/rsta.2013.0244\">10.1098/rsta.2013.0244</a>\n",
    "\n",
    "<a class=\"anchor\" id=\"Dauphas04\"></a>Dauphas, N., Davis, A. M., Marty, B., & Reisberg, L. 2004, Earth and\n",
    "  Planetary Science Letters, 226, 465, doi: <a href=\"https://doi.org/10.1016/j.epsl.2004.07.026\">10.1016/j.epsl.2004.07.026</a>\n",
    "\n",
    "<a class=\"anchor\" id=\"Dauphas13\"></a>Dauphas, N., & Morbidelli, A. 2013, Treatise on Geochemistry. The Atmosphere:\n",
    "  History, 6, doi: <a href=\"https://doi.org/10.1016/B978-0-08-095975-7.01301-2\">10.1016/B978-0-08-095975-7.01301-2</a>\n",
    "\n",
    "<a class=\"anchor\" id=\"Dauphas11\"></a>Dauphas, N., & Pourmand, A. 2011, Nature, 473, 489,\n",
    "  doi: <a href=\"https://doi.org/10.1038/nature10077\">10.1038/nature10077</a>\n",
    "\n",
    "<a class=\"anchor\" id=\"Davies20\"></a>Davies, E. J., Carter, P. J., Root, S., et al. 2020, Journal of Geophysical\n",
    "  Research: Planets, 125, doi: <a href=\"https://doi.org/10.1029/2019JE006227\">10.1029/2019JE006227</a>\n",
    "\n",
    "<a class=\"anchor\" id=\"DeMeo13\"></a>DeMeo, F. E., & Carry, B. 2013, Icarus, 226, 723,\n",
    "  doi: <a href=\"https://doi.org/10.1016/j.icarus.2013.06.027\">10.1016/j.icarus.2013.06.027</a>\n",
    "\n",
    "<a class=\"anchor\" id=\"Duncan98\"></a>Duncan, M. J., Levison, H. F., & Lee, M. H. 1998, AJ, 116, 2067,\n",
    "  doi: <a href=\"https://doi.org/10.1086/300541\">10.1086/300541</a>\n",
    "\n",
    "<a class=\"anchor\" id=\"Fischer18\"></a>Fischer, R. A., & Nimmo, F. 2018, Earth and Planetary Science Letters, 499,\n",
    "  257, doi: <a href=\"https://doi.org/10.1016/j.epsl.2018.07.030\">10.1016/j.epsl.2018.07.030</a>\n",
    "\n",
    "<a class=\"anchor\" id=\"Fischer18Ru\"></a>Fischer, R. A., Nimmo, F., & O'Brien, D. P. 2018, Earth and Planetary Science\n",
    "  Letters, 482, 105, doi: <a href=\"https://doi.org/10.1016/j.epsl.2017.10.055\">10.1016/j.epsl.2017.10.055</a>\n",
    "\n",
    "<a class=\"anchor\" id=\"Fischer-Godde17\"></a>Fischer-G&ouml;dde, M., & Kleine, T. 2017, Nature, 541, 525,\n",
    "  doi: <a href=\"https://doi.org/10.1038/nature21045\">10.1038/nature21045</a>\n",
    "\n",
    "<a class=\"anchor\" id=\"Fischer-Godde20\"></a>Fischer-G&ouml;dde, M., Elfers, B.-M., M&uuml;nker, C., et al. 2020, Nature,\n",
    "  579, 240, doi: <a href=\"https://doi.org/10.1038/s41586-020-2069-3\">10.1038/s41586-020-2069-3</a>\n",
    "\n",
    "<a class=\"anchor\" id=\"Genda17\"></a>Genda, H., Brasser, R., & Mojzsis, S. 2017, Earth and Planetary Science\n",
    "  Letters, 480, 25, doi: <a href=\"https://doi.org/10.1016/j.epsl.2017.09.041\">10.1016/j.epsl.2017.09.041</a>\n",
    "\n",
    "<a class=\"anchor\" id=\"Genda17_GIFs\"></a>Genda, H., Iizuka, T., Sasaki, T., Ueno, Y., & Ikoma, M. 2017, Earth\n",
    "  and Planetary Science Letters, 470, 87, doi: <a href=\"https://doi.org/10.1016/j.epsl.2017.04.035\">10.1016/j.epsl.2017.04.035</a>\n",
    "\n",
    "<a class=\"anchor\" id=\"Greenwood18\"></a>Greenwood, R. C., Barrat, J.-A., Miller, M. F., et al. 2018, Science\n",
    "  Advances, 4, eaao5928, doi: <a href=\"https://doi.org/10.1126/sciadv.aao5928\">10.1126/sciadv.aao5928</a>\n",
    "\n",
    "<a class=\"anchor\" id=\"Halliday13\"></a>Halliday, A. N. 2013, Geochimica et Cosmochimica Acta, 105, 146,\n",
    "  doi: <a href=\"https://doi.org/10.1016/j.gca.2012.11.015\">10.1016/j.gca.2012.11.015</a>\n",
    "\n",
    "<a class=\"anchor\" id=\"Hartmann+Davis\"></a>Hartmann, W. K., & Davis, D. R. 1975, Icarus, 24, 504,\n",
    "  doi: <a href=\"https://doi.org/10.1016/0019-1035(75)90070-6\">10.1016/0019-1035(75)90070-6</a>\n",
    "\n",
    "<a class=\"anchor\" id=\"Hopp20\"></a>Hopp, T., Budde, G., & Kleine, T. 2020, Earth and Planetary Science\n",
    "  Letters, 534, 116065, doi: <a href=\"https://doi.org/10.1016/j.epsl.2020.116065\">10.1016/j.epsl.2020.116065</a>\n",
    "\n",
    "<a class=\"anchor\" id=\"matplotlib\"></a>Hunter, J. D. 2007, Computing in Science & Engineering, 9, 90,\n",
    "  doi: <a href=\"https://doi.org/10.1109/MCSE.2007.55\">10.1109/MCSE.2007.55</a>\n",
    "\n",
    "<a class=\"anchor\" id=\"Kaib15\"></a>Kaib, N. A., & Cowan, N. B. 2015, Icarus, 252, 161,\n",
    "  doi: <a href=\"https://doi.org/10.1016/j.icarus.2015.01.013\">10.1016/j.icarus.2015.01.013</a>\n",
    "\n",
    "<a class=\"anchor\" id=\"Kendall16\"></a>Kendall, J. D., & Melosh, H. 2016, Earth and Planetary Science Letters, 448,\n",
    "  24, doi: <a href=\"https://doi.org/10.1016/j.epsl.2016.05.012\">10.1016/j.epsl.2016.05.012</a>\n",
    "\n",
    "<a class=\"anchor\" id=\"jupyter\"></a>Kluyver, T., Ragan-Kelley, B., Perez, F., et al. 2016, in Positioning and Power \n",
    "in Academic Publishing: Players, Agents and Agendas, ed. F. Loizides & B. Scmidt (Netherlands: IOS Press), 87–90, \n",
    "doi: <a href=\"http://doi.org/10.3233/978-1-61499-649-1-87\">10.3233/978-1-61499-649-1-87</a>\n",
    "\n",
    "<a class=\"anchor\" id=\"Kokubo+Ida96\"></a>Kokubo, E., & Ida, S. 1996, Icarus, 123, 180,\n",
    "  doi: <a href=\"https://doi.org/10.1006/icar.1996.0148\">10.1006/icar.1996.0148</a>\n",
    "\n",
    "<a class=\"anchor\" id=\"Kokubo+Ida98\"></a>Kokubo, E., & Ida, S. 1998, Icarus, 131, 171, doi: <a href=\"https://doi.org/10.1006/icar.1997.5840\">10.1006/icar.1997.5840</a>\n",
    "\n",
    "<a class=\"anchor\" id=\"Kokubo+Ida02\"></a>Kokubo, E., & Ida, S. 2002, ApJ, 581, 666, doi: <a href=\"https://doi.org/10.1086/344105\">10.1086/344105</a>\n",
    "\n",
    "<a class=\"anchor\" id=\"Kruijer14\"></a>Kruijer, T. S., Touboul, M., Fischer-G&ouml;dde, M., et al. 2014,\n",
    "  Science, 344, 1150, doi: <a href=\"https://doi.org/10.1126/science.1251766\">10.1126/science.1251766</a>\n",
    "\n",
    "<a class=\"anchor\" id=\"Leinhardt15\"></a>Leinhardt, Z. M., Dobinson, J., Carter, P. J., & Lines, S. 2015, ApJ,\n",
    "  806, 23, doi: <a href=\"https://doi.org/10.1088/0004-637X/806/1/23\">10.1088/0004-637X/806/1/23</a>\n",
    "\n",
    "<a class=\"anchor\" id=\"Leinhardt05\"></a>Leinhardt, Z. M., & Richardson, D. C. 2005, ApJ, 625, 427,\n",
    "  doi: <a href=\"https://doi.org/10.1086/429402\">10.1086/429402</a>\n",
    "\n",
    "<a class=\"anchor\" id=\"Leinhardt12\"></a>Leinhardt, Z. M., & Stewart, S. T. 2012, ApJ, 745, 79,\n",
    "  doi: <a href=\"https://doi.org/10.1088/0004-637X/745/1/79\">10.1088/0004-637X/745/1/79</a>\n",
    "\n",
    "<a class=\"anchor\" id=\"Lewis74\"></a>Lewis, J. S. 1974, Science, 186, 440, doi: <a href=\"https://doi.org/10.1126/science.186.4162.440\">10.1126/science.186.4162.440</a>\n",
    "\n",
    "<a class=\"anchor\" id=\"Liu20\"></a>Liu, B., & Ji, J. 2020, Research in Astronomy and Astrophysics, 20, 164,\n",
    "  doi: <a href=\"https://doi.org/10.1088/1674-4527/20/10/164\">10.1088/1674-4527/20/10/164</a>\n",
    "\n",
    "<a class=\"anchor\" id=\"Lock20\"></a>Lock, S. J., Bermingham, K. R., Parai, R., & Boyet, M. 2020, SSRv,\n",
    "  216, 109, doi: <a href=\"https://doi.org/10.1007/s11214-020-00729-z\">10.1007/s11214-020-00729-z</a>\n",
    "\n",
    "<a class=\"anchor\" id=\"Lock18\"></a>Lock, S. J., Stewart, S. T., Petaev, M. I., et al. 2018, Journal of\n",
    "  Geophysical Research (Planets), 123, 910, doi: <a href=\"https://doi.org/10.1002/2017JE005333\">10.1002/2017JE005333</a>\n",
    "\n",
    "<a class=\"anchor\" id=\"Mann12\"></a>Mann, U., Frost, D. J., Rubie, D. C., Becker, H., & Aud&eacute;tat, A.\n",
    "  2012, GeoCoA, 84, 593, doi: <a href=\"https://doi.org/10.1016/j.gca.2012.01.026\">10.1016/j.gca.2012.01.026</a>\n",
    "\n",
    "<a class=\"anchor\" id=\"Marcus10\"></a>Marcus, R. A., Sasselov, D., Stewart, S. T., & Hernquist, L. 2010,\n",
    "  ApJl, 719, L45, doi: <a href=\"https://doi.org/10.1088/2041-8205/719/1/L45\">10.1088/2041-8205/719/1/L45</a>\n",
    "\n",
    "<a class=\"anchor\" id=\"Marty17\"></a>Marty, B., Altwegg, K., Balsiger, H., et al. 2017, Science, 356, 1069,\n",
    "  doi: <a href=\"https://doi.org/10.1126/science.aal3496\">10.1126/science.aal3496</a>\n",
    "\n",
    "<a class=\"anchor\" id=\"Morbi07\"></a>Morbidelli, A., & Crida, A. 2007, Icarus, 191, 158,\n",
    "  doi: <a href=\"https://doi.org/10.1016/j.icarus.2007.04.001\">10.1016/j.icarus.2007.04.001</a>\n",
    "\n",
    "<a class=\"anchor\" id=\"OBrien06\"></a>O'Brien, D. P., Morbidelli, A., & Levison, H. F. 2006, Icarus, 184, 39,\n",
    "  doi: <a href=\"https://doi.org/10.1016/j.icarus.2006.04.005\">10.1016/j.icarus.2006.04.005</a>\n",
    "\n",
    "<a class=\"anchor\" id=\"ONeill91\"></a>O'Neill, H. S. C. 1991, GeoCoA, 55, 1159, doi: <a href=\"https://doi.org/10.1016/0016-7037(91)90169-6\">10.1016/0016-7037(91)90169-6</a>\n",
    "\n",
    "<a class=\"anchor\" id=\"Pahlevan07\"></a>Pahlevan, K., & Stevenson, D. J. 2007, Earth and Planetary Science\n",
    "  Letters, 262, 438, doi: <a href=\"https://doi.org/10.1016/j.epsl.2007.07.055\">10.1016/j.epsl.2007.07.055</a>\n",
    "\n",
    "<a class=\"anchor\" id=\"Qin09\"></a>Qin, L., Alexander, C. M., Carlson, R. W., Horan, M. F., & Yokoyama, T. 2010,\n",
    "  Geochimica et Cosmochimica Acta, 74, 1122,\n",
    "  doi: <a href=\"https://doi.org/10.1016/j.gca.2009.11.005\">10.1016/j.gca.2009.11.005</a>\n",
    "\n",
    "<a class=\"anchor\" id=\"Raymond17\"></a>Raymond, S. N., & Izidoro, A. 2017, Icarus, 297, 134,\n",
    "  doi: <a href=\"https://doi.org/10.1016/j.icarus.2017.06.030\">10.1016/j.icarus.2017.06.030</a>\n",
    "\n",
    "<a class=\"anchor\" id=\"Raymond09\"></a>Raymond, S. N., O'Brien, D. P., Morbidelli, A., & Kaib, N. A. 2009,\n",
    "  Icarus, 203, 644, doi: <a href=\"https://doi.org/10.1016/j.icarus.2009.05.016\">10.1016/j.icarus.2009.05.016</a>\n",
    "\n",
    "<a class=\"anchor\" id=\"Raymond13\"></a>Raymond, S. N., Schlichting, H. E., Hersant, F., & Selsis, F. 2013, Icarus,\n",
    "  226, 671, doi: <a href=\"https://doi.org/10.1016/j.icarus.2013.06.019\">10.1016/j.icarus.2013.06.019</a>\n",
    "\n",
    "<a class=\"anchor\" id=\"Reufer12\"></a>Reufer, A., Meier, M. M. M., Benz, W., & Wieler, R. 2012, Icarus,\n",
    "  221, 296, doi: <a href=\"https://doi.org/10.1016/j.icarus.2012.07.021\">10.1016/j.icarus.2012.07.021</a>\n",
    "\n",
    "<a class=\"anchor\" id=\"Richardson00\"></a>Richardson, D. C., Quinn, T., Stadel, J., & Lake, G. 2000, Icarus,\n",
    "  143, 45, doi: <a href=\"https://doi.org/10.1006/icar.1999.6243\">10.1006/icar.1999.6243</a>\n",
    "\n",
    "<a class=\"anchor\" id=\"Rubie16\"></a>Rubie, D. C., Laurenz, V., Jacobson, S. A., et al. 2016, Science, 353,\n",
    "  1141, doi: <a href=\"https://doi.org/10.1126/science.aaf6919\">10.1126/science.aaf6919</a>\n",
    "\n",
    "<a class=\"anchor\" id=\"Rufu17\"></a>Rufu, R., Aharonson, O., & Perets, H. B. 2017, Nature Geoscience, 10,\n",
    "  89, doi: <a href=\"https://doi.org/10.1038/ngeo2866\">10.1038/ngeo2866</a>\n",
    "\n",
    "<a class=\"anchor\" id=\"Schlichting12\"></a>Schlichting, H. E., Warren, P. H., & Yin, Q.-Z. 2012, The Astrophysical\n",
    "  Journal, 752, 8, doi: <a href=\"https://doi.org/10.1088/0004-637x/752/1/8\">10.1088/0004-637x/752/1/8</a>\n",
    "\n",
    "<a class=\"anchor\" id=\"Scott18\"></a>Scott, E. R. D., Krot, A. N., & Sanders, I. S. 2018, ApJ, 854, 164,\n",
    "  doi: <a href=\"https://doi.org/10.3847/1538-4357/aaa5a5\">10.3847/1538-4357/aaa5a5</a>\n",
    "\n",
    "<a class=\"anchor\" id=\"Stadel01\"></a>Stadel, J. G. 2001, PhD thesis, UNIVERSITY OF WASHINGTON\n",
    "\n",
    "<a class=\"anchor\" id=\"Stewart12\"></a>Stewart, S. T., & Leinhardt, Z. M. 2012, ApJ, 751, 32,\n",
    "  doi: <a href=\"https://doi.org/10.1088/0004-637X/751/1/32\">10.1088/0004-637X/751/1/32</a>\n",
    "\n",
    "<a class=\"anchor\" id=\"Suli21\"></a>S&uuml;li, &Aacute;. 2021, MNRAS, 503, 4700, doi: <a href=\"https://doi.org/10.1093/mnras/stab669\">10.1093/mnras/stab669</a>\n",
    "\n",
    "<a class=\"anchor\" id=\"Touboul07\"></a>Touboul, M., Kleine, T., Bourdon, B., Palme, H., & Wieler, R. 2007, Nature,\n",
    "  450, 1206, doi: <a href=\"https://doi.org/10.1038/nature06428\">10.1038/nature06428</a>\n",
    "\n",
    "<a class=\"anchor\" id=\"Trinquier09\"></a>Trinquier, A., Elliott, T., Ulfbeck, D., et al. 2009, Science, 324,\n",
    "  374, doi: <a href=\"https://doi.org/10.1126/science.1168221\">10.1126/science.1168221</a>\n",
    "\n",
    "<a class=\"anchor\" id=\"numpy\"></a>Van Der Walt, S., Colbert, S. C., & Varoquaux, G. 2011, Computing in Science\n",
    "  & Engineering, 13, 22\n",
    "\n",
    "<a class=\"anchor\" id=\"Walker09\"></a>Walker, R. J. 2009, Geochemistry, 69, 101,\n",
    "  doi: <a href=\"https://doi.org/10.1016/j.chemer.2008.10.001\">10.1016/j.chemer.2008.10.001</a>\n",
    "\n",
    "<a class=\"anchor\" id=\"Walsh19\"></a>Walsh, K. J., & Levison, H. F. 2019, Icarus, 329, 88,\n",
    "  doi: <a href=\"https://doi.org/10.1016/j.icarus.2019.03.031\">10.1016/j.icarus.2019.03.031</a>\n",
    "\n",
    "<a class=\"anchor\" id=\"Walsh11\"></a>Walsh, K. J., Morbidelli, A., Raymond, S. N., O'Brien, D. P., &\n",
    "  Mandell, A. M. 2011, Nature, 475, 206, doi: <a href=\"https://doi.org/10.1038/nature10201\">10.1038/nature10201</a>\n",
    "\n",
    "<a class=\"anchor\" id=\"Warren11\"></a>Warren, P. H. 2011, Earth and Planetary Science Letters, 311, 93,\n",
    "  doi: <a href=\"https://doi.org/10.1016/j.epsl.2011.08.047\">10.1016/j.epsl.2011.08.047</a>\n",
    "\n",
    "<a class=\"anchor\" id=\"Wiechert01\"></a>Wiechert, U., Halliday, A. N., Lee, D. C., et al. 2001, Science, 294,\n",
    "  345, doi: <a href=\"https://doi.org/10.1126/science.1063037\">10.1126/science.1063037</a>\n",
    "\n",
    "<a class=\"anchor\" id=\"Wood06\"></a>Wood, B. J., Walter, M. J., & Wade, J. 2006, Nature, 441, 825,\n",
    "  doi: <a href=\"https://doi.org/10.1038/nature04763\">10.1038/nature04763</a>\n",
    "\n",
    "---"
   ]
  },
  {
   "cell_type": "markdown",
   "metadata": {
    "tags": []
   },
   "source": [
    "## Appendix"
   ]
  },
  {
   "cell_type": "markdown",
   "metadata": {},
   "source": [
    "#### core similarity"
   ]
  },
  {
   "cell_type": "code",
   "execution_count": 19,
   "metadata": {},
   "outputs": [
    {
     "name": "stderr",
     "output_type": "stream",
     "text": [
      "/var/folders/h6/hmmnv04938n9h_3t1mpr6zp40000gq/T/ipykernel_17787/4083915726.py:35: RuntimeWarning: divide by zero encountered in true_divide\n",
      "  mhist = (ssj.origin[indj[i]]-ssj.cf[indj[i]]*ssj.corigin[indj[i]])/(1-ssj.cf[indj[i]])\n",
      "/opt/local/Library/Frameworks/Python.framework/Versions/3.8/lib/python3.8/site-packages/numpy/core/_methods.py:178: RuntimeWarning: invalid value encountered in reduce\n",
      "  ret = umr_sum(arr, axis, dtype, out, keepdims, where=where)\n"
     ]
    },
    {
     "name": "stdout",
     "output_type": "stream",
     "text": [
      "[0.99911417 0.99943106 0.99965692 ... 0.99999969 0.9999755  0.99999985]\n",
      "[0.21211099 0.22596468 0.20432679 ... 0.34957308 0.34722822 0.34956914]\n"
     ]
    },
    {
     "name": "stderr",
     "output_type": "stream",
     "text": [
      "/var/folders/h6/hmmnv04938n9h_3t1mpr6zp40000gq/T/ipykernel_17787/4083915726.py:60: RuntimeWarning: divide by zero encountered in true_divide\n",
      "  mhist = (ssj.origin[indj[i]]-ssj.cf[indj[i]]*ssj.corigin[indj[i]])/(1-ssj.cf[indj[i]])\n"
     ]
    },
    {
     "name": "stdout",
     "output_type": "stream",
     "text": [
      "[0.9999352  0.99991652 0.99982014 ... 0.98654521 0.99962457 0.87075719]\n",
      "[0.2175311  0.21967279 0.21703247 ... 0.39180287 0.37194164 0.99185857]\n"
     ]
    }
   ],
   "source": [
    "simcut = 0.5\n",
    "\n",
    "simsG = ['022GTJf6hgas/','022GTJf6hgas_2/','035GTJf6hgas/']#,'/cfGTlow/022GTJf6latehg/','/cfGTlow/022GTJf6hydrogasf/']\n",
    "#,'/cfGTruns/022GTJf6nogas/'\n",
    "#'/cfGTlow/022GTJf6nogas/'\n",
    "\n",
    "\n",
    "simsc = ['022f6sgas_4/','022f6sgas_3/','035f6sgas/','035f6sgas_2/']\n",
    "#,'/cfGTruns/022f6nogas/']\n",
    "#'/cfGTlow/035f6nogas/'\n",
    "\n",
    "rarray = npy.array([])\n",
    "marray = npy.array([])\n",
    "cfarray = npy.array([])\n",
    "rarrayc = npy.array([])\n",
    "marrayc = npy.array([])\n",
    "cfarrayc = npy.array([])\n",
    "\n",
    "j_low = 0         \n",
    "\n",
    "for sim in simsG:\n",
    "    ssj = pkd.ss()\n",
    "    paramj = pkd.readparam(path+sim+'ss.par')\n",
    "    ssj.read(path+sim+'ss.{:0>10d}'.format(int(paramj['nSteps'])),extras=True)\n",
    "    ssj.calcOE()\n",
    "    sorderj = npy.argsort(ssj.m)[::-1]\n",
    "    indj = sorderj[(ssj.a[sorderj]<3.5)*(ssj.e[sorderj]<1.)]\n",
    "    indlenj = len(indj)\n",
    "\n",
    "\n",
    "    #for k in range(len(narraytemp)):\n",
    "    resarr = npy.zeros(indlenj)\n",
    "    \n",
    "    for i in range(0,indlenj,1):\n",
    "        mhist = (ssj.origin[indj[i]]-ssj.cf[indj[i]]*ssj.corigin[indj[i]])/(1-ssj.cf[indj[i]])\n",
    "        res = npy.corrcoef(mhist,ssj.corigin[indj[i]])\n",
    "        resarr[i]=res[0,1]\n",
    "        \n",
    "    if sim.count('low')>0 and j_low == 0:\n",
    "         j_low = len(rarray)\n",
    "    rarray = npy.append(rarray,resarr)\n",
    "    marray = npy.append(marray,ssj.m[indj])\n",
    "    cfarray = npy.append(cfarray,ssj.cf[indj])\n",
    "print(rarray)\n",
    "print(cfarray)\n",
    "if j_low==0:\n",
    "    j_low=len(rarray)\n",
    "\n",
    "for sim in simsc:\n",
    "    ssj = pkd.ss()\n",
    "    paramj = pkd.readparam(path+sim+'ss.par')\n",
    "    ssj.read(path+sim+'ss.{:0>10d}'.format(int(paramj['nSteps'])),extras=True)\n",
    "    ssj.calcOE()\n",
    "    sorderj = npy.argsort(ssj.m)[::-1]\n",
    "    indj = sorderj[(ssj.a[sorderj]<3.5)*(ssj.e[sorderj]<1.)]\n",
    "    indlenj = len(indj)\n",
    "\n",
    "    resarr = npy.zeros(indlenj)\n",
    "    for i in range(0,indlenj,1):\n",
    "        mhist = (ssj.origin[indj[i]]-ssj.cf[indj[i]]*ssj.corigin[indj[i]])/(1-ssj.cf[indj[i]])\n",
    "        res = npy.corrcoef(mhist,ssj.corigin[indj[i]])\n",
    "        resarr[i]=res[0,1]\n",
    "    \n",
    "    rarrayc = npy.append(rarrayc,resarr)\n",
    "    marrayc = npy.append(marrayc,ssj.m[indj])\n",
    "    cfarrayc = npy.append(cfarrayc,ssj.cf[indj])\n",
    "print(rarrayc)\n",
    "print(cfarrayc)"
   ]
  },
  {
   "cell_type": "code",
   "execution_count": 20,
   "metadata": {},
   "outputs": [
    {
     "name": "stdout",
     "output_type": "stream",
     "text": [
      "2353 203\n",
      "0.63089713459539 0.5793063260978387\n",
      "8929 327\n",
      "0.77040208739019 0.0 0.99996844641603\n"
     ]
    },
    {
     "data": {
      "image/png": "[encoded data removed]",
      "text/plain": [
       "<Figure size 432x288 with 1 Axes>"
      ]
     },
     "metadata": {
      "image/png": {
       "height": 245,
       "width": 372
      },
      "needs_background": "light"
     },
     "output_type": "display_data"
    }
   ],
   "source": [
    "print(len(rarray),len(rarray[rarray<0.5]))\n",
    "print(npy.median(cfarray[rarray<0.5]),cfarray[rarray<0.5].mean())\n",
    "\n",
    "print(len(rarrayc),len(rarrayc[rarrayc<0.5]))\n",
    "print(npy.median(cfarrayc[rarrayc<0.5]),cfarrayc[rarrayc<0.5].min(),cfarrayc[rarrayc<0.5].max())\n",
    "\n",
    "plt.hist(cfarray[rarray<0.5],bins=20)\n",
    "plt.show()"
   ]
  },
  {
   "cell_type": "code",
   "execution_count": 21,
   "metadata": {},
   "outputs": [
    {
     "name": "stdout",
     "output_type": "stream",
     "text": [
      "[1.00000000e-06 1.71132830e-06 2.92864456e-06 5.01187234e-06\n",
      " 8.57695899e-06 1.46779927e-05 2.51188643e-05 4.29866235e-05\n",
      " 7.35642254e-05 1.25892541e-04 2.15443469e-04 3.68694506e-04\n",
      " 6.30957344e-04 1.07977516e-03 1.84784980e-03 3.16227766e-03\n",
      " 5.41169527e-03 9.26118728e-03 1.58489319e-02 2.71227258e-02\n",
      " 4.64158883e-02 7.94328235e-02 1.35935639e-01 2.32630507e-01\n",
      " 3.98107171e-01 6.81292069e-01 1.16591440e+00 1.99526231e+00\n",
      " 3.41454887e+00 5.84341413e+00 1.00000000e+01] [-1.         -0.93333333 -0.86666667 -0.8        -0.73333333 -0.66666667\n",
      " -0.6        -0.53333333 -0.46666667 -0.4        -0.33333333 -0.26666667\n",
      " -0.2        -0.13333333 -0.06666667  0.          0.06666667  0.13333333\n",
      "  0.2         0.26666667  0.33333333  0.4         0.46666667  0.53333333\n",
      "  0.6         0.66666667  0.73333333  0.8         0.86666667  0.93333333\n",
      "  1.        ]\n"
     ]
    },
    {
     "data": {
      "image/png": "[encoded data removed]",
      "text/plain": [
       "<Figure size 432x288 with 2 Axes>"
      ]
     },
     "metadata": {
      "image/png": {
       "height": 261,
       "width": 374
      },
      "needs_background": "light"
     },
     "output_type": "display_data"
    }
   ],
   "source": [
    "mbin = npy.logspace(-6,1.0,31)\n",
    "ccbin = npy.linspace(-1.0,1.0,31)\n",
    "print(mbin,ccbin)\n",
    "#plt.hist2d(marray/mearth,rarray,bins=(mbin,ccbin),norm=LogNorm())\n",
    "plt.scatter(marray/mearth,rarray,c=cfarray,s=8)\n",
    "#plt.scatter(marrayc,rarrayc)\n",
    "plt.semilogx()\n",
    "plt.colorbar()\n",
    "plt.ylim(-1.04,1.04)\n",
    "plt.ylabel('Correlation')\n",
    "plt.xlabel('Mass')\n",
    "plt.minorticks_on()\n",
    "plt.show()"
   ]
  },
  {
   "cell_type": "markdown",
   "metadata": {},
   "source": [
    "#### Pie plots"
   ]
  },
  {
   "cell_type": "code",
   "execution_count": 22,
   "metadata": {},
   "outputs": [],
   "source": [
    "ncols = 1680 #84  #columns for pie plot large to give higher distance resolution\n",
    "hmax = 0.15  #0.2,0.5  # maximum for inset histograms\n",
    "pn  = 2    # protoplanet to highlight\n",
    "pnc = 0    # protoplanet to highlight - calm sim\n",
    "rscale = 5.7e5  #3.e4 # scaling factor for planet pies\n",
    "\n",
    "core = False\n",
    "\n",
    "if core:\n",
    "    nrows = 480 #24  # rows for pie plot\n",
    "else:\n",
    "    nrows = 240 #12\n"
   ]
  },
  {
   "cell_type": "code",
   "execution_count": 23,
   "metadata": {},
   "outputs": [
    {
     "data": {
      "image/png": "[encoded data removed]",
      "text/plain": [
       "<Figure size 648x129.168 with 17 Axes>"
      ]
     },
     "metadata": {
      "image/png": {
       "height": 138,
       "width": 655
      },
      "needs_background": "light"
     },
     "output_type": "display_data"
    }
   ],
   "source": [
    "fig = plt.figure(figsize=(9,1.794))\n",
    "\n",
    "plt.subplots_adjust(left=0.005,right=0.995,top=0.98,bottom=0.28)\n",
    "\n",
    "\n",
    "big_plot = fig.add_subplot(111)\n",
    "big_plot.set_xlim([axmin,axmax])\n",
    "big_plot.set_ylim([0,1])\n",
    "big_plot.axes.get_yaxis().set_visible(False)\n",
    "big_plot.axes.get_xaxis().set_visible(False)\n",
    "plt.minorticks_on()\n",
    "\n",
    "if core:\n",
    "    big_plot.text(1.7,0.76,r'Mantle')\n",
    "    big_plot.text(1.7,0.28,r'Core')\n",
    "    big_plot.text(amin+0.04*nbins,-0.16,r'Semi-Major Axis (au)')\n",
    "else:\n",
    "    big_plot.text(amin+0.04*nbins,-0.35,r'Semi-Major Axis (au)',fontsize=10)\n",
    "#big_plot.set_ylabel('')\n",
    "#big_plot.set_xticklabels('')\n",
    "\n",
    "#cmap = ListedColormap(['#A30000','#FF0000','#FF8F00','#FFEC00','#8EFF00','#1EFF00','#06FFC6','#0093FF','#0000FF','#6053FF'])\n",
    "\n",
    "\n",
    "if core:\n",
    "    if nbins==10:\n",
    "        ax = fig.add_axes([0.05, 0.15, 0.9, 0.05])#0.28\n",
    "        tickstep=0.1\n",
    "    if nbins==25:\n",
    "        ax = fig.add_axes([0.024, 0.15, 0.952, 0.05])#0.28\n",
    "        tickstep=0.5\n",
    "else:\n",
    "    if nbins==10:\n",
    "        ax = fig.add_axes([0.05, 0.28, 0.9, 0.05])#0.28\n",
    "        tickstep=0.1\n",
    "    if nbins==25:\n",
    "        ax = fig.add_axes([0.024, 0.28, 0.952, 0.05])#0.28\n",
    "        tickstep=0.5\n",
    "cb1 = mpl.colorbar.ColorbarBase(ax, cmap=cmap, norm=cnorm, values=cval, boundaries=npy.linspace(amin,amax,nbins+1), orientation='horizontal',drawedges=False,ticks=npy.arange(amin,amax+tickstep,tickstep))\n",
    "\n",
    "\n",
    "\n",
    "planets = npy.where(ssG.m >= minembmass)[0]\n",
    "\n",
    "ob = ssG.origin#[sorder]\n",
    "\n",
    "a = ssG.a[planets]\n",
    "r = ssG.r[planets]\n",
    "hist = ob[planets,:] #:,\n",
    "m = ssG.m[planets]\n",
    "\n",
    "for i in range(len(a)):\n",
    "  if a[i] < axmax and a[i] >= 0.5:\n",
    "    piey=ncols*int(0.48*nrows)\n",
    "    piex=1+int((a[i]-axmin)/(axmax-axmin)*(ncols-1))\n",
    "    pier=r[i]*rscale\n",
    "    fig.add_subplot(nrows,ncols,piex+piey)\n",
    "    plt.pie(hist[i], colors=cmap(cnorm(cval)), radius=pier, wedgeprops={ 'linewidth' : 0.08 ,'edgecolor':'k'}, normalize=True)\n",
    "\n",
    "    if i==pn:\n",
    "        #print(len(hist[i]))\n",
    "        insx=0.68\n",
    "        insw=0.3\n",
    "        insy=0.47\n",
    "        insh=0.44\n",
    "        ax2=fig.add_axes([insx,insy,insw,insh])\n",
    "        ax2.bar(npy.arange(amin,amin+0.1*len(hist[i]),0.1),hist[i],width=0.1,color=cmap(cnorm(cval)),align='edge',edgecolor='k',lw=0.2)\n",
    "        ax2.axvline(a[i],ls='--',color='k',zorder=0)\n",
    "        ax2.set_ylabel('Mass fraction',fontsize=9)\n",
    "        ax2.axis([0.5,3.0,0,hmax])\n",
    "        #ax2.axes.get_xaxis().set_visible(False)\n",
    "        ax2.minorticks_on()\n",
    "        #ax2.set_xticklabels('')\n",
    "        big_plot.annotate(text='',xy=(a[i],0.7),xytext=(2.05,0.9),xycoords='data',arrowprops=dict(arrowstyle='-',color='0.3'),zorder=0)\n",
    "        big_plot.annotate(text='',xy=(a[i],0.35),xytext=(2.05,0.27),xycoords='data',arrowprops=dict(arrowstyle='-',color='0.3'),zorder=0)\n",
    "\n",
    "\n",
    "plt.show()\n"
   ]
  },
  {
   "cell_type": "code",
   "execution_count": 24,
   "metadata": {},
   "outputs": [
    {
     "data": {
      "image/png": "[encoded data removed]",
      "text/plain": [
       "<Figure size 648x129.168 with 20 Axes>"
      ]
     },
     "metadata": {
      "image/png": {
       "height": 138,
       "width": 655
      },
      "needs_background": "light"
     },
     "output_type": "display_data"
    }
   ],
   "source": [
    "# calm accretion simulation\n",
    "\n",
    "fig = plt.figure(figsize=(9,1.794))\n",
    "\n",
    "plt.subplots_adjust(left=0.005,right=0.995,top=0.98,bottom=0.28)\n",
    "\n",
    "\n",
    "big_plot = fig.add_subplot(111)\n",
    "big_plot.set_xlim([axmin,axmax])\n",
    "big_plot.set_ylim([0,1])\n",
    "big_plot.axes.get_yaxis().set_visible(False)\n",
    "big_plot.axes.get_xaxis().set_visible(False)\n",
    "plt.minorticks_on()\n",
    "#big_plot.set_xlabel(r'Semi-Major Axis', fontsize=16)\n",
    "big_plot.text(amin+0.04*nbins,-0.35,r'Semi-major axis (au)',fontsize=10)\n",
    "#big_plot.set_ylabel('')\n",
    "#big_plot.set_xticklabels('')\n",
    "\n",
    "#cmap = ListedColormap(['#A30000','#FF0000','#FF8F00','#FFEC00','#8EFF00','#1EFF00','#06FFC6','#0093FF','#0000FF','#6053FF'])\n",
    "\n",
    "if nbins==10:\n",
    "    ax = fig.add_axes([0.05, 0.28, 0.9, 0.05])#0.28\n",
    "    tickstep=0.1\n",
    "if nbins==25:\n",
    "    ax = fig.add_axes([0.024, 0.28, 0.952, 0.05])#0.28\n",
    "    tickstep=0.5\n",
    "cb1 = mpl.colorbar.ColorbarBase(ax, cmap=cmap, norm=cnorm, values=cval, boundaries=npy.linspace(amin,amax,nbins+1), orientation='horizontal',drawedges=False,ticks=npy.arange(amin,amax+tickstep,tickstep))\n",
    "\n",
    "\n",
    "paramc = pkd.readparam(loc_c+'ss.par')\n",
    "ssc = pkd.ss()\n",
    "ssc.read(loc_c+'ss.{:0>10d}'.format(int(paramc['nSteps'])),extras=True)\n",
    "ssc.calcOE()\n",
    "sorderc = npy.argsort(ssc.m)[::-1]\n",
    "indc = sorderc[(ssc.a[sorderc]<3.5)*(ssc.e[sorderc]<1.)]\n",
    "planets = npy.where(ssc.m[indc] >= minembmass)[0]\n",
    "\n",
    "\n",
    "a = ssc.a[indc[planets]]\n",
    "r = ssc.r[indc[planets]]\n",
    "hist = (ssc.origin[indc])[planets,:] #:,\n",
    "m = ssc.m[indc[planets]]\n",
    "\n",
    "\n",
    "for i in range(len(a)):\n",
    "  if a[i] < axmax and a[i] >= 0.5:\n",
    "    piey=ncols*int(0.48*nrows)\n",
    "    piex=1+int((a[i]-axmin)/(axmax-axmin)*(ncols-1))\n",
    "    pier=r[i]*rscale\n",
    "    fig.add_subplot(nrows,ncols,piex+piey)\n",
    "    plt.pie(hist[i], colors=cmap(cnorm(cval)), radius=pier, wedgeprops={ 'linewidth' : 0.08 ,'edgecolor':'k'}, normalize=True)\n",
    "    if i==pnc:\n",
    "        #print(len(hist[i]))\n",
    "        insx=0.68\n",
    "        insw=0.3\n",
    "        insy=0.47\n",
    "        insh=0.44\n",
    "        ax2=fig.add_axes([insx,insy,insw,insh])\n",
    "        ax2.bar(npy.arange(amin,amin+0.1*len(hist[i]),0.1),hist[i],width=0.1,color=cmap(cnorm(cval)),align='edge',edgecolor='k',lw=0.2)\n",
    "        ax2.axvline(a[i],ls='--',color='k',zorder=0)\n",
    "        ax2.set_ylabel('Mass fraction',fontsize=9)\n",
    "        ax2.axis([0.5,3.0,0,0.5])#hmax\n",
    "        #ax2.axes.get_xaxis().set_visible(False)\n",
    "        ax2.minorticks_on()\n",
    "        #ax2.set_xticklabels('')\n",
    "        big_plot.annotate(text='',xy=(a[i],0.7),xytext=(2.05,0.9),xycoords='data',arrowprops=dict(arrowstyle='-',color='0.3'),zorder=0)\n",
    "        big_plot.annotate(text='',xy=(a[i],0.35),xytext=(2.05,0.27),xycoords='data',arrowprops=dict(arrowstyle='-',color='0.3'),zorder=0)\n",
    "\n",
    "\n",
    "#plt.tight_layout()\n",
    "plt.show()\n"
   ]
  },
  {
   "cell_type": "code",
   "execution_count": null,
   "metadata": {},
   "outputs": [],
   "source": []
  }
 ],
 "metadata": {
  "kernelspec": {
   "display_name": "Python 3 (ipykernel)",
   "language": "python",
   "name": "python3"
  },
  "language_info": {
   "codemirror_mode": {
    "name": "ipython",
    "version": 3
   },
   "file_extension": ".py",
   "mimetype": "text/x-python",
   "name": "python",
   "nbconvert_exporter": "python",
   "pygments_lexer": "ipython3",
   "version": "3.8.12"
  },
  "widgets": {
   "application/vnd.jupyter.widget-state+json": {
    "state": {},
    "version_major": 2,
    "version_minor": 0
   }
  }
 },
 "nbformat": 4,
 "nbformat_minor": 4
}
